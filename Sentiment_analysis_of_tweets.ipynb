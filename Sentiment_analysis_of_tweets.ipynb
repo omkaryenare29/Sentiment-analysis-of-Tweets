{
  "metadata": {
    "kernelspec": {
      "name": "python3",
      "display_name": "Python 3",
      "language": "python"
    },
    "language_info": {
      "name": "python",
      "version": "3.10.12",
      "mimetype": "text/x-python",
      "codemirror_mode": {
        "name": "ipython",
        "version": 3
      },
      "pygments_lexer": "ipython3",
      "nbconvert_exporter": "python",
      "file_extension": ".py"
    },
    "colab": {
      "provenance": [],
      "gpuType": "V28",
      "name": "Sentiment analysis of tweets"
    },
    "accelerator": "TPU",
    "kaggle": {
      "accelerator": "gpu",
      "dataSources": [
        {
          "sourceId": 10696621,
          "sourceType": "datasetVersion",
          "datasetId": 6628358
        }
      ],
      "isInternetEnabled": true,
      "language": "python",
      "sourceType": "notebook",
      "isGpuEnabled": true
    }
  },
  "nbformat_minor": 0,
  "nbformat": 4,
  "cells": [
    {
      "cell_type": "markdown",
      "source": [
        "## **Objective:** To classify the sentiment of tweets into one of the three categories : positive , negative ,  neural"
      ],
      "metadata": {
        "id": "Db2GYK4Wv48_"
      }
    },
    {
      "cell_type": "markdown",
      "source": [
        "### Data description\n",
        "\n",
        "\n",
        "*   Source - Twitter: coming from a project on Kaggle\n",
        "*   Description: passengers tweets about airline performance, having sentiments about their journey\n",
        "\n"
      ],
      "metadata": {
        "id": "wLiFbvXF0VUt"
      }
    },
    {
      "cell_type": "markdown",
      "source": [
        "## Learning Outcomes:\n",
        "\n",
        "\n",
        "*   Text based EDA\n",
        "*   Basic understanding of text pre-processing\n",
        "*   What to do after text pre-processing\n",
        "    * Bag of words\n",
        "    * tF-idf\n",
        "*   Build the classification model\n",
        "*   Tune and Evaluate the Model performance\n"
      ],
      "metadata": {
        "id": "FXqRgqN_0qTR"
      }
    },
    {
      "cell_type": "code",
      "source": [
        "!pip install contractions"
      ],
      "metadata": {
        "colab": {
          "base_uri": "https://localhost:8080/"
        },
        "id": "29PG6W5tv3BL",
        "outputId": "f99be1ea-f30a-43ff-9386-ea0050b1319c",
        "trusted": true,
        "execution": {
          "iopub.status.busy": "2025-02-08T15:18:51.200277Z",
          "iopub.execute_input": "2025-02-08T15:18:51.200571Z",
          "iopub.status.idle": "2025-02-08T15:18:56.207669Z",
          "shell.execute_reply.started": "2025-02-08T15:18:51.200546Z",
          "shell.execute_reply": "2025-02-08T15:18:56.206577Z"
        }
      },
      "outputs": [
        {
          "name": "stdout",
          "text": "Collecting contractions\n  Downloading contractions-0.1.73-py2.py3-none-any.whl.metadata (1.2 kB)\nCollecting textsearch>=0.0.21 (from contractions)\n  Downloading textsearch-0.0.24-py2.py3-none-any.whl.metadata (1.2 kB)\nCollecting anyascii (from textsearch>=0.0.21->contractions)\n  Downloading anyascii-0.3.2-py3-none-any.whl.metadata (1.5 kB)\nCollecting pyahocorasick (from textsearch>=0.0.21->contractions)\n  Downloading pyahocorasick-2.1.0-cp310-cp310-manylinux_2_5_x86_64.manylinux1_x86_64.manylinux_2_12_x86_64.manylinux2010_x86_64.whl.metadata (13 kB)\nDownloading contractions-0.1.73-py2.py3-none-any.whl (8.7 kB)\nDownloading textsearch-0.0.24-py2.py3-none-any.whl (7.6 kB)\nDownloading anyascii-0.3.2-py3-none-any.whl (289 kB)\n\u001b[2K   \u001b[90m━━━━━━━━━━━━━━━━━━━━━━━━━━━━━━━━━━━━━━━━\u001b[0m \u001b[32m289.9/289.9 kB\u001b[0m \u001b[31m7.3 MB/s\u001b[0m eta \u001b[36m0:00:00\u001b[0m:00:01\u001b[0m\n\u001b[?25hDownloading pyahocorasick-2.1.0-cp310-cp310-manylinux_2_5_x86_64.manylinux1_x86_64.manylinux_2_12_x86_64.manylinux2010_x86_64.whl (110 kB)\n\u001b[2K   \u001b[90m━━━━━━━━━━━━━━━━━━━━━━━━━━━━━━━━━━━━━━━━\u001b[0m \u001b[32m110.7/110.7 kB\u001b[0m \u001b[31m7.1 MB/s\u001b[0m eta \u001b[36m0:00:00\u001b[0m\n\u001b[?25hInstalling collected packages: pyahocorasick, anyascii, textsearch, contractions\nSuccessfully installed anyascii-0.3.2 contractions-0.1.73 pyahocorasick-2.1.0 textsearch-0.0.24\n",
          "output_type": "stream"
        }
      ],
      "execution_count": null
    },
    {
      "cell_type": "code",
      "source": [
        "import re, string, unicodedata   # import Regex, String, Unicodedata\n",
        "import contractions\n",
        "from bs4 import BeautifulSoup\n",
        "\n",
        "import numpy as np\n",
        "import pandas as pd\n",
        "import nltk   # import Natural Lanuage tool kit\n",
        "\n",
        "nltk.download('stopwords')\n",
        "nltk.download('punkt')\n",
        "nltk.download('wordnet')\n",
        "\n",
        "from nltk.corpus import stopwords                        # import Stopwords\n",
        "from nltk.tokenize import word_tokenize, sent_tokenize   # import Tokenizer\n",
        "from nltk.stem import WordNetLemmatizer                  # import Lemmatizer\n",
        "\n",
        "from sklearn.feature_extraction.text import TfidfVectorizer\n",
        "\n",
        "import matplotlib.pyplot as plt\n",
        "import seaborn as sns"
      ],
      "metadata": {
        "colab": {
          "base_uri": "https://localhost:8080/"
        },
        "id": "MPbuA4il0NYt",
        "outputId": "cccd7b60-82d7-4bae-b5f2-ca87a9d4ef72",
        "trusted": true,
        "execution": {
          "iopub.status.busy": "2025-02-08T15:18:56.209727Z",
          "iopub.execute_input": "2025-02-08T15:18:56.210041Z",
          "iopub.status.idle": "2025-02-08T15:18:58.413356Z",
          "shell.execute_reply.started": "2025-02-08T15:18:56.210017Z",
          "shell.execute_reply": "2025-02-08T15:18:58.41274Z"
        }
      },
      "outputs": [
        {
          "name": "stdout",
          "text": "[nltk_data] Downloading package stopwords to /usr/share/nltk_data...\n[nltk_data]   Package stopwords is already up-to-date!\n[nltk_data] Downloading package punkt to /usr/share/nltk_data...\n[nltk_data]   Package punkt is already up-to-date!\n[nltk_data] Downloading package wordnet to /usr/share/nltk_data...\n[nltk_data]   Package wordnet is already up-to-date!\n",
          "output_type": "stream"
        }
      ],
      "execution_count": null
    },
    {
      "cell_type": "markdown",
      "source": [
        "### Load the data into Pandas DataFrame"
      ],
      "metadata": {
        "id": "SGJrN3DX2aAK"
      }
    },
    {
      "cell_type": "code",
      "source": [
        "data = pd.read_csv('/kaggle/input/tweets/Tweets.csv')"
      ],
      "metadata": {
        "id": "1UGGIQWk2G5I",
        "trusted": true,
        "execution": {
          "iopub.status.busy": "2025-02-08T15:18:58.414582Z",
          "iopub.execute_input": "2025-02-08T15:18:58.415023Z",
          "iopub.status.idle": "2025-02-08T15:18:58.549287Z",
          "shell.execute_reply.started": "2025-02-08T15:18:58.414993Z",
          "shell.execute_reply": "2025-02-08T15:18:58.548648Z"
        }
      },
      "outputs": [],
      "execution_count": null
    },
    {
      "cell_type": "code",
      "source": [
        "data.sample(2).T"
      ],
      "metadata": {
        "colab": {
          "base_uri": "https://localhost:8080/",
          "height": 520
        },
        "id": "x_KGS3LX2mKD",
        "outputId": "b25933e7-8066-431f-88ec-3e0649b549f7",
        "trusted": true,
        "execution": {
          "iopub.status.busy": "2025-02-08T15:18:58.550009Z",
          "iopub.execute_input": "2025-02-08T15:18:58.550218Z",
          "iopub.status.idle": "2025-02-08T15:18:58.578716Z",
          "shell.execute_reply.started": "2025-02-08T15:18:58.5502Z",
          "shell.execute_reply": "2025-02-08T15:18:58.578Z"
        }
      },
      "outputs": [
        {
          "execution_count": 5,
          "output_type": "execute_result",
          "data": {
            "text/plain": "                                                                           7706  \\\ntweet_id                                                     569330095644659712   \nairline_sentiment                                                      positive   \nairline_sentiment_confidence                                                1.0   \nnegativereason                                                              NaN   \nnegativereason_confidence                                                   NaN   \nairline                                                                   Delta   \nairline_sentiment_gold                                                      NaN   \nname                                                                  aliashmia   \nnegativereason_gold                                                         NaN   \nretweet_count                                                                 0   \ntext                          @JetBlue you got yourselves hot ladies flying ...   \ntweet_coord                                                                 NaN   \ntweet_created                                         2015-02-21 18:57:27 -0800   \ntweet_location                                                              D.C   \nuser_timezone                                            Atlantic Time (Canada)   \n\n                                                                           2274  \ntweet_id                                                     569281144186908672  \nairline_sentiment                                                      negative  \nairline_sentiment_confidence                                             0.6565  \nnegativereason                                                       Can't Tell  \nnegativereason_confidence                                                0.3539  \nairline                                                                  United  \nairline_sentiment_gold                                                      NaN  \nname                                                                 ZachAlpert  \nnegativereason_gold                                                         NaN  \nretweet_count                                                                 0  \ntext                          @united quality work going on here. http://t.c...  \ntweet_coord                                                                 NaN  \ntweet_created                                         2015-02-21 15:42:56 -0800  \ntweet_location                                                      Chicago, IL  \nuser_timezone                                        Central Time (US & Canada)  ",
            "text/html": "<div>\n<style scoped>\n    .dataframe tbody tr th:only-of-type {\n        vertical-align: middle;\n    }\n\n    .dataframe tbody tr th {\n        vertical-align: top;\n    }\n\n    .dataframe thead th {\n        text-align: right;\n    }\n</style>\n<table border=\"1\" class=\"dataframe\">\n  <thead>\n    <tr style=\"text-align: right;\">\n      <th></th>\n      <th>7706</th>\n      <th>2274</th>\n    </tr>\n  </thead>\n  <tbody>\n    <tr>\n      <th>tweet_id</th>\n      <td>569330095644659712</td>\n      <td>569281144186908672</td>\n    </tr>\n    <tr>\n      <th>airline_sentiment</th>\n      <td>positive</td>\n      <td>negative</td>\n    </tr>\n    <tr>\n      <th>airline_sentiment_confidence</th>\n      <td>1.0</td>\n      <td>0.6565</td>\n    </tr>\n    <tr>\n      <th>negativereason</th>\n      <td>NaN</td>\n      <td>Can't Tell</td>\n    </tr>\n    <tr>\n      <th>negativereason_confidence</th>\n      <td>NaN</td>\n      <td>0.3539</td>\n    </tr>\n    <tr>\n      <th>airline</th>\n      <td>Delta</td>\n      <td>United</td>\n    </tr>\n    <tr>\n      <th>airline_sentiment_gold</th>\n      <td>NaN</td>\n      <td>NaN</td>\n    </tr>\n    <tr>\n      <th>name</th>\n      <td>aliashmia</td>\n      <td>ZachAlpert</td>\n    </tr>\n    <tr>\n      <th>negativereason_gold</th>\n      <td>NaN</td>\n      <td>NaN</td>\n    </tr>\n    <tr>\n      <th>retweet_count</th>\n      <td>0</td>\n      <td>0</td>\n    </tr>\n    <tr>\n      <th>text</th>\n      <td>@JetBlue you got yourselves hot ladies flying ...</td>\n      <td>@united quality work going on here. http://t.c...</td>\n    </tr>\n    <tr>\n      <th>tweet_coord</th>\n      <td>NaN</td>\n      <td>NaN</td>\n    </tr>\n    <tr>\n      <th>tweet_created</th>\n      <td>2015-02-21 18:57:27 -0800</td>\n      <td>2015-02-21 15:42:56 -0800</td>\n    </tr>\n    <tr>\n      <th>tweet_location</th>\n      <td>D.C</td>\n      <td>Chicago, IL</td>\n    </tr>\n    <tr>\n      <th>user_timezone</th>\n      <td>Atlantic Time (Canada)</td>\n      <td>Central Time (US &amp; Canada)</td>\n    </tr>\n  </tbody>\n</table>\n</div>"
          },
          "metadata": {}
        }
      ],
      "execution_count": null
    },
    {
      "cell_type": "markdown",
      "source": [
        "### Identifying the missing values"
      ],
      "metadata": {
        "id": "JoeChmLX27Zw"
      }
    },
    {
      "cell_type": "code",
      "source": [
        "data.isnull().sum()"
      ],
      "metadata": {
        "colab": {
          "base_uri": "https://localhost:8080/",
          "height": 554
        },
        "id": "hCgoW5bh23xr",
        "outputId": "6cdeddc3-a0fc-4c47-adfd-82a2c5b10bbe",
        "trusted": true,
        "execution": {
          "iopub.status.busy": "2025-02-08T15:18:58.579505Z",
          "iopub.execute_input": "2025-02-08T15:18:58.579736Z",
          "iopub.status.idle": "2025-02-08T15:18:58.596198Z",
          "shell.execute_reply.started": "2025-02-08T15:18:58.579716Z",
          "shell.execute_reply": "2025-02-08T15:18:58.595299Z"
        }
      },
      "outputs": [
        {
          "execution_count": 6,
          "output_type": "execute_result",
          "data": {
            "text/plain": "tweet_id                            0\nairline_sentiment                   0\nairline_sentiment_confidence        0\nnegativereason                   5462\nnegativereason_confidence        4118\nairline                             0\nairline_sentiment_gold          14600\nname                                0\nnegativereason_gold             14608\nretweet_count                       0\ntext                                0\ntweet_coord                     13621\ntweet_created                       0\ntweet_location                   4733\nuser_timezone                    4820\ndtype: int64"
          },
          "metadata": {}
        }
      ],
      "execution_count": null
    },
    {
      "cell_type": "code",
      "source": [
        "(data.isnull().sum()/data.shape[0])* 100"
      ],
      "metadata": {
        "colab": {
          "base_uri": "https://localhost:8080/",
          "height": 554
        },
        "id": "UmTYLxpS3EDn",
        "outputId": "5d72e9ba-993d-4c0a-bb83-9979737151e9",
        "trusted": true,
        "execution": {
          "iopub.status.busy": "2025-02-08T15:18:58.598775Z",
          "iopub.execute_input": "2025-02-08T15:18:58.599018Z",
          "iopub.status.idle": "2025-02-08T15:18:58.613147Z",
          "shell.execute_reply.started": "2025-02-08T15:18:58.598997Z",
          "shell.execute_reply": "2025-02-08T15:18:58.612308Z"
        }
      },
      "outputs": [
        {
          "execution_count": 7,
          "output_type": "execute_result",
          "data": {
            "text/plain": "tweet_id                         0.000000\nairline_sentiment                0.000000\nairline_sentiment_confidence     0.000000\nnegativereason                  37.308743\nnegativereason_confidence       28.128415\nairline                          0.000000\nairline_sentiment_gold          99.726776\nname                             0.000000\nnegativereason_gold             99.781421\nretweet_count                    0.000000\ntext                             0.000000\ntweet_coord                     93.039617\ntweet_created                    0.000000\ntweet_location                  32.329235\nuser_timezone                   32.923497\ndtype: float64"
          },
          "metadata": {}
        }
      ],
      "execution_count": null
    },
    {
      "cell_type": "markdown",
      "source": [
        "### EDA"
      ],
      "metadata": {
        "id": "4PfrHJJK3VtB"
      }
    },
    {
      "cell_type": "code",
      "source": [
        "data.shape"
      ],
      "metadata": {
        "colab": {
          "base_uri": "https://localhost:8080/"
        },
        "id": "WqY336DB3U1B",
        "outputId": "76c8fcc6-4a14-450e-9f5f-a9b250391b2e",
        "trusted": true,
        "execution": {
          "iopub.status.busy": "2025-02-08T15:18:58.61491Z",
          "iopub.execute_input": "2025-02-08T15:18:58.61513Z",
          "iopub.status.idle": "2025-02-08T15:18:58.628905Z",
          "shell.execute_reply.started": "2025-02-08T15:18:58.615111Z",
          "shell.execute_reply": "2025-02-08T15:18:58.62809Z"
        }
      },
      "outputs": [
        {
          "execution_count": 8,
          "output_type": "execute_result",
          "data": {
            "text/plain": "(14640, 15)"
          },
          "metadata": {}
        }
      ],
      "execution_count": null
    },
    {
      "cell_type": "code",
      "source": [
        "### Percentage of tweets by airline companies\n",
        "plt.subplots(figsize=(8,6))\n",
        "sns.countplot(data = data, x = 'airline', palette = \"rocket\")\n",
        "plt.show()"
      ],
      "metadata": {
        "colab": {
          "base_uri": "https://localhost:8080/",
          "height": 633
        },
        "id": "NSDC3twz3gtV",
        "outputId": "712e82f2-bc89-41b9-e705-489d383517ba",
        "trusted": true,
        "execution": {
          "iopub.status.busy": "2025-02-08T15:18:58.629782Z",
          "iopub.execute_input": "2025-02-08T15:18:58.630088Z",
          "iopub.status.idle": "2025-02-08T15:18:58.866557Z",
          "shell.execute_reply.started": "2025-02-08T15:18:58.630038Z",
          "shell.execute_reply": "2025-02-08T15:18:58.865495Z"
        }
      },
      "outputs": [
        {
          "output_type": "display_data",
          "data": {
            "text/plain": "<Figure size 800x600 with 1 Axes>",
            "image/png": "[encoded data removed]"
          },
          "metadata": {}
        }
      ],
      "execution_count": null
    },
    {
      "cell_type": "code",
      "source": [
        "### United Airlines has highest no. of tweets followed by US Airways"
      ],
      "metadata": {
        "id": "7wTv9CVw4UPY",
        "trusted": true,
        "execution": {
          "iopub.status.busy": "2025-02-08T15:18:58.867382Z",
          "iopub.execute_input": "2025-02-08T15:18:58.867646Z",
          "iopub.status.idle": "2025-02-08T15:18:58.871168Z",
          "shell.execute_reply.started": "2025-02-08T15:18:58.867624Z",
          "shell.execute_reply": "2025-02-08T15:18:58.870307Z"
        }
      },
      "outputs": [],
      "execution_count": null
    },
    {
      "cell_type": "code",
      "source": [
        "# Distributions of classes / sentiments across all tweets\n",
        "\n",
        "plt.subplots(figsize=(8,6))\n",
        "sns.countplot(data = data, x = 'airline_sentiment', palette = \"rocket\")\n",
        "plt.show()"
      ],
      "metadata": {
        "colab": {
          "base_uri": "https://localhost:8080/",
          "height": 629
        },
        "id": "oHNciFxf4yWZ",
        "outputId": "2fe616fe-ee71-48a9-dcd7-692ab7e5e0e2",
        "trusted": true,
        "execution": {
          "iopub.status.busy": "2025-02-08T15:18:58.872144Z",
          "iopub.execute_input": "2025-02-08T15:18:58.872441Z",
          "iopub.status.idle": "2025-02-08T15:18:58.999492Z",
          "shell.execute_reply.started": "2025-02-08T15:18:58.872411Z",
          "shell.execute_reply": "2025-02-08T15:18:58.998605Z"
        }
      },
      "outputs": [
        {
          "output_type": "display_data",
          "data": {
            "text/plain": "<Figure size 800x600 with 1 Axes>",
            "image/png": "[encoded data removed]"
          },
          "metadata": {}
        }
      ],
      "execution_count": null
    },
    {
      "cell_type": "code",
      "source": [
        "# Now airline wise distribution of Sentiments\n",
        "plt.figure(figsize=(8,6))\n",
        "sns.countplot(data = data, x = 'airline', hue = 'airline_sentiment', palette = \"rocket_r\")\n",
        "plt.show()"
      ],
      "metadata": {
        "colab": {
          "base_uri": "https://localhost:8080/",
          "height": 542
        },
        "id": "zL_Vpuwf5Bvy",
        "outputId": "2cbd909b-5f33-4059-9ce8-1e81ecee708e",
        "trusted": true,
        "execution": {
          "iopub.status.busy": "2025-02-08T15:18:59.000406Z",
          "iopub.execute_input": "2025-02-08T15:18:59.000762Z",
          "iopub.status.idle": "2025-02-08T15:18:59.198252Z",
          "shell.execute_reply.started": "2025-02-08T15:18:59.00073Z",
          "shell.execute_reply": "2025-02-08T15:18:59.197382Z"
        }
      },
      "outputs": [
        {
          "output_type": "display_data",
          "data": {
            "text/plain": "<Figure size 800x600 with 1 Axes>",
            "image/png": "[encoded data removed]"
          },
          "metadata": {}
        }
      ],
      "execution_count": null
    },
    {
      "cell_type": "code",
      "source": [
        "# United airlines, US airways, American airlines have comparitively highest number of negative comments within themselves"
      ],
      "metadata": {
        "id": "U3KRsTtH6BGg",
        "trusted": true,
        "execution": {
          "iopub.status.busy": "2025-02-08T15:18:59.199156Z",
          "iopub.execute_input": "2025-02-08T15:18:59.19946Z",
          "iopub.status.idle": "2025-02-08T15:18:59.202747Z",
          "shell.execute_reply.started": "2025-02-08T15:18:59.199427Z",
          "shell.execute_reply": "2025-02-08T15:18:59.201924Z"
        }
      },
      "outputs": [],
      "execution_count": null
    },
    {
      "cell_type": "code",
      "source": [
        "# Some negative tweets\n",
        "\n",
        "data[data['airline_sentiment'] == 'negative']['text'].sample(10).tolist()"
      ],
      "metadata": {
        "colab": {
          "base_uri": "https://localhost:8080/"
        },
        "id": "AjcD3KdCDsgs",
        "outputId": "d4aad552-1efc-4a59-c5f6-7fc2c48bfd78",
        "trusted": true,
        "execution": {
          "iopub.status.busy": "2025-02-08T15:18:59.203562Z",
          "iopub.execute_input": "2025-02-08T15:18:59.203764Z",
          "iopub.status.idle": "2025-02-08T15:18:59.222391Z",
          "shell.execute_reply.started": "2025-02-08T15:18:59.203743Z",
          "shell.execute_reply": "2025-02-08T15:18:59.221432Z"
        }
      },
      "outputs": [
        {
          "execution_count": 14,
          "output_type": "execute_result",
          "data": {
            "text/plain": "['@SouthwestAir not if its travel Credit you used to buy and it expires on the day you find a lower rate',\n '@USAirways @PhilaCarService looks like a long trip from cancun to philly? 9 hours Late Flight? Seriously?',\n \"@united it's almost like we're punished for living near a large metro area. EWR was top ranked for domestic delays. Not good\",\n '@AmericanAir your maint delay left us stuck in den!! Flight 1080.  Been on plane for 7 hrs.  Stop flying broke french planes!',\n \"@VirginAmerica hi! I just bked a cool birthday trip with you, but i can't add my elevate no. cause i entered my middle name during Flight Booking Problems 😢\",\n '@united i will never fly with you again. i went on vacation this week and you lost my bags both ways. now i have no clothes. thankyou',\n '@USAirways i have been patient.. especially the first time. i will never fly with you again',\n \"@USAirways there's over 50 people in line and only one agent!\",\n '@SouthwestAir why the delay on Flight 423 BDL to MCO? Need to get to Florida for the ☀️&amp; races in Daytona',\n \"@USAirways we might need a plane to get somewhere but just remember that you aren't the only choice #makeovertime#customerserviceplease\"]"
          },
          "metadata": {}
        }
      ],
      "execution_count": null
    },
    {
      "cell_type": "code",
      "source": [
        "data[data['airline_sentiment'] == 'negative'].sample(10)"
      ],
      "metadata": {
        "colab": {
          "base_uri": "https://localhost:8080/",
          "height": 904
        },
        "id": "ewSqvseNEo3X",
        "outputId": "b76e7ac5-2ead-40cf-dd84-3bf31aba7f42",
        "trusted": true,
        "execution": {
          "iopub.status.busy": "2025-02-08T15:18:59.223291Z",
          "iopub.execute_input": "2025-02-08T15:18:59.223544Z",
          "iopub.status.idle": "2025-02-08T15:18:59.249069Z",
          "shell.execute_reply.started": "2025-02-08T15:18:59.223521Z",
          "shell.execute_reply": "2025-02-08T15:18:59.248173Z"
        }
      },
      "outputs": [
        {
          "execution_count": 15,
          "output_type": "execute_result",
          "data": {
            "text/plain": "                 tweet_id airline_sentiment  airline_sentiment_confidence  \\\n1586   569654749055864832          negative                        1.0000   \n4326   570309156290367488          negative                        1.0000   \n9462   569923163259318274          negative                        1.0000   \n2024   569469326547222528          negative                        0.6811   \n14045  569674237079744512          negative                        1.0000   \n1854   569554815539290112          negative                        1.0000   \n9051   570267781859557377          negative                        1.0000   \n12460  570179236633432065          negative                        1.0000   \n7282   569693923183972352          negative                        1.0000   \n3224   568584434376577024          negative                        1.0000   \n\n               negativereason  negativereason_confidence     airline  \\\n1586   Customer Service Issue                     0.6756      United   \n4326                longlines                     0.6624   Southwest   \n9462   Customer Service Issue                     1.0000  US Airways   \n2024              Late Flight                     0.6811      United   \n14045        Cancelled Flight                     0.3610    American   \n1854              Late Flight                     1.0000      United   \n9051   Customer Service Issue                     1.0000  US Airways   \n12460              Bad Flight                     0.6837    American   \n7282               Can't Tell                     1.0000       Delta   \n3224   Customer Service Issue                     1.0000      United   \n\n      airline_sentiment_gold             name negativereason_gold  \\\n1586                     NaN    onemanvariety                 NaN   \n4326                     NaN      thisradlove                 NaN   \n9462                     NaN      electromail                 NaN   \n2024                     NaN      jlongoria21                 NaN   \n14045                    NaN          realtmh                 NaN   \n1854                     NaN       mitchheard                 NaN   \n9051                     NaN      JenRomanoff                 NaN   \n12460                    NaN      SamuelMondo                 NaN   \n7282                     NaN  charlotteparler                 NaN   \n3224                     NaN         takwind_                 NaN   \n\n       retweet_count                                               text  \\\n1586               0  @united I don't know my flight details bc I ne...   \n4326               0    @SouthwestAir still waiting. Just hit one hour.   \n9462               0  @USAirways Aye, and nothing to do with an auto...   \n2024               0  @united since I have an international connecti...   \n14045              0  @AmericanAir my #Navy sisters flight 2470 canc...   \n1854               0     @united this 2 hr delay is a vacation buzzkill   \n9051               0  @USAirways but I've been trying to call them s...   \n12460              0  @AmericanAir is it right to provide faulty sea...   \n7282               0  @JetBlue But not reddit? I work for the site a...   \n3224               1  @united Doumented via link. However, now that ...   \n\n      tweet_coord              tweet_created                tweet_location  \\\n1586          NaN  2015-02-22 16:27:30 -0800             driving, probably   \n4326          NaN  2015-02-24 11:47:53 -0800       Today I'm in: Maryland    \n9462          NaN  2015-02-23 10:14:05 -0800  Watching @Interpol somewhere   \n2024          NaN  2015-02-22 04:10:42 -0800      Rio Grande Valley, Texas   \n14045         NaN  2015-02-22 17:44:56 -0800                        Dallas   \n1854          NaN  2015-02-22 09:50:24 -0800                    Austin, TX   \n9051          NaN  2015-02-24 09:03:28 -0800                           NaN   \n12460         NaN  2015-02-24 03:11:38 -0800                    Manchester   \n7282          NaN  2015-02-22 19:03:10 -0800                  Brooklyn NY.   \n3224          NaN  2015-02-19 17:34:27 -0800              New York | Nomad   \n\n                    user_timezone  \n1586                        Quito  \n4326       Atlantic Time (Canada)  \n9462                    Amsterdam  \n2024   Central Time (US & Canada)  \n14045                         NaN  \n1854   Central Time (US & Canada)  \n9051   Eastern Time (US & Canada)  \n12460                      London  \n7282   Central Time (US & Canada)  \n3224   Eastern Time (US & Canada)  ",
            "text/html": "<div>\n<style scoped>\n    .dataframe tbody tr th:only-of-type {\n        vertical-align: middle;\n    }\n\n    .dataframe tbody tr th {\n        vertical-align: top;\n    }\n\n    .dataframe thead th {\n        text-align: right;\n    }\n</style>\n<table border=\"1\" class=\"dataframe\">\n  <thead>\n    <tr style=\"text-align: right;\">\n      <th></th>\n      <th>tweet_id</th>\n      <th>airline_sentiment</th>\n      <th>airline_sentiment_confidence</th>\n      <th>negativereason</th>\n      <th>negativereason_confidence</th>\n      <th>airline</th>\n      <th>airline_sentiment_gold</th>\n      <th>name</th>\n      <th>negativereason_gold</th>\n      <th>retweet_count</th>\n      <th>text</th>\n      <th>tweet_coord</th>\n      <th>tweet_created</th>\n      <th>tweet_location</th>\n      <th>user_timezone</th>\n    </tr>\n  </thead>\n  <tbody>\n    <tr>\n      <th>1586</th>\n      <td>569654749055864832</td>\n      <td>negative</td>\n      <td>1.0000</td>\n      <td>Customer Service Issue</td>\n      <td>0.6756</td>\n      <td>United</td>\n      <td>NaN</td>\n      <td>onemanvariety</td>\n      <td>NaN</td>\n      <td>0</td>\n      <td>@united I don't know my flight details bc I ne...</td>\n      <td>NaN</td>\n      <td>2015-02-22 16:27:30 -0800</td>\n      <td>driving, probably</td>\n      <td>Quito</td>\n    </tr>\n    <tr>\n      <th>4326</th>\n      <td>570309156290367488</td>\n      <td>negative</td>\n      <td>1.0000</td>\n      <td>longlines</td>\n      <td>0.6624</td>\n      <td>Southwest</td>\n      <td>NaN</td>\n      <td>thisradlove</td>\n      <td>NaN</td>\n      <td>0</td>\n      <td>@SouthwestAir still waiting. Just hit one hour.</td>\n      <td>NaN</td>\n      <td>2015-02-24 11:47:53 -0800</td>\n      <td>Today I'm in: Maryland</td>\n      <td>Atlantic Time (Canada)</td>\n    </tr>\n    <tr>\n      <th>9462</th>\n      <td>569923163259318274</td>\n      <td>negative</td>\n      <td>1.0000</td>\n      <td>Customer Service Issue</td>\n      <td>1.0000</td>\n      <td>US Airways</td>\n      <td>NaN</td>\n      <td>electromail</td>\n      <td>NaN</td>\n      <td>0</td>\n      <td>@USAirways Aye, and nothing to do with an auto...</td>\n      <td>NaN</td>\n      <td>2015-02-23 10:14:05 -0800</td>\n      <td>Watching @Interpol somewhere</td>\n      <td>Amsterdam</td>\n    </tr>\n    <tr>\n      <th>2024</th>\n      <td>569469326547222528</td>\n      <td>negative</td>\n      <td>0.6811</td>\n      <td>Late Flight</td>\n      <td>0.6811</td>\n      <td>United</td>\n      <td>NaN</td>\n      <td>jlongoria21</td>\n      <td>NaN</td>\n      <td>0</td>\n      <td>@united since I have an international connecti...</td>\n      <td>NaN</td>\n      <td>2015-02-22 04:10:42 -0800</td>\n      <td>Rio Grande Valley, Texas</td>\n      <td>Central Time (US &amp; Canada)</td>\n    </tr>\n    <tr>\n      <th>14045</th>\n      <td>569674237079744512</td>\n      <td>negative</td>\n      <td>1.0000</td>\n      <td>Cancelled Flight</td>\n      <td>0.3610</td>\n      <td>American</td>\n      <td>NaN</td>\n      <td>realtmh</td>\n      <td>NaN</td>\n      <td>0</td>\n      <td>@AmericanAir my #Navy sisters flight 2470 canc...</td>\n      <td>NaN</td>\n      <td>2015-02-22 17:44:56 -0800</td>\n      <td>Dallas</td>\n      <td>NaN</td>\n    </tr>\n    <tr>\n      <th>1854</th>\n      <td>569554815539290112</td>\n      <td>negative</td>\n      <td>1.0000</td>\n      <td>Late Flight</td>\n      <td>1.0000</td>\n      <td>United</td>\n      <td>NaN</td>\n      <td>mitchheard</td>\n      <td>NaN</td>\n      <td>0</td>\n      <td>@united this 2 hr delay is a vacation buzzkill</td>\n      <td>NaN</td>\n      <td>2015-02-22 09:50:24 -0800</td>\n      <td>Austin, TX</td>\n      <td>Central Time (US &amp; Canada)</td>\n    </tr>\n    <tr>\n      <th>9051</th>\n      <td>570267781859557377</td>\n      <td>negative</td>\n      <td>1.0000</td>\n      <td>Customer Service Issue</td>\n      <td>1.0000</td>\n      <td>US Airways</td>\n      <td>NaN</td>\n      <td>JenRomanoff</td>\n      <td>NaN</td>\n      <td>0</td>\n      <td>@USAirways but I've been trying to call them s...</td>\n      <td>NaN</td>\n      <td>2015-02-24 09:03:28 -0800</td>\n      <td>NaN</td>\n      <td>Eastern Time (US &amp; Canada)</td>\n    </tr>\n    <tr>\n      <th>12460</th>\n      <td>570179236633432065</td>\n      <td>negative</td>\n      <td>1.0000</td>\n      <td>Bad Flight</td>\n      <td>0.6837</td>\n      <td>American</td>\n      <td>NaN</td>\n      <td>SamuelMondo</td>\n      <td>NaN</td>\n      <td>0</td>\n      <td>@AmericanAir is it right to provide faulty sea...</td>\n      <td>NaN</td>\n      <td>2015-02-24 03:11:38 -0800</td>\n      <td>Manchester</td>\n      <td>London</td>\n    </tr>\n    <tr>\n      <th>7282</th>\n      <td>569693923183972352</td>\n      <td>negative</td>\n      <td>1.0000</td>\n      <td>Can't Tell</td>\n      <td>1.0000</td>\n      <td>Delta</td>\n      <td>NaN</td>\n      <td>charlotteparler</td>\n      <td>NaN</td>\n      <td>0</td>\n      <td>@JetBlue But not reddit? I work for the site a...</td>\n      <td>NaN</td>\n      <td>2015-02-22 19:03:10 -0800</td>\n      <td>Brooklyn NY.</td>\n      <td>Central Time (US &amp; Canada)</td>\n    </tr>\n    <tr>\n      <th>3224</th>\n      <td>568584434376577024</td>\n      <td>negative</td>\n      <td>1.0000</td>\n      <td>Customer Service Issue</td>\n      <td>1.0000</td>\n      <td>United</td>\n      <td>NaN</td>\n      <td>takwind_</td>\n      <td>NaN</td>\n      <td>1</td>\n      <td>@united Doumented via link. However, now that ...</td>\n      <td>NaN</td>\n      <td>2015-02-19 17:34:27 -0800</td>\n      <td>New York | Nomad</td>\n      <td>Eastern Time (US &amp; Canada)</td>\n    </tr>\n  </tbody>\n</table>\n</div>"
          },
          "metadata": {}
        }
      ],
      "execution_count": null
    },
    {
      "cell_type": "code",
      "source": [
        "# Some positive tweets\n",
        "\n",
        "data[data['airline_sentiment'] == 'positive'].sample(10)"
      ],
      "metadata": {
        "colab": {
          "base_uri": "https://localhost:8080/",
          "height": 869
        },
        "id": "K2Ouga0QEL_d",
        "outputId": "bd47986a-1d74-4fc5-9dbc-13f9ec08212a",
        "trusted": true,
        "execution": {
          "iopub.status.busy": "2025-02-08T15:18:59.249867Z",
          "iopub.execute_input": "2025-02-08T15:18:59.250148Z",
          "iopub.status.idle": "2025-02-08T15:18:59.271464Z",
          "shell.execute_reply.started": "2025-02-08T15:18:59.250126Z",
          "shell.execute_reply": "2025-02-08T15:18:59.270738Z"
        }
      },
      "outputs": [
        {
          "name": "stderr",
          "text": "/usr/local/lib/python3.10/dist-packages/pandas/io/formats/format.py:1458: RuntimeWarning: invalid value encountered in greater\n  has_large_values = (abs_vals > 1e6).any()\n/usr/local/lib/python3.10/dist-packages/pandas/io/formats/format.py:1459: RuntimeWarning: invalid value encountered in less\n  has_small_values = ((abs_vals < 10 ** (-self.digits)) & (abs_vals > 0)).any()\n/usr/local/lib/python3.10/dist-packages/pandas/io/formats/format.py:1459: RuntimeWarning: invalid value encountered in greater\n  has_small_values = ((abs_vals < 10 ** (-self.digits)) & (abs_vals > 0)).any()\n",
          "output_type": "stream"
        },
        {
          "execution_count": 16,
          "output_type": "execute_result",
          "data": {
            "text/plain": "                 tweet_id airline_sentiment  airline_sentiment_confidence  \\\n5139   569312734896136193          positive                        0.6680   \n7206   569889139593646080          positive                        1.0000   \n6733   567713338873118722          positive                        0.6803   \n9658   569752107730890752          positive                        0.6849   \n1998   569483390581383168          positive                        1.0000   \n999    569969952654028800          positive                        1.0000   \n7226   569867719874650112          positive                        1.0000   \n7524   569543615862722561          positive                        1.0000   \n6218   568113383242911744          positive                        1.0000   \n10453  569289098944507904          positive                        1.0000   \n\n      negativereason  negativereason_confidence     airline  \\\n5139             NaN                        0.0   Southwest   \n7206             NaN                        NaN       Delta   \n6733             NaN                        0.0   Southwest   \n9658             NaN                        NaN  US Airways   \n1998             NaN                        NaN      United   \n999              NaN                        NaN      United   \n7226             NaN                        NaN       Delta   \n7524             NaN                        NaN       Delta   \n6218             NaN                        NaN   Southwest   \n10453            NaN                        NaN  US Airways   \n\n      airline_sentiment_gold           name negativereason_gold  \\\n5139                     NaN     Sluggohill                 NaN   \n7206                     NaN   maite_rodrgz                 NaN   \n6733                     NaN       DaxJeter                 NaN   \n9658                     NaN  DavidHall1981                 NaN   \n1998                     NaN        houckie                 NaN   \n999                      NaN     herma48852                 NaN   \n7226                     NaN       ctpeifer                 NaN   \n7524                     NaN      KShay1985                 NaN   \n6218                     NaN   jdaniels1974                 NaN   \n10453                    NaN  MarciDunnagan                 NaN   \n\n       retweet_count                                               text  \\\n5139               0  @SouthwestAir Thanks for making good on @Potee...   \n7206               0                @JetBlue thanks! Calling right now!   \n6733               0  @SouthwestAir thanks do yall expect to be oper...   \n9658               0  @USAirways @landonschott he's fine, he really ...   \n1998               0  @united thank you for flying me out of the mes...   \n999                0           @united Pleased to be a Premier Platinum   \n7226               0  @JetBlue great to see the RedSox plane and you...   \n7524               0    @JetBlue thank you. We are finally at the gate.   \n6218               0  @SouthwestAir thanks for the follow up.  I app...   \n10453              0  @USAirways Thank you for your help today.  I h...   \n\n                       tweet_coord              tweet_created  \\\n5139                           NaN  2015-02-21 17:48:27 -0800   \n7206                           NaN  2015-02-23 07:58:53 -0800   \n6733                           NaN  2015-02-17 07:53:02 -0800   \n9658                           NaN  2015-02-22 22:54:22 -0800   \n1998                           NaN  2015-02-22 05:06:35 -0800   \n999                            NaN  2015-02-23 13:20:00 -0800   \n7226                           NaN  2015-02-23 06:33:46 -0800   \n7524                           NaN  2015-02-22 09:05:54 -0800   \n6218   [38.97681463, -76.50266928]  2015-02-18 10:22:40 -0800   \n10453                          NaN  2015-02-21 16:14:32 -0800   \n\n                  tweet_location               user_timezone  \n5139                 Columbus OH                         NaN  \n7206                 Puerto Rico                      Hawaii  \n6733                Nashville,TN                         NaN  \n9658   Adelaide, South Australia                    Adelaide  \n1998           Northern Virginia  Eastern Time (US & Canada)  \n999                          NaN                         NaN  \n7226                  NYC/Austin                         NaN  \n7524           New York City, NY                         NaN  \n6218                         NaN                         NaN  \n10453                 Boston, MA                      Hawaii  ",
            "text/html": "<div>\n<style scoped>\n    .dataframe tbody tr th:only-of-type {\n        vertical-align: middle;\n    }\n\n    .dataframe tbody tr th {\n        vertical-align: top;\n    }\n\n    .dataframe thead th {\n        text-align: right;\n    }\n</style>\n<table border=\"1\" class=\"dataframe\">\n  <thead>\n    <tr style=\"text-align: right;\">\n      <th></th>\n      <th>tweet_id</th>\n      <th>airline_sentiment</th>\n      <th>airline_sentiment_confidence</th>\n      <th>negativereason</th>\n      <th>negativereason_confidence</th>\n      <th>airline</th>\n      <th>airline_sentiment_gold</th>\n      <th>name</th>\n      <th>negativereason_gold</th>\n      <th>retweet_count</th>\n      <th>text</th>\n      <th>tweet_coord</th>\n      <th>tweet_created</th>\n      <th>tweet_location</th>\n      <th>user_timezone</th>\n    </tr>\n  </thead>\n  <tbody>\n    <tr>\n      <th>5139</th>\n      <td>569312734896136193</td>\n      <td>positive</td>\n      <td>0.6680</td>\n      <td>NaN</td>\n      <td>0.0</td>\n      <td>Southwest</td>\n      <td>NaN</td>\n      <td>Sluggohill</td>\n      <td>NaN</td>\n      <td>0</td>\n      <td>@SouthwestAir Thanks for making good on @Potee...</td>\n      <td>NaN</td>\n      <td>2015-02-21 17:48:27 -0800</td>\n      <td>Columbus OH</td>\n      <td>NaN</td>\n    </tr>\n    <tr>\n      <th>7206</th>\n      <td>569889139593646080</td>\n      <td>positive</td>\n      <td>1.0000</td>\n      <td>NaN</td>\n      <td>NaN</td>\n      <td>Delta</td>\n      <td>NaN</td>\n      <td>maite_rodrgz</td>\n      <td>NaN</td>\n      <td>0</td>\n      <td>@JetBlue thanks! Calling right now!</td>\n      <td>NaN</td>\n      <td>2015-02-23 07:58:53 -0800</td>\n      <td>Puerto Rico</td>\n      <td>Hawaii</td>\n    </tr>\n    <tr>\n      <th>6733</th>\n      <td>567713338873118722</td>\n      <td>positive</td>\n      <td>0.6803</td>\n      <td>NaN</td>\n      <td>0.0</td>\n      <td>Southwest</td>\n      <td>NaN</td>\n      <td>DaxJeter</td>\n      <td>NaN</td>\n      <td>0</td>\n      <td>@SouthwestAir thanks do yall expect to be oper...</td>\n      <td>NaN</td>\n      <td>2015-02-17 07:53:02 -0800</td>\n      <td>Nashville,TN</td>\n      <td>NaN</td>\n    </tr>\n    <tr>\n      <th>9658</th>\n      <td>569752107730890752</td>\n      <td>positive</td>\n      <td>0.6849</td>\n      <td>NaN</td>\n      <td>NaN</td>\n      <td>US Airways</td>\n      <td>NaN</td>\n      <td>DavidHall1981</td>\n      <td>NaN</td>\n      <td>0</td>\n      <td>@USAirways @landonschott he's fine, he really ...</td>\n      <td>NaN</td>\n      <td>2015-02-22 22:54:22 -0800</td>\n      <td>Adelaide, South Australia</td>\n      <td>Adelaide</td>\n    </tr>\n    <tr>\n      <th>1998</th>\n      <td>569483390581383168</td>\n      <td>positive</td>\n      <td>1.0000</td>\n      <td>NaN</td>\n      <td>NaN</td>\n      <td>United</td>\n      <td>NaN</td>\n      <td>houckie</td>\n      <td>NaN</td>\n      <td>0</td>\n      <td>@united thank you for flying me out of the mes...</td>\n      <td>NaN</td>\n      <td>2015-02-22 05:06:35 -0800</td>\n      <td>Northern Virginia</td>\n      <td>Eastern Time (US &amp; Canada)</td>\n    </tr>\n    <tr>\n      <th>999</th>\n      <td>569969952654028800</td>\n      <td>positive</td>\n      <td>1.0000</td>\n      <td>NaN</td>\n      <td>NaN</td>\n      <td>United</td>\n      <td>NaN</td>\n      <td>herma48852</td>\n      <td>NaN</td>\n      <td>0</td>\n      <td>@united Pleased to be a Premier Platinum</td>\n      <td>NaN</td>\n      <td>2015-02-23 13:20:00 -0800</td>\n      <td>NaN</td>\n      <td>NaN</td>\n    </tr>\n    <tr>\n      <th>7226</th>\n      <td>569867719874650112</td>\n      <td>positive</td>\n      <td>1.0000</td>\n      <td>NaN</td>\n      <td>NaN</td>\n      <td>Delta</td>\n      <td>NaN</td>\n      <td>ctpeifer</td>\n      <td>NaN</td>\n      <td>0</td>\n      <td>@JetBlue great to see the RedSox plane and you...</td>\n      <td>NaN</td>\n      <td>2015-02-23 06:33:46 -0800</td>\n      <td>NYC/Austin</td>\n      <td>NaN</td>\n    </tr>\n    <tr>\n      <th>7524</th>\n      <td>569543615862722561</td>\n      <td>positive</td>\n      <td>1.0000</td>\n      <td>NaN</td>\n      <td>NaN</td>\n      <td>Delta</td>\n      <td>NaN</td>\n      <td>KShay1985</td>\n      <td>NaN</td>\n      <td>0</td>\n      <td>@JetBlue thank you. We are finally at the gate.</td>\n      <td>NaN</td>\n      <td>2015-02-22 09:05:54 -0800</td>\n      <td>New York City, NY</td>\n      <td>NaN</td>\n    </tr>\n    <tr>\n      <th>6218</th>\n      <td>568113383242911744</td>\n      <td>positive</td>\n      <td>1.0000</td>\n      <td>NaN</td>\n      <td>NaN</td>\n      <td>Southwest</td>\n      <td>NaN</td>\n      <td>jdaniels1974</td>\n      <td>NaN</td>\n      <td>0</td>\n      <td>@SouthwestAir thanks for the follow up.  I app...</td>\n      <td>[38.97681463, -76.50266928]</td>\n      <td>2015-02-18 10:22:40 -0800</td>\n      <td>NaN</td>\n      <td>NaN</td>\n    </tr>\n    <tr>\n      <th>10453</th>\n      <td>569289098944507904</td>\n      <td>positive</td>\n      <td>1.0000</td>\n      <td>NaN</td>\n      <td>NaN</td>\n      <td>US Airways</td>\n      <td>NaN</td>\n      <td>MarciDunnagan</td>\n      <td>NaN</td>\n      <td>0</td>\n      <td>@USAirways Thank you for your help today.  I h...</td>\n      <td>NaN</td>\n      <td>2015-02-21 16:14:32 -0800</td>\n      <td>Boston, MA</td>\n      <td>Hawaii</td>\n    </tr>\n  </tbody>\n</table>\n</div>"
          },
          "metadata": {}
        }
      ],
      "execution_count": null
    },
    {
      "cell_type": "code",
      "source": [
        "# Some neutral tweets\n",
        "\n",
        "data[data['airline_sentiment'] == 'neutral'].sample(10)"
      ],
      "metadata": {
        "colab": {
          "base_uri": "https://localhost:8080/",
          "height": 921
        },
        "id": "hk_qXt33HiEX",
        "outputId": "545da8b0-fbbc-4a29-c798-3586f3dfb5dc",
        "trusted": true,
        "execution": {
          "iopub.status.busy": "2025-02-08T15:18:59.272293Z",
          "iopub.execute_input": "2025-02-08T15:18:59.272593Z",
          "iopub.status.idle": "2025-02-08T15:18:59.291103Z",
          "shell.execute_reply.started": "2025-02-08T15:18:59.272571Z",
          "shell.execute_reply": "2025-02-08T15:18:59.290173Z"
        }
      },
      "outputs": [
        {
          "name": "stderr",
          "text": "/usr/local/lib/python3.10/dist-packages/pandas/io/formats/format.py:1458: RuntimeWarning: invalid value encountered in greater\n  has_large_values = (abs_vals > 1e6).any()\n/usr/local/lib/python3.10/dist-packages/pandas/io/formats/format.py:1459: RuntimeWarning: invalid value encountered in less\n  has_small_values = ((abs_vals < 10 ** (-self.digits)) & (abs_vals > 0)).any()\n/usr/local/lib/python3.10/dist-packages/pandas/io/formats/format.py:1459: RuntimeWarning: invalid value encountered in greater\n  has_small_values = ((abs_vals < 10 ** (-self.digits)) & (abs_vals > 0)).any()\n",
          "output_type": "stream"
        },
        {
          "execution_count": 17,
          "output_type": "execute_result",
          "data": {
            "text/plain": "                 tweet_id airline_sentiment  airline_sentiment_confidence  \\\n10609  569128660101427200           neutral                        0.6947   \n5844   568555484589871105           neutral                        0.6871   \n441    568054702635483136           neutral                        0.6477   \n10186  569499262855331840           neutral                        1.0000   \n8949   567727490567639041           neutral                        1.0000   \n2800   568894256070287360           neutral                        1.0000   \n7929   568967907042037761           neutral                        1.0000   \n6705   567727499367682048           neutral                        1.0000   \n1934   569514124490579969           neutral                        0.6365   \n9020   570280852791422976           neutral                        0.6421   \n\n      negativereason  negativereason_confidence         airline  \\\n10609            NaN                        0.0      US Airways   \n5844             NaN                        NaN       Southwest   \n441              NaN                        0.0  Virgin America   \n10186            NaN                        NaN      US Airways   \n8949             NaN                        NaN           Delta   \n2800             NaN                        NaN          United   \n7929             NaN                        NaN           Delta   \n6705             NaN                        NaN       Southwest   \n1934             NaN                        0.0          United   \n9020             NaN                        0.0      US Airways   \n\n      airline_sentiment_gold            name negativereason_gold  \\\n10609                    NaN     ErinPlocica                 NaN   \n5844                     NaN      itsjessme_                 NaN   \n441                      NaN      opteyemisg                 NaN   \n10186                    NaN  BritalmegChris                 NaN   \n8949                     NaN     kbosspotter                 NaN   \n2800                     NaN        jayfalck                 NaN   \n7929                     NaN         DKHurts                 NaN   \n6705                     NaN  city2countryTN                 NaN   \n1934                     NaN   roryfreeman87                 NaN   \n9020                     NaN         mdendas                 NaN   \n\n       retweet_count                                               text  \\\n10609              0  @USAirways we're glad to hear it. Out of curio...   \n5844               0  @SouthwestAir Any way you can help with entry ...   \n441                0  @VirginAmerica can we make every VX plane with...   \n10186              0  @USAirways one question. Can I book one way ti...   \n8949               0  @JetBlue I have a internal bleed in my foot, a...   \n2800               0  @united FYI, went through this on similar flig...   \n7929               0  @JetBlue 😭 I used points can I get them back i...   \n6705               0  @SouthwestAir do you think the flights out of ...   \n1934               0  @united with about 25 people trying to get on ...   \n9020               0  @USAirways where is your email address? Its no...   \n\n                      tweet_coord              tweet_created  \\\n10609                         NaN  2015-02-21 05:37:01 -0800   \n5844                          NaN  2015-02-19 15:39:25 -0800   \n441                           NaN  2015-02-18 06:29:29 -0800   \n10186                         NaN  2015-02-22 06:09:39 -0800   \n8949                          NaN  2015-02-17 08:49:16 -0800   \n2800                          NaN  2015-02-20 14:05:34 -0800   \n7929                          NaN  2015-02-20 18:58:14 -0800   \n6705                          NaN  2015-02-17 08:49:18 -0800   \n1934   [29.98872603, -95.3384666]  2015-02-22 07:08:42 -0800   \n9020                          NaN  2015-02-24 09:55:25 -0800   \n\n                    tweet_location               user_timezone  \n10609           Nürnberg, Germany                          NaN  \n5844                           NaN                      Alaska  \n441                            NaN  Central Time (US & Canada)  \n10186                          NaN                         NaN  \n8949   Logan International Airport      Atlantic Time (Canada)  \n2800                    Austin, TX  Central Time (US & Canada)  \n7929                     Brooklyn!                         NaN  \n6705                            TN                         NaN  \n1934                    california  Central Time (US & Canada)  \n9020                           NaN  Eastern Time (US & Canada)  ",
            "text/html": "<div>\n<style scoped>\n    .dataframe tbody tr th:only-of-type {\n        vertical-align: middle;\n    }\n\n    .dataframe tbody tr th {\n        vertical-align: top;\n    }\n\n    .dataframe thead th {\n        text-align: right;\n    }\n</style>\n<table border=\"1\" class=\"dataframe\">\n  <thead>\n    <tr style=\"text-align: right;\">\n      <th></th>\n      <th>tweet_id</th>\n      <th>airline_sentiment</th>\n      <th>airline_sentiment_confidence</th>\n      <th>negativereason</th>\n      <th>negativereason_confidence</th>\n      <th>airline</th>\n      <th>airline_sentiment_gold</th>\n      <th>name</th>\n      <th>negativereason_gold</th>\n      <th>retweet_count</th>\n      <th>text</th>\n      <th>tweet_coord</th>\n      <th>tweet_created</th>\n      <th>tweet_location</th>\n      <th>user_timezone</th>\n    </tr>\n  </thead>\n  <tbody>\n    <tr>\n      <th>10609</th>\n      <td>569128660101427200</td>\n      <td>neutral</td>\n      <td>0.6947</td>\n      <td>NaN</td>\n      <td>0.0</td>\n      <td>US Airways</td>\n      <td>NaN</td>\n      <td>ErinPlocica</td>\n      <td>NaN</td>\n      <td>0</td>\n      <td>@USAirways we're glad to hear it. Out of curio...</td>\n      <td>NaN</td>\n      <td>2015-02-21 05:37:01 -0800</td>\n      <td>Nürnberg, Germany</td>\n      <td>NaN</td>\n    </tr>\n    <tr>\n      <th>5844</th>\n      <td>568555484589871105</td>\n      <td>neutral</td>\n      <td>0.6871</td>\n      <td>NaN</td>\n      <td>NaN</td>\n      <td>Southwest</td>\n      <td>NaN</td>\n      <td>itsjessme_</td>\n      <td>NaN</td>\n      <td>0</td>\n      <td>@SouthwestAir Any way you can help with entry ...</td>\n      <td>NaN</td>\n      <td>2015-02-19 15:39:25 -0800</td>\n      <td>NaN</td>\n      <td>Alaska</td>\n    </tr>\n    <tr>\n      <th>441</th>\n      <td>568054702635483136</td>\n      <td>neutral</td>\n      <td>0.6477</td>\n      <td>NaN</td>\n      <td>0.0</td>\n      <td>Virgin America</td>\n      <td>NaN</td>\n      <td>opteyemisg</td>\n      <td>NaN</td>\n      <td>0</td>\n      <td>@VirginAmerica can we make every VX plane with...</td>\n      <td>NaN</td>\n      <td>2015-02-18 06:29:29 -0800</td>\n      <td>NaN</td>\n      <td>Central Time (US &amp; Canada)</td>\n    </tr>\n    <tr>\n      <th>10186</th>\n      <td>569499262855331840</td>\n      <td>neutral</td>\n      <td>1.0000</td>\n      <td>NaN</td>\n      <td>NaN</td>\n      <td>US Airways</td>\n      <td>NaN</td>\n      <td>BritalmegChris</td>\n      <td>NaN</td>\n      <td>0</td>\n      <td>@USAirways one question. Can I book one way ti...</td>\n      <td>NaN</td>\n      <td>2015-02-22 06:09:39 -0800</td>\n      <td>NaN</td>\n      <td>NaN</td>\n    </tr>\n    <tr>\n      <th>8949</th>\n      <td>567727490567639041</td>\n      <td>neutral</td>\n      <td>1.0000</td>\n      <td>NaN</td>\n      <td>NaN</td>\n      <td>Delta</td>\n      <td>NaN</td>\n      <td>kbosspotter</td>\n      <td>NaN</td>\n      <td>0</td>\n      <td>@JetBlue I have a internal bleed in my foot, a...</td>\n      <td>NaN</td>\n      <td>2015-02-17 08:49:16 -0800</td>\n      <td>Logan International Airport</td>\n      <td>Atlantic Time (Canada)</td>\n    </tr>\n    <tr>\n      <th>2800</th>\n      <td>568894256070287360</td>\n      <td>neutral</td>\n      <td>1.0000</td>\n      <td>NaN</td>\n      <td>NaN</td>\n      <td>United</td>\n      <td>NaN</td>\n      <td>jayfalck</td>\n      <td>NaN</td>\n      <td>0</td>\n      <td>@united FYI, went through this on similar flig...</td>\n      <td>NaN</td>\n      <td>2015-02-20 14:05:34 -0800</td>\n      <td>Austin, TX</td>\n      <td>Central Time (US &amp; Canada)</td>\n    </tr>\n    <tr>\n      <th>7929</th>\n      <td>568967907042037761</td>\n      <td>neutral</td>\n      <td>1.0000</td>\n      <td>NaN</td>\n      <td>NaN</td>\n      <td>Delta</td>\n      <td>NaN</td>\n      <td>DKHurts</td>\n      <td>NaN</td>\n      <td>0</td>\n      <td>@JetBlue 😭 I used points can I get them back i...</td>\n      <td>NaN</td>\n      <td>2015-02-20 18:58:14 -0800</td>\n      <td>Brooklyn!</td>\n      <td>NaN</td>\n    </tr>\n    <tr>\n      <th>6705</th>\n      <td>567727499367682048</td>\n      <td>neutral</td>\n      <td>1.0000</td>\n      <td>NaN</td>\n      <td>NaN</td>\n      <td>Southwest</td>\n      <td>NaN</td>\n      <td>city2countryTN</td>\n      <td>NaN</td>\n      <td>0</td>\n      <td>@SouthwestAir do you think the flights out of ...</td>\n      <td>NaN</td>\n      <td>2015-02-17 08:49:18 -0800</td>\n      <td>TN</td>\n      <td>NaN</td>\n    </tr>\n    <tr>\n      <th>1934</th>\n      <td>569514124490579969</td>\n      <td>neutral</td>\n      <td>0.6365</td>\n      <td>NaN</td>\n      <td>0.0</td>\n      <td>United</td>\n      <td>NaN</td>\n      <td>roryfreeman87</td>\n      <td>NaN</td>\n      <td>0</td>\n      <td>@united with about 25 people trying to get on ...</td>\n      <td>[29.98872603, -95.3384666]</td>\n      <td>2015-02-22 07:08:42 -0800</td>\n      <td>california</td>\n      <td>Central Time (US &amp; Canada)</td>\n    </tr>\n    <tr>\n      <th>9020</th>\n      <td>570280852791422976</td>\n      <td>neutral</td>\n      <td>0.6421</td>\n      <td>NaN</td>\n      <td>0.0</td>\n      <td>US Airways</td>\n      <td>NaN</td>\n      <td>mdendas</td>\n      <td>NaN</td>\n      <td>0</td>\n      <td>@USAirways where is your email address? Its no...</td>\n      <td>NaN</td>\n      <td>2015-02-24 09:55:25 -0800</td>\n      <td>NaN</td>\n      <td>Eastern Time (US &amp; Canada)</td>\n    </tr>\n  </tbody>\n</table>\n</div>"
          },
          "metadata": {}
        }
      ],
      "execution_count": null
    },
    {
      "cell_type": "code",
      "source": [
        "# Percentage of classes / sentiments across all tweets\n",
        "\n",
        "plt.subplots(figsize=(8,6))\n",
        "ax = sns.countplot(data = data, x = 'airline_sentiment', palette = \"rocket\")\n",
        "\n",
        "# calculate total count of percentage calculation\n",
        "total = len(data)\n",
        "\n",
        "# annotate bars with count and percentage\n",
        "for p in ax.patches:\n",
        "  count = int(p.get_height()) # get the height of each bar (count)\n",
        "  percentage = round(100 * count / total, 2) # calculate the percentage\n",
        "  x = p.get_x() + p.get_width() / 2 # get the x-coordinate of the bar center\n",
        "  y = p.get_height() # get the height of the bar\n",
        "  ax.annotate(f'{count}\\n({percentage}%)', (x, y), ha='center', va='bottom')\n",
        "plt.show()"
      ],
      "metadata": {
        "colab": {
          "base_uri": "https://localhost:8080/",
          "height": 637
        },
        "id": "sFZ6J8GTIIlh",
        "outputId": "342e955d-6c94-4ad3-9e83-ea175ff25fd4",
        "trusted": true,
        "execution": {
          "iopub.status.busy": "2025-02-08T15:18:59.292126Z",
          "iopub.execute_input": "2025-02-08T15:18:59.292414Z",
          "iopub.status.idle": "2025-02-08T15:18:59.437918Z",
          "shell.execute_reply.started": "2025-02-08T15:18:59.292387Z",
          "shell.execute_reply": "2025-02-08T15:18:59.437036Z"
        }
      },
      "outputs": [
        {
          "output_type": "display_data",
          "data": {
            "text/plain": "<Figure size 800x600 with 1 Axes>",
            "image/png": "[encoded data removed]"
          },
          "metadata": {}
        }
      ],
      "execution_count": null
    },
    {
      "cell_type": "code",
      "source": [
        "# negative tweets have highest percentage (63%) , followed by neutral ones (21%) and then positive ones (16%) appx.\n"
      ],
      "metadata": {
        "id": "yWCpZe58KUH3",
        "trusted": true,
        "execution": {
          "iopub.status.busy": "2025-02-08T15:18:59.44167Z",
          "iopub.execute_input": "2025-02-08T15:18:59.44193Z",
          "iopub.status.idle": "2025-02-08T15:18:59.445152Z",
          "shell.execute_reply.started": "2025-02-08T15:18:59.441909Z",
          "shell.execute_reply": "2025-02-08T15:18:59.444405Z"
        }
      },
      "outputs": [],
      "execution_count": null
    },
    {
      "cell_type": "code",
      "source": [
        "data.groupby(['airline', 'airline_sentiment'])['airline_sentiment'].count()"
      ],
      "metadata": {
        "colab": {
          "base_uri": "https://localhost:8080/",
          "height": 680
        },
        "id": "xVFevLXILOEn",
        "outputId": "1e92f077-8b45-44a9-8afd-152d58bde07d",
        "trusted": true,
        "execution": {
          "iopub.status.busy": "2025-02-08T15:18:59.447251Z",
          "iopub.execute_input": "2025-02-08T15:18:59.44746Z",
          "iopub.status.idle": "2025-02-08T15:18:59.467748Z",
          "shell.execute_reply.started": "2025-02-08T15:18:59.447443Z",
          "shell.execute_reply": "2025-02-08T15:18:59.466827Z"
        }
      },
      "outputs": [
        {
          "execution_count": 20,
          "output_type": "execute_result",
          "data": {
            "text/plain": "airline         airline_sentiment\nAmerican        negative             1960\n                neutral               463\n                positive              336\nDelta           negative              955\n                neutral               723\n                positive              544\nSouthwest       negative             1186\n                neutral               664\n                positive              570\nUS Airways      negative             2263\n                neutral               381\n                positive              269\nUnited          negative             2633\n                neutral               697\n                positive              492\nVirgin America  negative              181\n                neutral               171\n                positive              152\nName: airline_sentiment, dtype: int64"
          },
          "metadata": {}
        }
      ],
      "execution_count": null
    },
    {
      "cell_type": "code",
      "source": [
        "# negative reasons\n",
        "plt.figure(figsize=(8,6))\n",
        "sns.countplot(data = data[data['airline_sentiment'] == 'negative'], x = 'negativereason', palette=\"rocket\")\n",
        "plt.xticks(rotation = 90)\n",
        "plt.show()"
      ],
      "metadata": {
        "colab": {
          "base_uri": "https://localhost:8080/",
          "height": 810
        },
        "id": "W5h_GWzqLSb4",
        "outputId": "022a45e3-4d80-435d-cbbe-7111c8eddbd6",
        "trusted": true,
        "execution": {
          "iopub.status.busy": "2025-02-08T15:18:59.468864Z",
          "iopub.execute_input": "2025-02-08T15:18:59.469117Z",
          "iopub.status.idle": "2025-02-08T15:18:59.65404Z",
          "shell.execute_reply.started": "2025-02-08T15:18:59.469095Z",
          "shell.execute_reply": "2025-02-08T15:18:59.653234Z"
        }
      },
      "outputs": [
        {
          "output_type": "display_data",
          "data": {
            "text/plain": "<Figure size 800x600 with 1 Axes>",
            "image/png": "[encoded data removed]"
          },
          "metadata": {}
        }
      ],
      "execution_count": null
    },
    {
      "cell_type": "code",
      "source": [
        "# customer service is the top reason for negative sentiment"
      ],
      "metadata": {
        "id": "sixNUcIlNB4_",
        "trusted": true,
        "execution": {
          "iopub.status.busy": "2025-02-08T15:18:59.65512Z",
          "iopub.execute_input": "2025-02-08T15:18:59.655427Z",
          "iopub.status.idle": "2025-02-08T15:18:59.658687Z",
          "shell.execute_reply.started": "2025-02-08T15:18:59.655399Z",
          "shell.execute_reply": "2025-02-08T15:18:59.657822Z"
        }
      },
      "outputs": [],
      "execution_count": null
    },
    {
      "cell_type": "code",
      "source": [
        "## word cloud for negative tweets"
      ],
      "metadata": {
        "id": "Mo4E-8BPN1mt",
        "trusted": true,
        "execution": {
          "iopub.status.busy": "2025-02-08T15:18:59.659538Z",
          "iopub.execute_input": "2025-02-08T15:18:59.659836Z",
          "iopub.status.idle": "2025-02-08T15:18:59.672015Z",
          "shell.execute_reply.started": "2025-02-08T15:18:59.659807Z",
          "shell.execute_reply": "2025-02-08T15:18:59.67128Z"
        }
      },
      "outputs": [],
      "execution_count": null
    },
    {
      "cell_type": "code",
      "source": [
        "from wordcloud import WordCloud, STOPWORDS\n",
        "neg_df = data[data['airline_sentiment'] == 'negative'] # filtered for negative sentiments\n",
        "words = ' '.join(neg_df['text']) # combines all the tweets stored in the column 'text' where each tweet is sepearted by space"
      ],
      "metadata": {
        "id": "GYRIpn2MN7BC",
        "trusted": true,
        "execution": {
          "iopub.status.busy": "2025-02-08T15:18:59.672799Z",
          "iopub.execute_input": "2025-02-08T15:18:59.673052Z",
          "iopub.status.idle": "2025-02-08T15:18:59.755784Z",
          "shell.execute_reply.started": "2025-02-08T15:18:59.673023Z",
          "shell.execute_reply": "2025-02-08T15:18:59.754846Z"
        }
      },
      "outputs": [],
      "execution_count": null
    },
    {
      "cell_type": "code",
      "source": [
        "type(words) # is string"
      ],
      "metadata": {
        "colab": {
          "base_uri": "https://localhost:8080/"
        },
        "id": "fxHNISKVO0FY",
        "outputId": "4e53f792-7db6-4901-966f-9a3ed5ff17a0",
        "trusted": true,
        "execution": {
          "iopub.status.busy": "2025-02-08T15:18:59.756767Z",
          "iopub.execute_input": "2025-02-08T15:18:59.757211Z",
          "iopub.status.idle": "2025-02-08T15:18:59.762116Z",
          "shell.execute_reply.started": "2025-02-08T15:18:59.757187Z",
          "shell.execute_reply": "2025-02-08T15:18:59.761184Z"
        }
      },
      "outputs": [
        {
          "execution_count": 25,
          "output_type": "execute_result",
          "data": {
            "text/plain": "str"
          },
          "metadata": {}
        }
      ],
      "execution_count": null
    },
    {
      "cell_type": "code",
      "source": [
        "len(words)"
      ],
      "metadata": {
        "colab": {
          "base_uri": "https://localhost:8080/",
          "height": 105
        },
        "id": "40PoBF4MO1KK",
        "outputId": "5d640211-17af-4327-af23-92f59e16c69c",
        "trusted": true,
        "execution": {
          "iopub.status.busy": "2025-02-08T15:36:13.038134Z",
          "iopub.execute_input": "2025-02-08T15:36:13.038433Z",
          "iopub.status.idle": "2025-02-08T15:36:13.043357Z",
          "shell.execute_reply.started": "2025-02-08T15:36:13.038411Z",
          "shell.execute_reply": "2025-02-08T15:36:13.042661Z"
        }
      },
      "outputs": [
        {
          "execution_count": 85,
          "output_type": "execute_result",
          "data": {
            "text/plain": "1054991"
          },
          "metadata": {}
        }
      ],
      "execution_count": null
    },
    {
      "cell_type": "markdown",
      "source": [
        "### Data Preprocessing Steps\n",
        "\n",
        "- Remove html tages\n",
        "- Replace contractions in strings (e.g. replace I'm --> I am)\n",
        "- Remove numbers\n",
        "- Tokenization\n",
        "- To remove Stopwords\n",
        "- Lemmatization\n"
      ],
      "metadata": {
        "id": "BYS9gXpSoYQq"
      }
    },
    {
      "cell_type": "code",
      "source": [
        "data['text']"
      ],
      "metadata": {
        "colab": {
          "base_uri": "https://localhost:8080/",
          "height": 458
        },
        "id": "Wd419ubTlnKm",
        "outputId": "21ec8819-dbb8-4cea-97d8-e457294b8020",
        "trusted": true,
        "execution": {
          "iopub.status.busy": "2025-02-08T15:18:59.857587Z",
          "iopub.execute_input": "2025-02-08T15:18:59.857852Z",
          "iopub.status.idle": "2025-02-08T15:18:59.873457Z",
          "shell.execute_reply.started": "2025-02-08T15:18:59.857831Z",
          "shell.execute_reply": "2025-02-08T15:18:59.872813Z"
        }
      },
      "outputs": [
        {
          "execution_count": 31,
          "output_type": "execute_result",
          "data": {
            "text/plain": "0                      @VirginAmerica What @dhepburn said.\n1        @VirginAmerica plus you've added commercials t...\n2        @VirginAmerica I didn't today... Must mean I n...\n3        @VirginAmerica it's really aggressive to blast...\n4        @VirginAmerica and it's a really big bad thing...\n                               ...                        \n14635    @AmericanAir thank you we got on a different f...\n14636    @AmericanAir leaving over 20 minutes Late Flig...\n14637    @AmericanAir Please bring American Airlines to...\n14638    @AmericanAir you have my money, you change my ...\n14639    @AmericanAir we have 8 ppl so we need 2 know h...\nName: text, Length: 14640, dtype: object"
          },
          "metadata": {}
        }
      ],
      "execution_count": null
    },
    {
      "cell_type": "code",
      "source": [
        "## Remove 'html' tags\n",
        "\n",
        "def remove_html(text):\n",
        "  soup = BeautifulSoup(text,'html.parser')\n",
        "  return soup.get_text()\n",
        "\n",
        "data['text'] = data['text'].apply(lambda x: remove_html(x))"
      ],
      "metadata": {
        "id": "JKnhygU7ouMP",
        "trusted": true,
        "execution": {
          "iopub.status.busy": "2025-02-08T15:18:59.874242Z",
          "iopub.execute_input": "2025-02-08T15:18:59.874443Z",
          "iopub.status.idle": "2025-02-08T15:19:00.394628Z",
          "shell.execute_reply.started": "2025-02-08T15:18:59.874426Z",
          "shell.execute_reply": "2025-02-08T15:19:00.39397Z"
        },
        "outputId": "b69a4933-7c12-4415-cda2-a7f4a91a19c7"
      },
      "outputs": [
        {
          "name": "stderr",
          "text": "<ipython-input-32-c64d72f6844b>:4: MarkupResemblesLocatorWarning: The input looks more like a filename than markup. You may want to open this file and pass the filehandle into Beautiful Soup.\n  soup = BeautifulSoup(text,'html.parser')\n",
          "output_type": "stream"
        }
      ],
      "execution_count": null
    },
    {
      "cell_type": "code",
      "source": [
        "data['text']"
      ],
      "metadata": {
        "id": "yO4RYBwM3LLj",
        "colab": {
          "base_uri": "https://localhost:8080/",
          "height": 458
        },
        "outputId": "63d199ce-295a-49ca-d887-8e36d9c23b27",
        "trusted": true,
        "execution": {
          "iopub.status.busy": "2025-02-08T15:19:00.395256Z",
          "iopub.execute_input": "2025-02-08T15:19:00.395455Z",
          "iopub.status.idle": "2025-02-08T15:19:00.401531Z",
          "shell.execute_reply.started": "2025-02-08T15:19:00.395437Z",
          "shell.execute_reply": "2025-02-08T15:19:00.40083Z"
        }
      },
      "outputs": [
        {
          "execution_count": 33,
          "output_type": "execute_result",
          "data": {
            "text/plain": "0                      @VirginAmerica What @dhepburn said.\n1        @VirginAmerica plus you've added commercials t...\n2        @VirginAmerica I didn't today... Must mean I n...\n3        @VirginAmerica it's really aggressive to blast...\n4        @VirginAmerica and it's a really big bad thing...\n                               ...                        \n14635    @AmericanAir thank you we got on a different f...\n14636    @AmericanAir leaving over 20 minutes Late Flig...\n14637    @AmericanAir Please bring American Airlines to...\n14638    @AmericanAir you have my money, you change my ...\n14639    @AmericanAir we have 8 ppl so we need 2 know h...\nName: text, Length: 14640, dtype: object"
          },
          "metadata": {}
        }
      ],
      "execution_count": null
    },
    {
      "cell_type": "code",
      "source": [
        "para = \"I'll tell that'll world we don't have much time so it ain't happening and also we're trynna\"\n",
        "print(contractions.fix(para))"
      ],
      "metadata": {
        "colab": {
          "base_uri": "https://localhost:8080/"
        },
        "id": "d8ill_V520q-",
        "outputId": "b0733dab-451c-419c-f7d1-52db932fe380",
        "trusted": true,
        "execution": {
          "iopub.status.busy": "2025-02-08T15:19:00.402286Z",
          "iopub.execute_input": "2025-02-08T15:19:00.402536Z",
          "iopub.status.idle": "2025-02-08T15:19:00.417675Z",
          "shell.execute_reply.started": "2025-02-08T15:19:00.402497Z",
          "shell.execute_reply": "2025-02-08T15:19:00.416928Z"
        }
      },
      "outputs": [
        {
          "name": "stdout",
          "text": "I will tell that will world we do not have much time so it are not happening and also we are trynna\n",
          "output_type": "stream"
        }
      ],
      "execution_count": null
    },
    {
      "cell_type": "code",
      "source": [
        "## Replacing the contractions in the text\n",
        "\n",
        "def replace_contractions(text):\n",
        "  '''\n",
        "  replace contractions in string of text\n",
        "  '''\n",
        "  return contractions.fix(text)\n",
        "\n",
        "data['text'] = data['text'].apply(lambda x:replace_contractions(x))\n",
        "data['text']"
      ],
      "metadata": {
        "colab": {
          "base_uri": "https://localhost:8080/",
          "height": 458
        },
        "id": "unUjT16Fxp0J",
        "outputId": "2643782c-5a73-4774-b5a4-edb6de846267",
        "trusted": true,
        "execution": {
          "iopub.status.busy": "2025-02-08T15:19:00.418471Z",
          "iopub.execute_input": "2025-02-08T15:19:00.418821Z",
          "iopub.status.idle": "2025-02-08T15:19:00.569729Z",
          "shell.execute_reply.started": "2025-02-08T15:19:00.41879Z",
          "shell.execute_reply": "2025-02-08T15:19:00.568958Z"
        }
      },
      "outputs": [
        {
          "execution_count": 35,
          "output_type": "execute_result",
          "data": {
            "text/plain": "0                      @VirginAmerica What @dhepburn said.\n1        @VirginAmerica plus you have added commercials...\n2        @VirginAmerica I did not today... Must mean I ...\n3        @VirginAmerica it is really aggressive to blas...\n4        @VirginAmerica and it is a really big bad thin...\n                               ...                        \n14635    @AmericanAir thank you we got on a different f...\n14636    @AmericanAir leaving over 20 minutes Late Flig...\n14637    @AmericanAir Please bring American Airlines to...\n14638    @AmericanAir you have my money, you change my ...\n14639    @AmericanAir we have 8 people so we need 2 kno...\nName: text, Length: 14640, dtype: object"
          },
          "metadata": {}
        }
      ],
      "execution_count": null
    },
    {
      "cell_type": "code",
      "source": [
        "## Removing numbers\n",
        "\n",
        "def remove_numbers(text):\n",
        "  pattern = re.compile(r'\\d+') # \\d means digit and + signifies 1 or more digits\n",
        "  return pattern.sub('', text)\n",
        "\n",
        "data['text'] = data['text'].apply(lambda x: remove_numbers(x))\n",
        "data['text']"
      ],
      "metadata": {
        "colab": {
          "base_uri": "https://localhost:8080/",
          "height": 458
        },
        "id": "mpBsc0tm81c7",
        "outputId": "9cae6cc2-7185-4138-8012-71196de1a7b4",
        "trusted": true,
        "execution": {
          "iopub.status.busy": "2025-02-08T15:19:00.570533Z",
          "iopub.execute_input": "2025-02-08T15:19:00.570841Z",
          "iopub.status.idle": "2025-02-08T15:19:00.628698Z",
          "shell.execute_reply.started": "2025-02-08T15:19:00.570812Z",
          "shell.execute_reply": "2025-02-08T15:19:00.627931Z"
        }
      },
      "outputs": [
        {
          "execution_count": 36,
          "output_type": "execute_result",
          "data": {
            "text/plain": "0                      @VirginAmerica What @dhepburn said.\n1        @VirginAmerica plus you have added commercials...\n2        @VirginAmerica I did not today... Must mean I ...\n3        @VirginAmerica it is really aggressive to blas...\n4        @VirginAmerica and it is a really big bad thin...\n                               ...                        \n14635    @AmericanAir thank you we got on a different f...\n14636    @AmericanAir leaving over  minutes Late Flight...\n14637    @AmericanAir Please bring American Airlines to...\n14638    @AmericanAir you have my money, you change my ...\n14639    @AmericanAir we have  people so we need  know ...\nName: text, Length: 14640, dtype: object"
          },
          "metadata": {}
        }
      ],
      "execution_count": null
    },
    {
      "cell_type": "code",
      "source": [
        "data.head()"
      ],
      "metadata": {
        "colab": {
          "base_uri": "https://localhost:8080/",
          "height": 452
        },
        "id": "KjpUvBxhbZ1m",
        "outputId": "9c286e9d-c157-4561-8c93-64dc30456c3e",
        "trusted": true,
        "execution": {
          "iopub.status.busy": "2025-02-08T15:19:00.6295Z",
          "iopub.execute_input": "2025-02-08T15:19:00.629825Z",
          "iopub.status.idle": "2025-02-08T15:19:00.643401Z",
          "shell.execute_reply.started": "2025-02-08T15:19:00.62979Z",
          "shell.execute_reply": "2025-02-08T15:19:00.642704Z"
        }
      },
      "outputs": [
        {
          "name": "stderr",
          "text": "/usr/local/lib/python3.10/dist-packages/pandas/io/formats/format.py:1458: RuntimeWarning: invalid value encountered in greater\n  has_large_values = (abs_vals > 1e6).any()\n/usr/local/lib/python3.10/dist-packages/pandas/io/formats/format.py:1459: RuntimeWarning: invalid value encountered in less\n  has_small_values = ((abs_vals < 10 ** (-self.digits)) & (abs_vals > 0)).any()\n/usr/local/lib/python3.10/dist-packages/pandas/io/formats/format.py:1459: RuntimeWarning: invalid value encountered in greater\n  has_small_values = ((abs_vals < 10 ** (-self.digits)) & (abs_vals > 0)).any()\n",
          "output_type": "stream"
        },
        {
          "execution_count": 37,
          "output_type": "execute_result",
          "data": {
            "text/plain": "             tweet_id airline_sentiment  airline_sentiment_confidence  \\\n0  570306133677760513           neutral                        1.0000   \n1  570301130888122368          positive                        0.3486   \n2  570301083672813571           neutral                        0.6837   \n3  570301031407624196          negative                        1.0000   \n4  570300817074462722          negative                        1.0000   \n\n  negativereason  negativereason_confidence         airline  \\\n0            NaN                        NaN  Virgin America   \n1            NaN                     0.0000  Virgin America   \n2            NaN                        NaN  Virgin America   \n3     Bad Flight                     0.7033  Virgin America   \n4     Can't Tell                     1.0000  Virgin America   \n\n  airline_sentiment_gold        name negativereason_gold  retweet_count  \\\n0                    NaN     cairdin                 NaN              0   \n1                    NaN    jnardino                 NaN              0   \n2                    NaN  yvonnalynn                 NaN              0   \n3                    NaN    jnardino                 NaN              0   \n4                    NaN    jnardino                 NaN              0   \n\n                                                text tweet_coord  \\\n0                @VirginAmerica What @dhepburn said.         NaN   \n1  @VirginAmerica plus you have added commercials...         NaN   \n2  @VirginAmerica I did not today... Must mean I ...         NaN   \n3  @VirginAmerica it is really aggressive to blas...         NaN   \n4  @VirginAmerica and it is a really big bad thin...         NaN   \n\n               tweet_created tweet_location               user_timezone  \n0  2015-02-24 11:35:52 -0800            NaN  Eastern Time (US & Canada)  \n1  2015-02-24 11:15:59 -0800            NaN  Pacific Time (US & Canada)  \n2  2015-02-24 11:15:48 -0800      Lets Play  Central Time (US & Canada)  \n3  2015-02-24 11:15:36 -0800            NaN  Pacific Time (US & Canada)  \n4  2015-02-24 11:14:45 -0800            NaN  Pacific Time (US & Canada)  ",
            "text/html": "<div>\n<style scoped>\n    .dataframe tbody tr th:only-of-type {\n        vertical-align: middle;\n    }\n\n    .dataframe tbody tr th {\n        vertical-align: top;\n    }\n\n    .dataframe thead th {\n        text-align: right;\n    }\n</style>\n<table border=\"1\" class=\"dataframe\">\n  <thead>\n    <tr style=\"text-align: right;\">\n      <th></th>\n      <th>tweet_id</th>\n      <th>airline_sentiment</th>\n      <th>airline_sentiment_confidence</th>\n      <th>negativereason</th>\n      <th>negativereason_confidence</th>\n      <th>airline</th>\n      <th>airline_sentiment_gold</th>\n      <th>name</th>\n      <th>negativereason_gold</th>\n      <th>retweet_count</th>\n      <th>text</th>\n      <th>tweet_coord</th>\n      <th>tweet_created</th>\n      <th>tweet_location</th>\n      <th>user_timezone</th>\n    </tr>\n  </thead>\n  <tbody>\n    <tr>\n      <th>0</th>\n      <td>570306133677760513</td>\n      <td>neutral</td>\n      <td>1.0000</td>\n      <td>NaN</td>\n      <td>NaN</td>\n      <td>Virgin America</td>\n      <td>NaN</td>\n      <td>cairdin</td>\n      <td>NaN</td>\n      <td>0</td>\n      <td>@VirginAmerica What @dhepburn said.</td>\n      <td>NaN</td>\n      <td>2015-02-24 11:35:52 -0800</td>\n      <td>NaN</td>\n      <td>Eastern Time (US &amp; Canada)</td>\n    </tr>\n    <tr>\n      <th>1</th>\n      <td>570301130888122368</td>\n      <td>positive</td>\n      <td>0.3486</td>\n      <td>NaN</td>\n      <td>0.0000</td>\n      <td>Virgin America</td>\n      <td>NaN</td>\n      <td>jnardino</td>\n      <td>NaN</td>\n      <td>0</td>\n      <td>@VirginAmerica plus you have added commercials...</td>\n      <td>NaN</td>\n      <td>2015-02-24 11:15:59 -0800</td>\n      <td>NaN</td>\n      <td>Pacific Time (US &amp; Canada)</td>\n    </tr>\n    <tr>\n      <th>2</th>\n      <td>570301083672813571</td>\n      <td>neutral</td>\n      <td>0.6837</td>\n      <td>NaN</td>\n      <td>NaN</td>\n      <td>Virgin America</td>\n      <td>NaN</td>\n      <td>yvonnalynn</td>\n      <td>NaN</td>\n      <td>0</td>\n      <td>@VirginAmerica I did not today... Must mean I ...</td>\n      <td>NaN</td>\n      <td>2015-02-24 11:15:48 -0800</td>\n      <td>Lets Play</td>\n      <td>Central Time (US &amp; Canada)</td>\n    </tr>\n    <tr>\n      <th>3</th>\n      <td>570301031407624196</td>\n      <td>negative</td>\n      <td>1.0000</td>\n      <td>Bad Flight</td>\n      <td>0.7033</td>\n      <td>Virgin America</td>\n      <td>NaN</td>\n      <td>jnardino</td>\n      <td>NaN</td>\n      <td>0</td>\n      <td>@VirginAmerica it is really aggressive to blas...</td>\n      <td>NaN</td>\n      <td>2015-02-24 11:15:36 -0800</td>\n      <td>NaN</td>\n      <td>Pacific Time (US &amp; Canada)</td>\n    </tr>\n    <tr>\n      <th>4</th>\n      <td>570300817074462722</td>\n      <td>negative</td>\n      <td>1.0000</td>\n      <td>Can't Tell</td>\n      <td>1.0000</td>\n      <td>Virgin America</td>\n      <td>NaN</td>\n      <td>jnardino</td>\n      <td>NaN</td>\n      <td>0</td>\n      <td>@VirginAmerica and it is a really big bad thin...</td>\n      <td>NaN</td>\n      <td>2015-02-24 11:14:45 -0800</td>\n      <td>NaN</td>\n      <td>Pacific Time (US &amp; Canada)</td>\n    </tr>\n  </tbody>\n</table>\n</div>"
          },
          "metadata": {}
        }
      ],
      "execution_count": null
    },
    {
      "cell_type": "markdown",
      "source": [
        "### Tokenization\n",
        "\n",
        "We'll split the text into individual units such as words or tokens"
      ],
      "metadata": {
        "id": "9HG5DArFdZPS"
      }
    },
    {
      "cell_type": "code",
      "source": [
        "import nltk\n",
        "from nltk.tokenize import word_tokenize\n",
        "nltk.download('punkt_tab')"
      ],
      "metadata": {
        "colab": {
          "base_uri": "https://localhost:8080/"
        },
        "id": "REvmM_1EWm-5",
        "outputId": "1d59a8bc-2d07-4fa4-da1c-ee212c271a98",
        "trusted": true,
        "execution": {
          "iopub.status.busy": "2025-02-08T15:19:00.644201Z",
          "iopub.execute_input": "2025-02-08T15:19:00.644517Z",
          "iopub.status.idle": "2025-02-08T15:19:00.813311Z",
          "shell.execute_reply.started": "2025-02-08T15:19:00.644462Z",
          "shell.execute_reply": "2025-02-08T15:19:00.812429Z"
        }
      },
      "outputs": [
        {
          "name": "stdout",
          "text": "[nltk_data] Downloading package punkt_tab to /usr/share/nltk_data...\n[nltk_data]   Unzipping tokenizers/punkt_tab.zip.\n",
          "output_type": "stream"
        },
        {
          "execution_count": 38,
          "output_type": "execute_result",
          "data": {
            "text/plain": "True"
          },
          "metadata": {}
        }
      ],
      "execution_count": null
    },
    {
      "cell_type": "code",
      "source": [
        "# lowercasing everything\n",
        "data['text'] = data['text'].str.lower()"
      ],
      "metadata": {
        "id": "TkFQLZ8jD8D4",
        "trusted": true,
        "execution": {
          "iopub.status.busy": "2025-02-08T15:19:00.81407Z",
          "iopub.execute_input": "2025-02-08T15:19:00.81428Z",
          "iopub.status.idle": "2025-02-08T15:19:00.825746Z",
          "shell.execute_reply.started": "2025-02-08T15:19:00.814262Z",
          "shell.execute_reply": "2025-02-08T15:19:00.824648Z"
        }
      },
      "outputs": [],
      "execution_count": null
    },
    {
      "cell_type": "code",
      "source": [
        "data['text'][55]"
      ],
      "metadata": {
        "colab": {
          "base_uri": "https://localhost:8080/",
          "height": 35
        },
        "id": "zefdmVk0EizL",
        "outputId": "eb01937f-2e6d-4d2d-a45e-73b0c241c8a2",
        "trusted": true,
        "execution": {
          "iopub.status.busy": "2025-02-08T15:19:00.82661Z",
          "iopub.execute_input": "2025-02-08T15:19:00.826934Z",
          "iopub.status.idle": "2025-02-08T15:19:00.843246Z",
          "shell.execute_reply.started": "2025-02-08T15:19:00.826909Z",
          "shell.execute_reply": "2025-02-08T15:19:00.842502Z"
        }
      },
      "outputs": [
        {
          "execution_count": 40,
          "output_type": "execute_result",
          "data": {
            "text/plain": "'@virginamerica hi! i am so excited about your $ lga->dal deal- but i have been trying  book since last week & the page never loads. thanks!'"
          },
          "metadata": {}
        }
      ],
      "execution_count": null
    },
    {
      "cell_type": "code",
      "source": [
        "stopwords.words('english')"
      ],
      "metadata": {
        "colab": {
          "base_uri": "https://localhost:8080/"
        },
        "id": "5zTXyJe7D16Z",
        "outputId": "4f5dc302-af0c-42c0-cbcf-2355a972a693",
        "trusted": true,
        "execution": {
          "iopub.status.busy": "2025-02-08T15:19:00.844137Z",
          "iopub.execute_input": "2025-02-08T15:19:00.844423Z",
          "iopub.status.idle": "2025-02-08T15:19:00.861868Z",
          "shell.execute_reply.started": "2025-02-08T15:19:00.8444Z",
          "shell.execute_reply": "2025-02-08T15:19:00.861112Z"
        }
      },
      "outputs": [
        {
          "execution_count": 41,
          "output_type": "execute_result",
          "data": {
            "text/plain": "['i',\n 'me',\n 'my',\n 'myself',\n 'we',\n 'our',\n 'ours',\n 'ourselves',\n 'you',\n \"you're\",\n \"you've\",\n \"you'll\",\n \"you'd\",\n 'your',\n 'yours',\n 'yourself',\n 'yourselves',\n 'he',\n 'him',\n 'his',\n 'himself',\n 'she',\n \"she's\",\n 'her',\n 'hers',\n 'herself',\n 'it',\n \"it's\",\n 'its',\n 'itself',\n 'they',\n 'them',\n 'their',\n 'theirs',\n 'themselves',\n 'what',\n 'which',\n 'who',\n 'whom',\n 'this',\n 'that',\n \"that'll\",\n 'these',\n 'those',\n 'am',\n 'is',\n 'are',\n 'was',\n 'were',\n 'be',\n 'been',\n 'being',\n 'have',\n 'has',\n 'had',\n 'having',\n 'do',\n 'does',\n 'did',\n 'doing',\n 'a',\n 'an',\n 'the',\n 'and',\n 'but',\n 'if',\n 'or',\n 'because',\n 'as',\n 'until',\n 'while',\n 'of',\n 'at',\n 'by',\n 'for',\n 'with',\n 'about',\n 'against',\n 'between',\n 'into',\n 'through',\n 'during',\n 'before',\n 'after',\n 'above',\n 'below',\n 'to',\n 'from',\n 'up',\n 'down',\n 'in',\n 'out',\n 'on',\n 'off',\n 'over',\n 'under',\n 'again',\n 'further',\n 'then',\n 'once',\n 'here',\n 'there',\n 'when',\n 'where',\n 'why',\n 'how',\n 'all',\n 'any',\n 'both',\n 'each',\n 'few',\n 'more',\n 'most',\n 'other',\n 'some',\n 'such',\n 'no',\n 'nor',\n 'not',\n 'only',\n 'own',\n 'same',\n 'so',\n 'than',\n 'too',\n 'very',\n 's',\n 't',\n 'can',\n 'will',\n 'just',\n 'don',\n \"don't\",\n 'should',\n \"should've\",\n 'now',\n 'd',\n 'll',\n 'm',\n 'o',\n 're',\n 've',\n 'y',\n 'ain',\n 'aren',\n \"aren't\",\n 'couldn',\n \"couldn't\",\n 'didn',\n \"didn't\",\n 'doesn',\n \"doesn't\",\n 'hadn',\n \"hadn't\",\n 'hasn',\n \"hasn't\",\n 'haven',\n \"haven't\",\n 'isn',\n \"isn't\",\n 'ma',\n 'mightn',\n \"mightn't\",\n 'mustn',\n \"mustn't\",\n 'needn',\n \"needn't\",\n 'shan',\n \"shan't\",\n 'shouldn',\n \"shouldn't\",\n 'wasn',\n \"wasn't\",\n 'weren',\n \"weren't\",\n 'won',\n \"won't\",\n 'wouldn',\n \"wouldn't\"]"
          },
          "metadata": {}
        }
      ],
      "execution_count": null
    },
    {
      "cell_type": "code",
      "source": [
        "# Remove stop words\n",
        "\n",
        "stop_words = set(stopwords.words('english'))\n",
        "\n",
        "def remove_stopwords(text):\n",
        "  new_words = []\n",
        "  for word in text.split():\n",
        "    if word not in stop_words:\n",
        "      new_words.append(word)\n",
        "  return \" \".join(new_words)\n",
        "\n",
        "data['text'] = data['text'].apply(lambda x: remove_stopwords(x))"
      ],
      "metadata": {
        "id": "z6K04D6GCqyZ",
        "trusted": true,
        "execution": {
          "iopub.status.busy": "2025-02-08T15:19:00.862863Z",
          "iopub.execute_input": "2025-02-08T15:19:00.863189Z",
          "iopub.status.idle": "2025-02-08T15:19:00.918884Z",
          "shell.execute_reply.started": "2025-02-08T15:19:00.863155Z",
          "shell.execute_reply": "2025-02-08T15:19:00.918224Z"
        }
      },
      "outputs": [],
      "execution_count": null
    },
    {
      "cell_type": "code",
      "source": [
        "data['text'][55]"
      ],
      "metadata": {
        "colab": {
          "base_uri": "https://localhost:8080/",
          "height": 35
        },
        "id": "ZWjqUU_ZDc3m",
        "outputId": "ef3efe0d-f4d1-451b-cc4c-9f70fb34ff3d",
        "trusted": true,
        "execution": {
          "iopub.status.busy": "2025-02-08T15:19:00.919648Z",
          "iopub.execute_input": "2025-02-08T15:19:00.919859Z",
          "iopub.status.idle": "2025-02-08T15:19:00.924797Z",
          "shell.execute_reply.started": "2025-02-08T15:19:00.919841Z",
          "shell.execute_reply": "2025-02-08T15:19:00.923965Z"
        }
      },
      "outputs": [
        {
          "execution_count": 43,
          "output_type": "execute_result",
          "data": {
            "text/plain": "'@virginamerica hi! excited $ lga->dal deal- trying book since last week & page never loads. thanks!'"
          },
          "metadata": {}
        }
      ],
      "execution_count": null
    },
    {
      "cell_type": "code",
      "source": [
        "# tokenization\n",
        "# data['text'] = data['text'].apply(lambda x: word_tokenize(x))"
      ],
      "metadata": {
        "id": "e6esq0wqdrgS",
        "trusted": true,
        "execution": {
          "iopub.status.busy": "2025-02-08T15:19:00.925633Z",
          "iopub.execute_input": "2025-02-08T15:19:00.925848Z",
          "iopub.status.idle": "2025-02-08T15:19:00.937029Z",
          "shell.execute_reply.started": "2025-02-08T15:19:00.92582Z",
          "shell.execute_reply": "2025-02-08T15:19:00.936227Z"
        }
      },
      "outputs": [],
      "execution_count": null
    },
    {
      "cell_type": "code",
      "source": [
        "data['text'][55]"
      ],
      "metadata": {
        "colab": {
          "base_uri": "https://localhost:8080/",
          "height": 35
        },
        "id": "gzNkoO5NE2rY",
        "outputId": "8f140922-9024-4429-e1c1-c8db8d7945bd",
        "trusted": true,
        "execution": {
          "iopub.status.busy": "2025-02-08T15:19:00.937772Z",
          "iopub.execute_input": "2025-02-08T15:19:00.937982Z",
          "iopub.status.idle": "2025-02-08T15:19:00.954046Z",
          "shell.execute_reply.started": "2025-02-08T15:19:00.937962Z",
          "shell.execute_reply": "2025-02-08T15:19:00.953286Z"
        }
      },
      "outputs": [
        {
          "execution_count": 45,
          "output_type": "execute_result",
          "data": {
            "text/plain": "'@virginamerica hi! excited $ lga->dal deal- trying book since last week & page never loads. thanks!'"
          },
          "metadata": {}
        }
      ],
      "execution_count": null
    },
    {
      "cell_type": "code",
      "source": [
        "# Remove Punctuations\n",
        "import re\n",
        "\n",
        "# Remove punctuation using regex\n",
        "data['text'] = data['text'].apply(lambda x: re.sub(r'[^\\w\\s]', '', x))\n",
        "\n",
        "data['text']"
      ],
      "metadata": {
        "colab": {
          "base_uri": "https://localhost:8080/",
          "height": 458
        },
        "id": "y5uUGTP3gwPd",
        "outputId": "1d524d8e-24ac-45b7-b137-7a0f4d63ce1b",
        "trusted": true,
        "execution": {
          "iopub.status.busy": "2025-02-08T15:19:00.991449Z",
          "iopub.execute_input": "2025-02-08T15:19:00.991782Z",
          "iopub.status.idle": "2025-02-08T15:19:01.052014Z",
          "shell.execute_reply.started": "2025-02-08T15:19:00.991736Z",
          "shell.execute_reply": "2025-02-08T15:19:01.051057Z"
        }
      },
      "outputs": [
        {
          "execution_count": 48,
          "output_type": "execute_result",
          "data": {
            "text/plain": "0                              virginamerica dhepburn said\n1        virginamerica plus added commercials experienc...\n2        virginamerica today must mean need take anothe...\n3        virginamerica really aggressive blast obnoxiou...\n4                       virginamerica really big bad thing\n                               ...                        \n14635       americanair thank got different flight chicago\n14636    americanair leaving minutes late flight warnin...\n14637    americanair please bring american airlines bla...\n14638    americanair money change flight answer phones ...\n14639    americanair people need know many seats next f...\nName: text, Length: 14640, dtype: object"
          },
          "metadata": {}
        }
      ],
      "execution_count": null
    },
    {
      "cell_type": "code",
      "source": [],
      "metadata": {
        "id": "XP71zeoYhSWT",
        "trusted": true
      },
      "outputs": [],
      "execution_count": null
    },
    {
      "cell_type": "code",
      "source": [
        "data['text'][55]"
      ],
      "metadata": {
        "colab": {
          "base_uri": "https://localhost:8080/",
          "height": 35
        },
        "id": "-SkHuqZPhHNd",
        "outputId": "42f30073-0e22-4214-dc33-6fb402066794",
        "trusted": true,
        "execution": {
          "iopub.status.busy": "2025-02-08T15:19:01.052958Z",
          "iopub.execute_input": "2025-02-08T15:19:01.053274Z",
          "iopub.status.idle": "2025-02-08T15:19:01.058423Z",
          "shell.execute_reply.started": "2025-02-08T15:19:01.053239Z",
          "shell.execute_reply": "2025-02-08T15:19:01.057574Z"
        }
      },
      "outputs": [
        {
          "execution_count": 49,
          "output_type": "execute_result",
          "data": {
            "text/plain": "'virginamerica hi excited  lgadal deal trying book since last week  page never loads thanks'"
          },
          "metadata": {}
        }
      ],
      "execution_count": null
    },
    {
      "cell_type": "code",
      "source": [
        "# tokenized_text = [\"hello\", \",\", \"world\", \"!\", \"how\", \"are\", \"you\", \"?\"]\n",
        "# clean_text = remove_punctuations(tokenized_text)\n",
        "# print(clean_text)"
      ],
      "metadata": {
        "id": "nFI4ehgohTTn",
        "trusted": true,
        "execution": {
          "iopub.status.busy": "2025-02-08T15:19:01.059305Z",
          "iopub.execute_input": "2025-02-08T15:19:01.059609Z",
          "iopub.status.idle": "2025-02-08T15:19:01.071797Z",
          "shell.execute_reply.started": "2025-02-08T15:19:01.059585Z",
          "shell.execute_reply": "2025-02-08T15:19:01.070964Z"
        }
      },
      "outputs": [],
      "execution_count": null
    },
    {
      "cell_type": "code",
      "source": [
        "# Lemmatization\n",
        "lemmatizer  = WordNetLemmatizer()\n",
        "def lemmatize_tokens(text):\n",
        "    return \" \".join([lemmatizer.lemmatize(word, pos = 'v') for word in text.split()])\n"
      ],
      "metadata": {
        "id": "3eijPrFbgdum",
        "trusted": true,
        "execution": {
          "iopub.status.busy": "2025-02-08T15:19:01.072654Z",
          "iopub.execute_input": "2025-02-08T15:19:01.072928Z",
          "iopub.status.idle": "2025-02-08T15:19:01.086012Z",
          "shell.execute_reply.started": "2025-02-08T15:19:01.072895Z",
          "shell.execute_reply": "2025-02-08T15:19:01.085289Z"
        }
      },
      "outputs": [],
      "execution_count": null
    },
    {
      "cell_type": "code",
      "source": [
        "data['text'][55]"
      ],
      "metadata": {
        "colab": {
          "base_uri": "https://localhost:8080/",
          "height": 35
        },
        "id": "Y_ktWhzPjIuV",
        "outputId": "9d297f4f-c17e-4e84-95e4-34ae63862716",
        "trusted": true,
        "execution": {
          "iopub.status.busy": "2025-02-08T15:19:01.086742Z",
          "iopub.execute_input": "2025-02-08T15:19:01.086942Z",
          "iopub.status.idle": "2025-02-08T15:19:01.101467Z",
          "shell.execute_reply.started": "2025-02-08T15:19:01.086924Z",
          "shell.execute_reply": "2025-02-08T15:19:01.100666Z"
        }
      },
      "outputs": [
        {
          "execution_count": 52,
          "output_type": "execute_result",
          "data": {
            "text/plain": "'virginamerica hi excited  lgadal deal trying book since last week  page never loads thanks'"
          },
          "metadata": {}
        }
      ],
      "execution_count": null
    },
    {
      "cell_type": "code",
      "source": [
        "# Example text data\n",
        "\n",
        "texts = [\n",
        "    \"I love machine learning learning\",\"machine learning is fun\",\"I enjoy learning\"\n",
        "]"
      ],
      "metadata": {
        "id": "jWnj3LEPjz5J",
        "trusted": true,
        "execution": {
          "iopub.status.busy": "2025-02-08T15:19:01.102324Z",
          "iopub.execute_input": "2025-02-08T15:19:01.102636Z",
          "iopub.status.idle": "2025-02-08T15:19:01.115218Z",
          "shell.execute_reply.started": "2025-02-08T15:19:01.102605Z",
          "shell.execute_reply": "2025-02-08T15:19:01.114547Z"
        }
      },
      "outputs": [],
      "execution_count": null
    },
    {
      "cell_type": "code",
      "source": [
        "print(texts)"
      ],
      "metadata": {
        "colab": {
          "base_uri": "https://localhost:8080/"
        },
        "id": "-0OtTO63o794",
        "outputId": "40463ea4-0681-4e9d-dca9-f180cf14106c",
        "trusted": true,
        "execution": {
          "iopub.status.busy": "2025-02-08T15:19:01.115982Z",
          "iopub.execute_input": "2025-02-08T15:19:01.116187Z",
          "iopub.status.idle": "2025-02-08T15:19:01.131093Z",
          "shell.execute_reply.started": "2025-02-08T15:19:01.116167Z",
          "shell.execute_reply": "2025-02-08T15:19:01.130399Z"
        }
      },
      "outputs": [
        {
          "name": "stdout",
          "text": "['I love machine learning learning', 'machine learning is fun', 'I enjoy learning']\n",
          "output_type": "stream"
        }
      ],
      "execution_count": null
    },
    {
      "cell_type": "code",
      "source": [
        "from sklearn.feature_extraction.text import CountVectorizer\n",
        "count_vec = CountVectorizer(max_features = 100) # initialized max # parameters to 100\n",
        "## fit and transform the text data\n",
        "data_features_2 = count_vec.fit_transform(texts)"
      ],
      "metadata": {
        "id": "wj7TuOGwpA40",
        "trusted": true,
        "execution": {
          "iopub.status.busy": "2025-02-08T15:19:01.13698Z",
          "iopub.execute_input": "2025-02-08T15:19:01.137232Z",
          "iopub.status.idle": "2025-02-08T15:19:01.149045Z",
          "shell.execute_reply.started": "2025-02-08T15:19:01.137212Z",
          "shell.execute_reply": "2025-02-08T15:19:01.148243Z"
        }
      },
      "outputs": [],
      "execution_count": null
    },
    {
      "cell_type": "code",
      "source": [
        "print(data_features_2.toarray())"
      ],
      "metadata": {
        "colab": {
          "base_uri": "https://localhost:8080/"
        },
        "id": "fkxoShLwpYg3",
        "outputId": "42884bdc-ea2d-43cd-acfc-81b95bbe5fa4",
        "trusted": true,
        "execution": {
          "iopub.status.busy": "2025-02-08T15:19:01.15056Z",
          "iopub.execute_input": "2025-02-08T15:19:01.150786Z",
          "iopub.status.idle": "2025-02-08T15:19:01.162679Z",
          "shell.execute_reply.started": "2025-02-08T15:19:01.150765Z",
          "shell.execute_reply": "2025-02-08T15:19:01.161718Z"
        }
      },
      "outputs": [
        {
          "name": "stdout",
          "text": "[[0 0 0 2 1 1]\n [0 1 1 1 0 1]\n [1 0 0 1 0 0]]\n",
          "output_type": "stream"
        }
      ],
      "execution_count": null
    },
    {
      "cell_type": "code",
      "source": [
        "## output the results\n",
        "print(\"Vocabulary \", count_vec.get_feature_names_out())"
      ],
      "metadata": {
        "colab": {
          "base_uri": "https://localhost:8080/"
        },
        "id": "is-XwXoFpfPq",
        "outputId": "c4ec2a8c-3f39-4897-ba5f-df7c398ee6a1",
        "trusted": true,
        "execution": {
          "iopub.status.busy": "2025-02-08T15:19:01.16364Z",
          "iopub.execute_input": "2025-02-08T15:19:01.163934Z",
          "iopub.status.idle": "2025-02-08T15:19:01.178523Z",
          "shell.execute_reply.started": "2025-02-08T15:19:01.163904Z",
          "shell.execute_reply": "2025-02-08T15:19:01.177759Z"
        }
      },
      "outputs": [
        {
          "name": "stdout",
          "text": "Vocabulary  ['enjoy' 'fun' 'is' 'learning' 'love' 'machine']\n",
          "output_type": "stream"
        }
      ],
      "execution_count": null
    },
    {
      "cell_type": "code",
      "source": [
        "print(\"Data features array\\n\", data_features_2.toarray())"
      ],
      "metadata": {
        "colab": {
          "base_uri": "https://localhost:8080/"
        },
        "id": "XX9zzfuTpup-",
        "outputId": "a17218a4-c7b9-43ba-8006-7fcb6819365e",
        "trusted": true,
        "execution": {
          "iopub.status.busy": "2025-02-08T15:19:01.179345Z",
          "iopub.execute_input": "2025-02-08T15:19:01.179609Z",
          "iopub.status.idle": "2025-02-08T15:19:01.195356Z",
          "shell.execute_reply.started": "2025-02-08T15:19:01.179585Z",
          "shell.execute_reply": "2025-02-08T15:19:01.194429Z"
        }
      },
      "outputs": [
        {
          "name": "stdout",
          "text": "Data features array\n [[0 0 0 2 1 1]\n [0 1 1 1 0 1]\n [1 0 0 1 0 0]]\n",
          "output_type": "stream"
        }
      ],
      "execution_count": null
    },
    {
      "cell_type": "code",
      "source": [
        "data['text'] = data['text'].astype(str)  # Convert to string\n",
        "data['text']"
      ],
      "metadata": {
        "colab": {
          "base_uri": "https://localhost:8080/",
          "height": 458
        },
        "id": "x9xUciTPuxkq",
        "outputId": "867517e4-a2a8-4ad7-cda7-4e9e7e374e52",
        "trusted": true,
        "execution": {
          "iopub.status.busy": "2025-02-08T15:19:01.196287Z",
          "iopub.execute_input": "2025-02-08T15:19:01.196626Z",
          "iopub.status.idle": "2025-02-08T15:19:01.215911Z",
          "shell.execute_reply.started": "2025-02-08T15:19:01.196597Z",
          "shell.execute_reply": "2025-02-08T15:19:01.215131Z"
        }
      },
      "outputs": [
        {
          "execution_count": 59,
          "output_type": "execute_result",
          "data": {
            "text/plain": "0                              virginamerica dhepburn said\n1        virginamerica plus added commercials experienc...\n2        virginamerica today must mean need take anothe...\n3        virginamerica really aggressive blast obnoxiou...\n4                       virginamerica really big bad thing\n                               ...                        \n14635       americanair thank got different flight chicago\n14636    americanair leaving minutes late flight warnin...\n14637    americanair please bring american airlines bla...\n14638    americanair money change flight answer phones ...\n14639    americanair people need know many seats next f...\nName: text, Length: 14640, dtype: object"
          },
          "metadata": {}
        }
      ],
      "execution_count": null
    },
    {
      "cell_type": "code",
      "source": [
        "type(data['text'])"
      ],
      "metadata": {
        "colab": {
          "base_uri": "https://localhost:8080/",
          "height": 204
        },
        "id": "7npG0sXY0983",
        "outputId": "1d7a7ae0-ddd9-4a4b-bc2b-67b3aa7bfb0c",
        "trusted": true,
        "execution": {
          "iopub.status.busy": "2025-02-08T15:19:01.216706Z",
          "iopub.execute_input": "2025-02-08T15:19:01.216951Z",
          "iopub.status.idle": "2025-02-08T15:19:01.229391Z",
          "shell.execute_reply.started": "2025-02-08T15:19:01.216931Z",
          "shell.execute_reply": "2025-02-08T15:19:01.228622Z"
        }
      },
      "outputs": [
        {
          "execution_count": 60,
          "output_type": "execute_result",
          "data": {
            "text/plain": "pandas.core.series.Series"
          },
          "metadata": {}
        }
      ],
      "execution_count": null
    },
    {
      "cell_type": "code",
      "source": [
        "Count_vec = CountVectorizer(max_features = 5000) # keeping top 5000 most frequent words\n",
        "data_features = Count_vec.fit_transform(data['text'])"
      ],
      "metadata": {
        "id": "emiNusRwzq9Q",
        "trusted": true,
        "execution": {
          "iopub.status.busy": "2025-02-08T15:19:01.230246Z",
          "iopub.execute_input": "2025-02-08T15:19:01.230566Z",
          "iopub.status.idle": "2025-02-08T15:19:01.394995Z",
          "shell.execute_reply.started": "2025-02-08T15:19:01.230535Z",
          "shell.execute_reply": "2025-02-08T15:19:01.394207Z"
        }
      },
      "outputs": [],
      "execution_count": null
    },
    {
      "cell_type": "code",
      "source": [
        "data_features.toarray()"
      ],
      "metadata": {
        "colab": {
          "base_uri": "https://localhost:8080/"
        },
        "id": "OyDFN8chu1WO",
        "outputId": "cdb461da-4185-4fd5-a84f-e6c5e7927130",
        "trusted": true,
        "execution": {
          "iopub.status.busy": "2025-02-08T15:19:01.395734Z",
          "iopub.execute_input": "2025-02-08T15:19:01.395973Z",
          "iopub.status.idle": "2025-02-08T15:19:01.631364Z",
          "shell.execute_reply.started": "2025-02-08T15:19:01.395952Z",
          "shell.execute_reply": "2025-02-08T15:19:01.630552Z"
        }
      },
      "outputs": [
        {
          "execution_count": 62,
          "output_type": "execute_result",
          "data": {
            "text/plain": "array([[0, 0, 0, ..., 0, 0, 0],\n       [0, 0, 0, ..., 0, 0, 0],\n       [0, 0, 0, ..., 0, 0, 0],\n       ...,\n       [0, 0, 0, ..., 0, 0, 0],\n       [0, 0, 0, ..., 0, 0, 0],\n       [0, 0, 0, ..., 0, 0, 0]])"
          },
          "metadata": {}
        }
      ],
      "execution_count": null
    },
    {
      "cell_type": "code",
      "source": [
        "data_features.shape"
      ],
      "metadata": {
        "colab": {
          "base_uri": "https://localhost:8080/"
        },
        "id": "-oSF2PKou4hj",
        "outputId": "9cac642d-6c81-465d-bc52-5f2959861476",
        "trusted": true,
        "execution": {
          "iopub.status.busy": "2025-02-08T15:19:01.632106Z",
          "iopub.execute_input": "2025-02-08T15:19:01.632308Z",
          "iopub.status.idle": "2025-02-08T15:19:01.637155Z",
          "shell.execute_reply.started": "2025-02-08T15:19:01.632291Z",
          "shell.execute_reply": "2025-02-08T15:19:01.636363Z"
        }
      },
      "outputs": [
        {
          "execution_count": 63,
          "output_type": "execute_result",
          "data": {
            "text/plain": "(14640, 5000)"
          },
          "metadata": {}
        }
      ],
      "execution_count": null
    },
    {
      "cell_type": "code",
      "source": [
        "data['text'].shape"
      ],
      "metadata": {
        "colab": {
          "base_uri": "https://localhost:8080/"
        },
        "id": "cjUAe0-gu7nB",
        "outputId": "e81f0da8-a3e8-48fc-e109-716e5dc240cb",
        "trusted": true,
        "execution": {
          "iopub.status.busy": "2025-02-08T15:19:01.637948Z",
          "iopub.execute_input": "2025-02-08T15:19:01.638189Z",
          "iopub.status.idle": "2025-02-08T15:19:01.651177Z",
          "shell.execute_reply.started": "2025-02-08T15:19:01.638169Z",
          "shell.execute_reply": "2025-02-08T15:19:01.650566Z"
        }
      },
      "outputs": [
        {
          "execution_count": 64,
          "output_type": "execute_result",
          "data": {
            "text/plain": "(14640,)"
          },
          "metadata": {}
        }
      ],
      "execution_count": null
    },
    {
      "cell_type": "code",
      "source": [
        "print(\"Vocabulary: \", list(Count_vec.get_feature_names_out()))"
      ],
      "metadata": {
        "colab": {
          "base_uri": "https://localhost:8080/"
        },
        "id": "NGerDIl_vMMK",
        "outputId": "45acf180-af92-4227-df63-66fd80992517",
        "trusted": true,
        "execution": {
          "iopub.status.busy": "2025-02-08T15:19:01.651926Z",
          "iopub.execute_input": "2025-02-08T15:19:01.652214Z",
          "iopub.status.idle": "2025-02-08T15:19:01.668599Z",
          "shell.execute_reply.started": "2025-02-08T15:19:01.652186Z",
          "shell.execute_reply": "2025-02-08T15:19:01.667826Z"
        }
      },
      "outputs": [
        {
          "name": "stdout",
          "text": "Vocabulary:  ['aa', 'aaba', 'aadfw', 'aadv', 'aadvantage', 'aafail', 'aal', 'aano', 'aarp', 'aas', 'ab', 'abc', 'ability', 'able', 'aboard', 'about', 'abq', 'absolute', 'absolutely', 'absurd', 'abused', 'abysmal', 'ac', 'accept', 'acceptable', 'accepted', 'accepting', 'access', 'accident', 'accidentally', 'accommodate', 'accommodated', 'accommodating', 'accommodations', 'accomplished', 'according', 'accordingly', 'account', 'accountability', 'accounts', 'accurate', 'acknowledge', 'acknowledgment', 'acquisition', 'across', 'act', 'action', 'actions', 'active', 'actual', 'actually', 'ad', 'add', 'added', 'adding', 'addition', 'additional', 'address', 'addressed', 'adds', 'addtl', 'admiral', 'admirals', 'admit', 'adopting', 'ads', 'advance', 'advantage', 'advertise', 'advertising', 'advice', 'advise', 'advised', 'advisory', 'affected', 'afford', 'affordable', 'after', 'afternoon', 'again', 'age', 'agency', 'agent', 'agents', 'ages', 'aggressive', 'ago', 'agree', 'agt', 'ah', 'ahead', 'ahhhh', 'ahold', 'air', 'airbus', 'aircanada', 'aircraft', 'airfare', 'airline', 'airlinegeeks', 'airlines', 'airplane', 'airplanes', 'airport', 'airports', 'airways', 'aisle', 'aka', 'alaska', 'albany', 'albuquerque', 'alert', 'alerts', 'alex', 'ali', 'alist', 'alive', 'all', 'alliance', 'allow', 'allowance', 'allowed', 'allowing', 'allows', 'almost', 'alone', 'along', 'alot', 'already', 'alright', 'also', 'alternate', 'alternative', 'alternatives', 'although', 'altitude', 'always', 'am', 'amazed', 'amazing', 'america', 'american', 'americanair', 'americanairlines', 'americanview', 'amex', 'among', 'amount', 'amybruni', 'ana', 'anamarketers', 'and', 'andor', 'andrews', 'android', 'angel', 'angry', 'anniversary', 'announce', 'announced', 'announcement', 'announcements', 'announces', 'annoyed', 'annoying', 'annricord', 'annual', 'another', 'answer', 'answered', 'answering', 'answers', 'anthony', 'anticipate', 'antonio', 'anxious', 'any', 'anybody', 'anymore', 'anyone', 'anything', 'anytime', 'anyway', 'anywhere', 'apart', 'apologies', 'apologize', 'apologizes', 'apologizing', 'apology', 'app', 'appalled', 'apparent', 'apparently', 'appear', 'appears', 'appease', 'apple', 'application', 'applied', 'apply', 'appointments', 'appreciate', 'appreciated', 'appreciates', 'appreciation', 'approach', 'approaching', 'appropriate', 'approve', 'approved', 'approx', 'apps', 'april', 'apt', 'are', 'area', 'argentina', 'argued', 'argument', 'arizona', 'armrest', 'arms', 'around', 'arrange', 'arranged', 'arrangements', 'arrival', 'arrivals', 'arrive', 'arrived', 'arrives', 'arriving', 'arrogant', 'article', 'aruba', 'as', 'ase', 'ashamed', 'ask', 'asked', 'asking', 'askpaypal', 'asks', 'asleep', 'aspen', 'ass', 'assaulted', 'assign', 'assigned', 'assignment', 'assignments', 'assist', 'assistance', 'assisting', 'assult', 'assume', 'assuming', 'assured', 'at', 'atc', 'athletes', 'atl', 'atlanta', 'atlantic', 'atrocious', 'attached', 'attempt', 'attempted', 'attempting', 'attend', 'attendant', 'attendants', 'attention', 'attitude', 'attitudes', 'atx', 'aug', 'august', 'auh', 'aus', 'austin', 'australia', 'auto', 'automated', 'automatically', 'avail', 'availability', 'available', 'average', 'avgeek', 'aviation', 'aviv', 'avoid', 'aw', 'awaiting', 'awake', 'award', 'awards', 'aware', 'away', 'awe', 'awesome', 'awful', 'awkward', 'aww', 'awww', 'az', 'ba', 'babies', 'baby', 'back', 'backlog', 'backs', 'backup', 'backwards', 'bad', 'badcustomerservice', 'badge', 'badges', 'badly', 'badmgmt', 'badpolicy', 'badservice', 'bae', 'bag', 'bagage', 'baggage', 'baggagelost', 'baggages', 'bags', 'bagsno', 'bahamas', 'balance', 'ball', 'balls', 'baltimore', 'band', 'bandwidth', 'bangkok', 'bank', 'bankrupt', 'bar', 'barbados', 'barbara', 'barely', 'base', 'based', 'basic', 'basically', 'basket', 'bathroom', 'bathrooms', 'batteries', 'battery', 'battierccipuppy', 'batting', 'battles', 'battling', 'bay', 'bc', 'bdl', 'be', 'beach', 'beamske', 'beanie', 'beantownmatty', 'beat', 'beating', 'beats', 'beatsmusic', 'beautiful', 'beautifully', 'beauty', 'became', 'because', 'become', 'becomes', 'becoming', 'bed', 'been', 'beer', 'beers', 'before', 'beforeafter', 'beg', 'began', 'begin', 'beginning', 'begins', 'behalf', 'behave', 'behavior', 'behind', 'bein', 'being', 'belfast', 'believe', 'believing', 'belize', 'bellagio', 'belong', 'belongings', 'belt', 'bench', 'beneficial', 'benefit', 'benefits', 'ber', 'bereavement', 'besides', 'best', 'bestairline', 'bestairlineever', 'bestemployees', 'bestflightever', 'bestfriends', 'besty', 'bet', 'betsy', 'better', 'betting', 'beverage', 'beverages', 'beware', 'beyond', 'bf', 'bff', 'bgm', 'bgr', 'bhm', 'big', 'bigger', 'biggest', 'biggie', 'bike', 'bill', 'billing', 'billions', 'bin', 'bins', 'bio', 'bird', 'birds', 'birmingham', 'birth', 'birthdate', 'birthday', 'bit', 'bitch', 'biz', 'bizarre', 'bk', 'bkk', 'black', 'blackhistorymonth', 'blah', 'blame', 'blamed', 'blames', 'blaming', 'blank', 'blankets', 'blast', 'blasting', 'blatant', 'bless', 'blew', 'blizzard', 'block', 'blocked', 'blocking', 'blog', 'bloody', 'blowing', 'blown', 'blue', 'bluecarpet', 'bluemanity', 'blumanity', 'bna', 'board', 'boarded', 'boarding', 'boards', 'boat', 'boatstyle', 'boeing', 'boeingairplanes', 'bogota', 'bohol', 'boise', 'bold', 'bom', 'bonus', 'bonuses', 'boo', 'book', 'booked', 'booking', 'books', 'boom', 'boooo', 'booted', 'boots', 'booze', 'bora', 'border', 'born', 'bos', 'boslas', 'boss', 'boston', 'bostonlogan', 'bot', 'both', 'bother', 'bothered', 'bots', 'bottle', 'bottles', 'bottom', 'bought', 'bougth', 'bounce', 'bounced', 'bound', 'bourbon', 'bout', 'box', 'boy', 'boycott', 'boyfriend', 'boys', 'bqn', 'brain', 'brand', 'brandloveaffair', 'brandmance', 'brands', 'brandssayingbae', 'bravo', 'brazil', 'breach', 'break', 'breakdown', 'breakfast', 'breaking', 'breaks', 'breast', 'breath', 'breeze', 'bretharold', 'brian', 'bridge', 'bright', 'brilliant', 'bring', 'bringing', 'british_airways', 'bro', 'broadway', 'broke', 'broken', 'brokenpromises', 'brother', 'brothers', 'brought', 'browser', 'browsers', 'bruh', 'brush', 'brushing', 'brutal', 'bs', 'btr', 'bttr', 'btv', 'btwn', 'bucket', 'bucks', 'buddies', 'buddy', 'budget', 'buf', 'buffalo', 'bug', 'build', 'bulkhead', 'bull', 'bullshit', 'bummed', 'bummer', 'bump', 'bumped', 'bumper', 'bumping', 'bunch', 'burbank', 'burger', 'burn', 'burning', 'burningman', 'bus', 'bush', 'busiest', 'business', 'businessfirst', 'bussey', 'busy', 'but', 'butt', 'button', 'buttons', 'buttonthatcalled', 'buy', 'buyer', 'buying', 'bwi', 'bwi_airport', 'bwisjd', 'by', 'bye', 'ca', 'cab', 'cabin', 'cabo', 'cae', 'caffeine', 'cake', 'cal', 'calendar', 'calgary', 'cali', 'california', 'call', 'callback', 'callbacks', 'called', 'calledit', 'caller', 'callers', 'calling', 'calls', 'came', 'camera', 'camp', 'campilley', 'can', 'cana', 'canada', 'canadian', 'cancelled', 'cancer', 'cancun', 'caned', 'canned', 'cannot', 'canx', 'capa_aviation', 'capable', 'capacity', 'capital', 'capt', 'captain', 'captive', 'capture', 'car', 'card', 'cardholder', 'cards', 'care', 'cared', 'cares', 'cargo', 'caribbean', 'caring', 'carol', 'carolina', 'carousel', 'carpet', 'carrie', 'carried', 'carrier', 'carriers', 'carrieunderwood', 'carry', 'carrying', 'carryon', 'carryons', 'carseat', 'carsl', 'cart', 'case', 'cases', 'cash', 'casimir', 'catch', 'catching', 'catered', 'catering', 'cats', 'cattle', 'caught', 'caused', 'causes', 'causing', 'cb', 'cc', 'cebu', 'celebrate', 'celebrates', 'celebrating', 'cell', 'cellphone', 'center', 'centers', 'central', 'centre', 'centricity', 'century', 'ceo', 'cert', 'certain', 'certainly', 'certificate', 'certificates', 'cessnas', 'cha', 'chain', 'chair', 'chairman', 'chairmans', 'chairs', 'challenge', 'challenges', 'challenging', 'chance', 'chances', 'change', 'changed', 'changes', 'changing', 'channel', 'channels', 'chaos', 'chaotic', 'chapter', 'char', 'characters', 'charge', 'charged', 'charges', 'charging', 'charity', 'charles', 'charleston', 'charlotte', 'charm', 'chart', 'charter', 'chase', 'chasefoster', 'chat', 'cheap', 'cheaper', 'cheapflights', 'cheated', 'check', 'checked', 'checkin', 'checking', 'checkins', 'checkout', 'checkpoint', 'checks', 'cheer', 'cheers', 'cheertymedad', 'cheese', 'cheesy', 'chef', 'cherry', 'chg', 'chi', 'chicago', 'chicagotribune', 'chicken', 'chief', 'child', 'childish', 'children', 'childs', 'chill', 'chimid', 'china', 'chips', 'chkd', 'chnge', 'cho', 'chocolate', 'choice', 'choices', 'choose', 'choosing', 'choppiest', 'chose', 'chosen', 'christmas', 'chrome', 'chronicleherald', 'chs', 'cincinnati', 'cincy', 'circle', 'circumstances', 'cities', 'citing', 'citizen', 'city', 'claim', 'claimed', 'claiming', 'claims', 'clarence', 'clarification', 'clarify', 'clarifying', 'clarkey_', 'class', 'classes', 'classy', 'claudoakeshott', 'cld', 'cldnt', 'cle', 'clean', 'cleaned', 'cleaning', 'clear', 'cleared', 'clearing', 'clearly', 'clesfo', 'cleveland', 'clever', 'click', 'clicked', 'clicking', 'client', 'clients', 'cll', 'clockwork', 'close', 'closed', 'closepwcs', 'closer', 'closes', 'closest', 'closing', 'clothes', 'clothing', 'cloud', 'clouds', 'clown', 'clt', 'club', 'clubs', 'clue', 'clueless', 'cluster', 'clutch', 'cmh', 'cmon', 'cnn', 'cnnbrk', 'cnnmoney', 'cnx', 'cnxn', 'co', 'coach', 'coached', 'coast', 'coasts', 'coat', 'coats', 'cockpit', 'cocktail', 'code', 'codeshare', 'coffee', 'coincidence', 'coke', 'cold', 'colleague', 'colleagues', 'collect', 'collection', 'college', 'colo', 'colombia', 'color', 'columbia', 'columbus', 'combination', 'combine', 'comcast', 'come', 'comedy', 'comes', 'comfort', 'comfortable', 'coming', 'comm', 'comment', 'comments', 'commercial', 'commercials', 'commitment', 'committed', 'common', 'communicate', 'communicated', 'communication', 'communications', 'community', 'comp', 'companies', 'companion', 'company', 'compared', 'compassion', 'comped', 'compensate', 'compensated', 'compensation', 'competent', 'competition', 'competitor', 'complain', 'complained', 'complaint', 'complaints', 'complete', 'completed', 'completely', 'complicated', 'compliment', 'complimentary', 'computer', 'computers', 'con', 'concept', 'concern', 'concerned', 'concerns', 'concert', 'concourse', 'condition', 'conditions', 'conf', 'conference', 'confidence', 'confident', 'confirm', 'confirmation', 'confirmed', 'confirming', 'conflicting', 'confused', 'confusing', 'confusion', 'congrats', 'congratulations', 'connect', 'connected', 'connecting', 'connection', 'connections', 'connector', 'consecutive', 'consider', 'consideration', 'considered', 'considering', 'consistent', 'consistently', 'constant', 'constantly', 'consumers', 'cont', 'contact', 'contacted', 'contacting', 'content', 'contest', 'continental', 'contingency', 'continually', 'continue', 'continued', 'continues', 'continuing', 'continuous', 'contract', 'control', 'convenient', 'conversation', 'conversations', 'cookies', 'cool', 'coordinate', 'copy', 'corp', 'corporate', 'corporation', 'correct', 'corrected', 'correctly', 'cost', 'costa', 'costing', 'costs', 'costumer', 'cot', 'could', 'count', 'counter', 'counting', 'country', 'couple', 'coupon', 'coupons', 'course', 'court', 'courteous', 'courtesy', 'cousin', 'cover', 'coverage', 'covered', 'cowboycerrone', 'coworker', 'coworkers', 'cr', 'crackers', 'cramped', 'cranky', 'crap', 'crappy', 'crash', 'crashed', 'crashing', 'craziness', 'crazy', 'create', 'created', 'credit', 'credited', 'credits', 'crew', 'crewmember', 'crewmembers', 'crews', 'crisis', 'cross', 'crossed', 'crowd', 'crowded', 'cruel', 'cruise', 'cry', 'crying', 'cs', 'csr', 'ct', 'ctl', 'cuba', 'cue', 'culture', 'cun', 'cup', 'curbside', 'curious', 'current', 'currently', 'cust', 'customer', 'customers', 'customerservice', 'customerservicefail', 'customs', 'custserv', 'cut', 'cute', 'cutting', 'cuz', 'cvg', 'cx', 'cxl', 'cxld', 'dad', 'daily', 'dal', 'dallas', 'dallaslovefield', 'damage', 'damaged', 'damn', 'dance', 'dancing', 'dang', 'dare', 'dark', 'darn', 'data', 'date', 'dates', 'daughter', 'daughters', 'david', 'day', 'days', 'daytona', 'dc', 'dca', 'dcabos', 'de', 'dead', 'deadhead', 'deaf', 'deal', 'dealing', 'deals', 'dealt', 'dear', 'death', 'debacle', 'december', 'decency', 'decent', 'decide', 'decided', 'decision', 'decisions', 'deck', 'deep', 'def', 'define', 'definitely', 'definition', 'degree', 'degrees', 'deice', 'deiced', 'deicing', 'delay', 'delayed', 'delayedcancelled', 'delaying', 'delays', 'delayscancelled', 'delete', 'deleted', 'delhi', 'deliver', 'delivered', 'delivery', 'delta', 'deltaassist', 'den', 'denied', 'denphx', 'denver', 'deny', 'dep', 'depart', 'departed', 'departing', 'department', 'departs', 'departure', 'departures', 'deplane', 'deplaned', 'deplaning', 'deplorable', 'dept', 'derekc', 'derrick', 'describe', 'deserve', 'deserved', 'deserves', 'design', 'designed', 'desk', 'desks', 'desktop', 'desperately', 'despite', 'dest', 'destination', 'destinationdragons', 'destinations', 'destroyed', 'detail', 'detailed', 'details', 'detroit', 'develop', 'device', 'devices', 'dfw', 'dfwairport', 'dia', 'dial', 'dialing', 'did', 'die', 'died', 'diego', 'difference', 'different', 'difficult', 'digital', 'dime', 'dining', 'dinner', 'direct', 'directed', 'directly', 'directtv', 'dirty', 'disabled', 'disappear', 'disappeared', 'disappoint', 'disappointed', 'disappointing', 'disappointment', 'disaster', 'disconnect', 'disconnected', 'disconnects', 'discount', 'discounts', 'discover', 'discovered', 'discrimination', 'discuss', 'disgrace', 'disgraceful', 'disgruntled', 'disgusted', 'disgusting', 'dislike', 'disney', 'disorganization', 'disorganized', 'display', 'displayed', 'disregard', 'disrespect', 'disrespectful', 'dissatisfied', 'distribution', 'div', 'diversion', 'divert', 'diverted', 'diverting', 'dividend', 'dividends', 'dl', 'dm', 'dmd', 'dmed', 'dming', 'dms', 'do', 'dobetter', 'document', 'does', 'dog', 'doing', 'dollar', 'dollars', 'domestic', 'donation', 'done', 'door', 'doors', 'dot', 'double', 'doubt', 'doug', 'down', 'downgrade', 'downhill', 'download', 'downtown', 'dozen', 'dozens', 'dpt', 'dr', 'dragon', 'dragons', 'dream', 'dreams', 'drink', 'drinks', 'drive', 'driven', 'driver', 'driving', 'drop', 'dropped', 'dropping', 'drops', 'drove', 'drunk', 'drunks', 'dry', 'dsm', 'dtw', 'dublin', 'dude', 'due', 'duffle', 'duh', 'dulles', 'dulles_airport', 'dumb', 'durango', 'during', 'duty', 'dying', 'each', 'earlier', 'early', 'earlybird', 'earn', 'earned', 'earth', 'easier', 'easiest', 'easily', 'east', 'eastern', 'easy', 'eat', 'eb', 'eco', 'econ', 'economy', 'edinburgh', 'educate', 'education', 'educational', 'efficiency', 'efficient', 'effort', 'efforts', 'eh', 'eight', 'either', 'el', 'elaborate', 'elderly', 'elevate', 'eligible', 'elite', 'ellahenderson', 'ellas', 'elm', 'else', 'elses', 'elsewhere', 'email', 'emailed', 'emailing', 'emails', 'embarrassed', 'embarrassing', 'embarrassment', 'embassy', 'embossed', 'embraersa', 'emerald', 'emergency', 'emp', 'empathy', 'employ', 'employee', 'employees', 'employer', 'empty', 'ems', 'emv', 'en', 'encountered', 'end', 'ended', 'endless', 'endlessly', 'ends', 'energy', 'enforcing', 'engaging', 'engine', 'english', 'enjoy', 'enjoyable', 'enjoyed', 'enjoying', 'enough', 'enquires', 'enroll', 'enroute', 'ensure', 'ensuring', 'enter', 'entered', 'entering', 'enterprise', 'entertain', 'entertaining', 'entertainment', 'entire', 'entirely', 'entitled', 'entrance', 'entry', 'enuf', 'environment', 'envoy', 'ep', 'epic', 'epicfail', 'epicfailunited', 'eps', 'equal', 'equally', 'equip', 'equipment', 'erj', 'err', 'error', 'errors', 'escape', 'esp', 'especially', 'espinosa', 'essentially', 'est', 'establish', 'established', 'estimate', 'estimated', 'eta', 'etc', 'ethiopia', 'etihad', 'eu', 'europe', 'evaluate', 'even', 'evening', 'evenlate', 'event', 'events', 'eventually', 'ever', 'every', 'everybody', 'everyone', 'everything', 'everythings', 'everytime', 'everywhere', 'evoucher', 'evry', 'ewr', 'ex', 'exact', 'exactly', 'example', 'exceed', 'excellence', 'excellent', 'except', 'exception', 'exceptional', 'exceptions', 'exchange', 'excited', 'exclusively', 'excuse', 'excuses', 'exec', 'execplat', 'execution', 'executive', 'exercise', 'exhausted', 'exist', 'existence', 'existent', 'existing', 'exists', 'exit', 'exp', 'expanding', 'expect', 'expectations', 'expected', 'expecting', 'expedia', 'expedient', 'expedite', 'expedited', 'expense', 'expenses', 'expensive', 'experience', 'experienced', 'experiences', 'experiencing', 'expiration', 'expire', 'expired', 'expires', 'expiring', 'explain', 'explained', 'explaining', 'explains', 'explanation', 'explanations', 'explore', 'explorer', 'exposed', 'express', 'expressed', 'extend', 'extended', 'extension', 'extent', 'extra', 'extreme', 'extremely', 'ey', 'eye', 'eyes', 'eyw', 'fa', 'faa', 'faanews', 'fab', 'fabulous', 'face', 'facebook', 'faces', 'facing', 'fact', 'fail', 'failed', 'failing', 'fails', 'failure', 'failures', 'fair', 'fairly', 'fairs', 'faith', 'faithful', 'fake', 'fall', 'falling', 'fallow', 'falls', 'false', 'fam', 'families', 'family', 'familywe', 'fan', 'fans', 'fantastic', 'far', 'fare', 'farecompare', 'fares', 'fas', 'fast', 'faster', 'fastest', 'fat', 'fate', 'father', 'fault', 'faulty', 'faus', 'fav', 'fave', 'faves', 'favor', 'favorite', 'fb', 'fc', 'fcking', 'fear', 'feature', 'feb', 'february', 'feces', 'fed', 'federal', 'fee', 'feed', 'feedback', 'feel', 'feeling', 'feels', 'fees', 'feet', 'fell', 'fella', 'felt', 'female', 'ferry', 'festival', 'festivities', 'fewer', 'ff', 'ffl', 'fiancé', 'fiancée', 'fiasco', 'field', 'fields', 'fight', 'figure', 'figured', 'file', 'filed', 'filing', 'fill', 'filled', 'filling', 'film', 'filmcrew', 'filmjobnoequipment', 'films', 'filthy', 'filthyplane', 'final', 'finally', 'finals', 'financial', 'find', 'finder', 'finding', 'finds', 'fine', 'finest', 'fing', 'finger', 'fingers', 'finish', 'finnair', 'fiorettindward', 'fire', 'fired', 'first', 'firstclass', 'firstworldproblems', 'fit', 'fits', 'five', 'fix', 'fixed', 'fixing', 'fl', 'flashlight', 'flat', 'flattering', 'flaw', 'flawed', 'fleek', 'fleet', 'fleets', 'flew', 'flex', 'flexibility', 'flexible', 'flght', 'flgt', 'flier', 'flierfriendly', 'fliers', 'flies', 'flight', 'flightation', 'flightations', 'flightaware', 'flightd', 'flighted', 'flightedflight', 'flightfail', 'flighting', 'flightlation', 'flightlations', 'flightled', 'flightledflight', 'flightling', 'flightly', 'flightno', 'flightr', 'flights', 'flightst', 'flighttold', 'flightua', 'fligt', 'flipped', 'flite', 'fll', 'fllsfo', 'floor', 'floors', 'florida', 'flow', 'flowers', 'flown', 'flt', 'flts', 'fly', 'fly_nashville', 'flydelta', 'flyer', 'flyerfriendly', 'flyers', 'flyfi', 'flying', 'flyingitforward', 'flyitforward', 'flylaxairport', 'flymidway', 'flyohare', 'flypdx', 'flysaa', 'flysfo', 'flysouthwest', 'flyswa', 'flytpa', 'flyunited', 'flyyow', 'fm', 'fo', 'focused', 'folder', 'folding', 'folk', 'folks', 'follow', 'followback', 'followed', 'followers', 'following', 'follows', 'followup', 'food', 'foolish', 'foot', 'for', 'force', 'forced', 'forces', 'forcing', 'forecast', 'forecasted', 'forecasts', 'foreign', 'forever', 'forfeited', 'forget', 'forgetting', 'forgive', 'forgiven', 'forgot', 'forgotten', 'form', 'formal', 'formally', 'former', 'forms', 'formula', 'fort', 'forth', 'fortunately', 'fortunemagazine', 'forward', 'found', 'four', 'fourth', 'foxnews', 'fr', 'fra', 'fran', 'france', 'franchise', 'francisco', 'frankfurt', 'frankly', 'fraud', 'freaked', 'freaking', 'free', 'freezing', 'french', 'freq', 'frequency', 'frequent', 'frequentflyer', 'fresh', 'fresno', 'freyabevan_fund', 'freyasfund', 'fri', 'friday', 'friend', 'friendliest', 'friendly', 'friendlyskies', 'friends', 'frigid', 'fritz', 'frm', 'fro', 'from', 'fron', 'front', 'frontier', 'frontrunner', 'frozen', 'frustrated', 'frustrating', 'frustratingit', 'frustration', 'frustrations', 'ft', 'ftw', 'fu', 'fuck', 'fucked', 'fucken', 'fucking', 'fuel', 'fueled', 'fuk', 'full', 'fully', 'fun', 'functionality', 'functioning', 'funds', 'funeral', 'funny', 'furious', 'furrow', 'further', 'fustrated', 'future', 'fwiw', 'fyi', 'fyicall', 'ga', 'gaga', 'gain', 'gainesville', 'gains', 'gal', 'galley', 'game', 'gangway', 'garbage', 'garciachicago', 'gary', 'gas', 'gate', 'gates', 'gatwick', 'gave', 'gay', 'gb', 'gear', 'gee', 'geeks', 'geg', 'gems', 'general', 'generated', 'generic', 'genius', 'gent', 'gentleman', 'gents', 'george', 'gesture', 'get', 'getaway', 'getittogether', 'gets', 'gettin', 'getting', 'gf', 'gfc', 'gg', 'ggreenwald', 'giant', 'gift', 'gifts', 'girl', 'girlfriend', 'girls', 'give', 'given', 'gives', 'giving', 'gj', 'glad', 'gladly', 'glasgow', 'glass', 'glasses', 'glitch', 'glitches', 'global', 'globe', 'gloves', 'gluten', 'gma', 'gmail', 'gng', 'gnv', 'go', 'goal', 'god', 'goes', 'gogh', 'gogo', 'goin', 'going', 'goingforgreat', 'goingforgreatnessfail', 'gold', 'golf', 'gone', 'good', 'goodbye', 'goodcustomerservice', 'goodenoughmother', 'goodflight', 'goodness', 'goodnight', 'goods', 'goodwill', 'google', 'gopro', 'gorgeous', 'gosh', 'got', 'gotcha', 'goto', 'gotten', 'gr', 'grace', 'gracias', 'grand', 'grandfather', 'grandma', 'grateful', 'great', 'greatest', 'greatservice', 'greedy', 'green', 'greenville', 'greeting', 'greetings', 'grk', 'gross', 'ground', 'grounded', 'group', 'groups', 'grr', 'gso', 'gsp', 'guarantee', 'guaranteed', 'guess', 'guessing', 'guest', 'guests', 'guide', 'guidelines', 'guitar', 'guitars', 'gun', 'guy', 'guys', 'ha', 'had', 'haha', 'hahaha', 'haiti', 'half', 'halfway', 'hand', 'handed', 'handle', 'handled', 'handler', 'handlers', 'handling', 'hands', 'hang', 'hangar', 'hanger', 'hanging', 'hangs', 'hangup', 'happen', 'happened', 'happening', 'happens', 'happier', 'happily', 'happiness', 'happy', 'happycustomer', 'harbor', 'hard', 'harder', 'hardly', 'hardworking', 'harsh', 'hartford', 'has', 'hashtag', 'hassle', 'hate', 'hates', 'hats', 'haul', 'have', 'hawaii', 'haydensteamboat', 'hayes', 'hdn', 'head', 'headache', 'headaches', 'headed', 'heading', 'headphones', 'heads', 'health', 'hear', 'heard', 'hearing', 'heart', 'heat', 'heathrow', 'heathrowairport', 'heaven', 'heavily', 'heavy', 'heck', 'held', 'hell', 'hello', 'help', 'helped', 'helpful', 'helping', 'helps', 'hence', 'her', 'here', 'hero', 'hey', 'hi', 'hidden', 'hide', 'high', 'higher', 'highlight', 'highly', 'hilarious', 'him', 'hire', 'hiring', 'history', 'hit', 'hits', 'hitting', 'hm', 'hmmm', 'hnl', 'ho', 'hold', 'holder', 'holders', 'holding', 'holdup', 'hole', 'holy', 'home', 'homeless', 'hometown', 'honest', 'honestly', 'honey', 'honeymoon', 'honolulu', 'honor', 'honored', 'honoring', 'hook', 'hooked', 'hoops', 'hop', 'hope', 'hoped', 'hopeful', 'hopefully', 'hopeless', 'hopes', 'hoping', 'horrendous', 'horrible', 'horriblecustomerservice', 'horrid', 'horror', 'hospitality', 'hostage', 'hosting', 'hot', 'hotel', 'hotels', 'hotline', 'hou', 'hour', 'hourdelay', 'hours', 'house', 'housing', 'houston', 'how', 'however', 'hpn', 'hr', 'hrl', 'hrmin', 'hrs', 'httpstcoflfulcbq', 'httpstcormpkogwu', 'httptcoaqjnhwnac', 'httptcofqxelbon', 'httptcogxdqortss', 'httptcohjkqchn', 'httptcohxlnvzknp', 'httptcoipgeicsm', 'httptcoojrsdwpkk', 'httptcooumclrxdn', 'httptcorfxlvkgdh', 'httptcotrdrcre', 'httptcovhgkitzsaw', 'httptcovmquurzupw', 'httptcowbzorrnc', 'httptcoywxrfngr', 'httptcozikuoxgnw', 'hub', 'hubby', 'hubs', 'hug', 'huge', 'hugely', 'huh', 'human', 'humans', 'humiliating', 'humor', 'humour', 'hundred', 'hundreds', 'hung', 'hungry', 'hungupnohelp', 'hunt', 'huntsville', 'hurt', 'husband', 'husbands', 'huston', 'hv', 'hve', 'hypocrisy', 'iad', 'iah', 'iahmnl', 'iamtedking', 'iata', 'iberia', 'ice', 'icing', 'icy', 'id', 'idea', 'ideas', 'identical', 'idiot', 'idiots', 'if', 'ignore', 'ignored', 'ignoring', 'ill', 'illegal', 'imagine', 'imaginedragons', 'immediate', 'immediately', 'impact', 'important', 'impossible', 'impressed', 'impression', 'impressive', 'improve', 'improved', 'improvement', 'improvements', 'in', 'inability', 'inadequate', 'inappropriate', 'inbound', 'inbox', 'incentive', 'inch', 'inches', 'incident', 'inclement', 'include', 'included', 'including', 'incoming', 'incompetence', 'incompetent', 'inconvenience', 'inconvenienced', 'inconvenient', 'incorrect', 'incorrectly', 'increase', 'increased', 'incredible', 'incredibly', 'incur', 'ind', 'indeed', 'indianapolis', 'indicated', 'indicates', 'indication', 'individual', 'industry', 'indy', 'inefficient', 'inept', 'inevitable', 'inexcusable', 'infant', 'inferior', 'inflight', 'info', 'inform', 'information', 'informed', 'initial', 'injury', 'innovation', 'input', 'insane', 'inside', 'insist', 'inspired', 'instead', 'instructed', 'insufficient', 'insult', 'insulted', 'insulting', 'int', 'integration', 'intention', 'intentionally', 'interaction', 'intercom', 'interest', 'interested', 'interesting', 'internal', 'international', 'internationally', 'internet', 'interview', 'intl', 'invalid', 'investors', 'invite', 'involved', 'ios', 'ipad', 'iphone', 'irresponsible', 'irritated', 'irritating', 'is', 'isis', 'island', 'issue', 'issued', 'issues', 'issuing', 'it', 'italy', 'item', 'items', 'itineraries', 'itinerary', 'ivr', 'jack', 'jack_kairys', 'jacked', 'jacket', 'jacksonville', 'jacquie', 'jailbreak', 'jamaica', 'jan', 'jane', 'janet', 'january', 'jason', 'jax', 'jayvig', 'jb', 'jblu', 'jeanine', 'jedediahbila', 'jeff', 'jeokoo', 'jet', 'jetbae', 'jetblue', 'jetbluerocks', 'jetblues', 'jetbluesofly', 'jets', 'jetway', 'jfk', 'jfklax', 'jfksfo', 'jh', 'jj', 'jms', 'joanna', 'job', 'jobs', 'john', 'join', 'joined', 'joke', 'jose', 'journal', 'journey', 'jp', 'jt', 'jtrexsocial', 'juan', 'julie', 'july', 'jump', 'jumped', 'jumping', 'june', 'just', 'jvmchat', 'karen', 'kc', 'kciairport', 'keep', 'keeping', 'keeps', 'kelly', 'kept', 'key', 'kick', 'kicked', 'kicking', 'kid', 'kidding', 'kids', 'kill', 'killing', 'kim', 'kind', 'kindle', 'kindness', 'kingscollegelondon', 'kiosk', 'kiosks', 'kit', 'kn', 'knees', 'knew', 'know', 'knowing', 'known', 'knows', 'kp', 'kphl', 'ktn', 'kudos', 'kylejudah', 'la', 'lack', 'ladies', 'lady', 'ladygaga', 'laguardia', 'lake', 'lame', 'land', 'landed', 'landing', 'lands', 'lap', 'laptop', 'large', 'larger', 'las', 'lasairport', 'last', 'late', 'latimes', 'lauderdale', 'laugh', 'lauren', 'lavatory', 'law', 'laws', 'lax', 'laxjfk', 'layover', 'layovers', 'lazy', 'lb', 'lbs', 'lead', 'leading', 'learn', 'learned', 'least', 'leave', 'leaves', 'leaving', 'left', 'leg', 'legal', 'legit', 'legitimate', 'legroom', 'legs', 'less', 'lesson', 'let', 'letsgo', 'letter', 'letters', 'letting', 'level', 'lga', 'lh', 'lhr', 'license', 'lie', 'lied', 'lieflat', 'lies', 'life', 'lifetime', 'light', 'lighting', 'lights', 'like', 'likelihood', 'likely', 'limit', 'limited', 'lindsey', 'line', 'lines', 'link', 'linked', 'lisa', 'list', 'listed', 'listen', 'listening', 'lit', 'literally', 'little', 'live', 'livery', 'lives', 'livid', 'living', 'lmao', 'lmfao', 'load', 'loaded', 'loading', 'loads', 'loc', 'local', 'locals', 'locate', 'located', 'location', 'locations', 'locator', 'locked', 'lodging', 'log', 'logan', 'logged', 'logic', 'login', 'logistics', 'logo', 'lol', 'london', 'lone', 'long', 'longer', 'look', 'looked', 'looking', 'looks', 'loose', 'loosing', 'lord', 'lose', 'loses', 'losing', 'loss', 'lost', 'lostluggage', 'lot', 'lots', 'louis', 'louisville', 'lounge', 'lounges', 'lousy', 'love', 'love_dragonss', 'loved', 'lovejetblue', 'lovely', 'loves', 'lovesongfriday', 'loving', 'low', 'lower', 'lowered', 'lowest', 'loyal', 'loyalty', 'luck', 'luckily', 'lucky', 'lufthansa', 'luggage', 'lunch', 'luvswa', 'lying', 'lynn', 'machine', 'mad', 'made', 'madness', 'madrid', 'magazine', 'magic', 'maiden', 'mail', 'maimi', 'main', 'maint', 'maintenance', 'major', 'make', 'makes', 'making', 'male', 'malfunction', 'man', 'manage', 'managed', 'management', 'manager', 'managers', 'manch', 'manchester', 'manner', 'manners', 'manually', 'many', 'map', 'marathon', 'march', 'mardigras', 'maria', 'marie', 'mark', 'marked', 'market', 'marketing', 'marks', 'married', 'marriott', 'marshaled', 'martysg', 'mary', 'mass', 'massive', 'mastercard', 'match', 'mates', 'math', 'matter', 'matters', 'mattersit', 'maui', 'max', 'may', 'maybe', 'maysep', 'mayweatherpacquiao', 'mc', 'mce', 'mci', 'mco', 'mcocmh', 'md', 'mdw', 'me', 'meal', 'meals', 'mean', 'meaning', 'meaningful', 'means', 'meant', 'meantime', 'meanwhile', 'measure', 'measured', 'mech', 'mechanic', 'mechanical', 'mechanics', 'medal', 'media', 'medical', 'meds', 'meelan', 'meet', 'meeting', 'meetings', 'meh', 'mel', 'mem', 'member', 'members', 'membership', 'memo', 'memorial', 'memories', 'memory', 'memphis', 'men', 'mention', 'mentioned', 'mentions', 'menu', 'menus', 'mercy', 'mere', 'merge', 'merged', 'merger', 'merging', 'mess', 'message', 'messaged', 'messages', 'messed', 'messing', 'met', 'metal', 'method', 'metro', 'mex', 'mexico', 'mgr', 'mht', 'mi', 'mia', 'miami', 'michaelbcoleman', 'mid', 'middle', 'middleeast', 'mideast', 'midght', 'midland', 'midnight', 'midway', 'might', 'miguel', 'mike', 'milan', 'mile', 'mileage', 'mileageplus', 'miler', 'miles', 'military', 'million', 'millions', 'min', 'mind', 'mine', 'minimum', 'minneapolis', 'minor', 'mins', 'minsput', 'mint', 'minute', 'minutes', 'miracle', 'miriam', 'miserable', 'miserably', 'misfortune', 'misinformation', 'misleading', 'misplaced', 'miss', 'missed', 'misses', 'missing', 'mission', 'mistake', 'mistakes', 'misunderstood', 'mitchell', 'mix', 'mke', 'mn', 'mobile', 'model', 'modifications', 'modify', 'moines', 'mold', 'mom', 'moment', 'moments', 'momma', 'moms', 'momsgoodeats', 'mon', 'monday', 'money', 'monitor', 'monitoring', 'montego', 'month', 'monthly', 'months', 'mood', 'moodlighting', 'moodlitmonday', 'moon', 'more', 'morn', 'morning', 'mos', 'mosaic', 'most', 'mostly', 'motel', 'mother', 'mothers', 'motto', 'mountains', 'mouse', 'mouth', 'move', 'moved', 'movement', 'movie', 'movies', 'moving', 'mp', 'mph', 'mr', 'mrerickv', 'ms', 'msbgu', 'msgs', 'msnbc', 'msp', 'msy', 'mt', 'mtg', 'mths', 'much', 'multiple', 'murdering', 'music', 'musician', 'musicians', 'must', 'mvp', 'mxpjfk', 'myers', 'myrtle', 'myself', 'na', 'nah', 'name', 'named', 'names', 'naming', 'nantucket', 'nap', 'narrowly', 'nascar', 'nasdaq', 'nasdaqjblu', 'nashville', 'nassau', 'nasty', 'natca', 'national', 'nature', 'navy', 'nbc', 'nbr', 'nburnside', 'nc', 'nd', 'near', 'nearby', 'nearly', 'necessary', 'need', 'needcoffee', 'needed', 'needing', 'needs', 'negative', 'neglect', 'neglected', 'negligence', 'negotiate', 'neighbors', 'neither', 'nephew', 'neptune', 'nerdbird', 'nervous', 'network', 'never', 'neveragain', 'neverflyvirginforbusiness', 'nevermind', 'new', 'newark', 'newburgh', 'newly', 'neworleans', 'news', 'newyork', 'next', 'nexttimeiwillflysouthwest', 'nexus', 'nh', 'nhlonnbcsports', 'nice', 'nicedismissive', 'nicely', 'nicer', 'nicest', 'nigga', 'night', 'night_', 'nightmare', 'nights', 'ninadavuluri', 'nine', 'nite', 'nitrogen', 'nj', 'njb', 'nm', 'no', 'nobody', 'nocareforcustomers', 'nocrew', 'nocustomerservice', 'noexcuses', 'nofun', 'nojetblue', 'nola', 'nolove', 'non', 'none', 'nonexistent', 'nonprofit', 'nonrefundable', 'nonsense', 'nonstop', 'nonweather', 'noon', 'noone', 'noooo', 'nope', 'noplacelikehome', 'norfolk', 'norm', 'norma', 'normal', 'normally', 'north', 'northeast', 'noservice', 'not', 'notch', 'notcool', 'note', 'noted', 'notes', 'notgoodenough', 'nothanks', 'nothappy', 'nothin', 'nothing', 'notice', 'noticed', 'noticing', 'notification', 'notifications', 'notified', 'notify', 'notifying', 'notimpressed', 'notmyfault', 'november', 'now', 'nowhere', 'nrhodes', 'nrosenb', 'nrt', 'nsw', 'nt', 'ntrustopen', 'num', 'number', 'numbers', 'numerical', 'numerous', 'nuts', 'nvr', 'nwn', 'nxt', 'ny', 'ny_njairports', 'nyc', 'nytimes', 'oaaret', 'oak', 'oakland', 'obj_', 'obnoxious', 'obscene', 'observe', 'obvious', 'obviously', 'oc', 'occasions', 'occupied', 'occur', 'occurred', 'oct', 'october', 'odd', 'odds', 'of', 'off', 'offensive', 'offer', 'offered', 'offering', 'offers', 'office', 'officer', 'offices', 'official', 'officially', 'offload', 'often', 'ogg', 'oh', 'ohare', 'ohead', 'ohio', 'oil', 'ok', 'okay', 'okc', 'oki', 'okyou', 'old', 'oma', 'omaha', 'omg', 'on', 'onboard', 'once', 'ondemand', 'one', 'ones', 'oneway', 'oneworld', 'ongoing', 'onhold', 'onholdwith', 'online', 'only', 'onplane', 'ons', 'ont', 'ontime', 'onto', 'ooh', 'oops', 'opal', 'open', 'opened', 'opening', 'opens', 'operate', 'operated', 'operating', 'operation', 'operational', 'operations', 'operator', 'operators', 'opinion', 'opportunities', 'opportunity', 'opposed', 'opposite', 'ops', 'option', 'options', 'or', 'orange', 'orangecounty', 'orbitz', 'ord', 'ordeal', 'order', 'ordered', 'ordlga', 'ordpvg', 'ordywg', 'oregon', 'orf', 'org', 'organization', 'orig', 'origin', 'original', 'originally', 'origindestinationdates', 'orl', 'orlando', 'orleans', 'os', 'oscar', 'oscars', 'other', 'others', 'otherwise', 'otis', 'ottawa', 'ouch', 'oui', 'our', 'ourprincess', 'ourselves', 'out', 'outage', 'outbound', 'outdated', 'outlets', 'outrageous', 'outside', 'outsource', 'outsourcing', 'outstanding', 'outta', 'over', 'overall', 'overbook', 'overbooked', 'overflight', 'overflowed', 'overhaul', 'overhead', 'overheard', 'overheating', 'overnight', 'overpriced', 'overseas', 'overselling', 'oversize', 'oversized', 'oversold', 'overweight', 'overwhelmed', 'overwhelming', 'ow', 'owe', 'owes', 'own', 'owner', 'oy', 'oz', 'pa', 'pacific', 'pack', 'package', 'packages', 'packed', 'packing', 'pafe', 'page', 'paged', 'pages', 'paid', 'pain', 'painful', 'painfully', 'painless', 'paint', 'painted', 'pair', 'palm', 'panamerican', 'panic', 'pants', 'paper', 'papers', 'paperwork', 'par', 'parachuteguy', 'parent', 'parents', 'paris', 'park', 'parked', 'parker', 'parking', 'part', 'partial', 'participate', 'particular', 'particularly', 'partly', 'partner', 'partners', 'partnership', 'partnerships', 'parts', 'party', 'paso', 'pass', 'passbook', 'passed', 'passenger', 'passengers', 'passes', 'passing', 'passion', 'passive', 'passport', 'password', 'past', 'paste', 'pat', 'patches', 'path', 'pathetic', 'patience', 'patient', 'patiently', 'patrick', 'patronizing', 'patterns', 'paulo', 'pax', 'pay', 'payed', 'paying', 'payment', 'paypal', 'pays', 'pbi', 'pbpinftworth', 'pdx', 'peace', 'peanut', 'peanuts', 'pedro', 'peeps', 'pen', 'penalty', 'pending', 'pens', 'people', 'peoples', 'per', 'perfect', 'perfectly', 'perfectomobile', 'perform', 'performance', 'performing', 'perhaps', 'period', 'perk', 'perks', 'permanently', 'permission', 'person', 'personal', 'personalized', 'personally', 'personnel', 'perspective', 'perth', 'pet', 'pets', 'pgatour', 'ph', 'phd_mama_', 'phenomenal', 'phi', 'phil', 'philadelphia', 'philippines', 'philly', 'phl', 'phlairport', 'phlmia', 'phn', 'phoenix', 'phone', 'phones', 'photo', 'photography', 'photos', 'phrps', 'phx', 'phxskyharbor', 'physical', 'physically', 'pia', 'pic', 'pick', 'picked', 'picking', 'picks', 'pics', 'picture', 'pictures', 'piece', 'pieces', 'pig', 'pile', 'pillows', 'pilot', 'pilots', 'pin', 'ping', 'pink', 'piss', 'pissed', 'pit', 'pita', 'pitt', 'pittsburgh', 'pity', 'pjs', 'place', 'placed', 'places', 'placing', 'plague', 'plain', 'plains', 'plan', 'plane', 'planehow', 'planes', 'planet', 'planets', 'planned', 'planning', 'plans', 'plastic', 'plat', 'plate', 'platinum', 'platitudes', 'play', 'played', 'playing', 'pleasant', 'pleasantly', 'please', 'pleased', 'pleaseeee', 'pleasehelp', 'pleasure', 'plenty', 'plitt', 'plot', 'ploughs', 'pls', 'plug', 'plus', 'plz', 'pm', 'pn', 'pnr', 'pocket', 'point', 'pointed', 'pointing', 'pointless', 'points', 'police', 'policies', 'policy', 'pooling', 'poor', 'poorcustomerservice', 'poorly', 'poorservice', 'popular', 'populate', 'port', 'portcolumbuscmh', 'portfolio', 'portion', 'portland', 'pos', 'position', 'positive', 'possible', 'possibly', 'post', 'posted', 'pound', 'pounds', 'power', 'pqd', 'pr', 'practical', 'practice', 'practices', 'praise', 'pray', 'praying', 'pre', 'preboard', 'preboarding', 'precheck', 'precious', 'precipitation', 'pref', 'prefer', 'preferred', 'preflight', 'pregnant', 'premier', 'premiere', 'premium', 'prepared', 'present', 'presented', 'president', 'pressure', 'pressurization', 'pretty', 'pretzels', 'prevent', 'previous', 'previously', 'price', 'priced', 'priceless', 'prices', 'pricey', 'pricing', 'prime', 'principle', 'print', 'printed', 'prior', 'priority', 'private', 'pro', 'proactive', 'prob', 'probably', 'problem', 'problems', 'problemss', 'probs', 'procedure', 'procedures', 'proceed', 'process', 'processing', 'professional', 'profile', 'profit', 'profits', 'program', 'programs', 'progress', 'project', 'promise', 'promised', 'promises', 'promising', 'promo', 'promotion', 'promotions', 'prompt', 'promptly', 'proof', 'proper', 'properly', 'property', 'props', 'pros', 'protect', 'protocol', 'proud', 'prove', 'provide', 'provided', 'providence', 'provider', 'provides', 'providing', 'proving', 'ps', 'psp', 'pst', 'pts', 'public', 'puerto', 'pull', 'pulled', 'pulling', 'punta', 'purchase', 'purchased', 'purchasing', 'purpose', 'push', 'pushed', 'pushing', 'put', 'puts', 'putting', 'pvd', 'pwm', 'qantas', 'qualify', 'quality', 'question', 'questions', 'queue', 'quick', 'quicker', 'quickly', 'quiet', 'quit', 'quite', 'quoted', 'race', 'rag', 'ragandisney', 'rain', 'raise', 'raleigh', 'ramp', 'rampers', 'ran', 'random', 'randomly', 'range', 'ranked', 'rant', 'rapid', 'rarely', 'rate', 'rates', 'rather', 'rcvd', 'rd', 'rdu', 're', 'reach', 'reaching', 'read', 'reading', 'ready', 'reagan', 'real', 'reality', 'realize', 'realized', 'really', 'rearrange', 'reason', 'reasonable', 'reasons', 'rebook', 'rebooked', 'receipt', 'receipts', 'receive', 'received', 'receiving', 'recent', 'recently', 'recheck', 'recieved', 'recline', 'recommend', 'recommended', 'reconsider', 'record', 'recording', 'recourse', 'recovery', 'rectify', 'red', 'redcarpet', 'redeem', 'redeemed', 'redirect', 'redirected', 'reeks', 'ref', 'refer', 'reference', 'reflect', 'reflight', 'refreshed', 'refuel', 'refund', 'refundable', 'refunded', 'refunding', 'refunds', 'refuse', 'refused', 'refuses', 'refusing', 'regarding', 'regardless', 'regards', 'regional', 'register', 'registered', 'registration', 'regret', 'regular', 'regulation', 'regulations', 'reimburse', 'reimbursed', 'reimbursement', 'reinstate', 'reinstated', 'relate', 'relations', 'relationship', 'relative', 'relatives', 'relax', 'release', 'released', 'reliable', 'rely', 'remains', 'remember', 'remembered', 'remind', 'reminded', 'reminder', 'reminding', 'remote', 'removal', 'remove', 'rent', 'rental', 'rented', 'renting', 'rep', 'repair', 'repeat', 'repeated', 'repeatedly', 'replace', 'replaced', 'replacement', 'replacing', 'replied', 'replies', 'reply', 'replying', 'report', 'reported', 'reports', 'representative', 'representatives', 'reps', 'republican', 'reputation', 'request', 'requested', 'requesting', 'require', 'required', 'requirement', 'requires', 'reroute', 'rerouted', 'res', 'resched', 'reschedule', 'rescheduled', 'rescheduling', 'reserv', 'reservation', 'reservations', 'reserve', 'reserved', 'reset', 'resolution', 'resolutions', 'resolve', 'resolved', 'resolving', 'respect', 'respond', 'responded', 'responding', 'responds', 'response', 'responses', 'responsibility', 'responsible', 'responsive', 'rest', 'restore', 'restrictions', 'restroom', 'result', 'resulting', 'results', 'resume', 'rethinking', 'retrain', 'retrieve', 'return', 'returned', 'returning', 'revenue', 'review', 'revs', 'reward', 'rewards', 'ric', 'rica', 'richard', 'rico', 'rid', 'ride', 'ridiculous', 'right', 'rights', 'rikrik__', 'ring', 'rings', 'rip', 'ripoff', 'ripped', 'risk', 'rno', 'road', 'roads', 'roasted', 'robbed', 'robin', 'robot', 'robotic', 'roc', 'rock', 'rocked', 'rocks', 'roger', 'room', 'rooms', 'rotten', 'rough', 'round', 'roundtrip', 'route', 'routes', 'routing', 'row', 'rows', 'roxydigital', 'rr', 'rsw', 'rt', 'rude', 'rudeness', 'rudest', 'ruined', 'ruining', 'rule', 'rules', 'run', 'runaround', 'running', 'runs', 'runway', 'runways', 'rushed', 'sabre', 'sacramento', 'sad', 'sadly', 'safari', 'safe', 'safely', 'safety', 'safetyfirst', 'saga', 'said', 'sale', 'sales', 'salt', 'same', 'san', 'sandwich', 'sanfrancisco', 'santa', 'sarcasm', 'sat', 'saturday', 'sauce', 'savannah', 'save', 'saved', 'saver', 'saving', 'saw', 'say', 'sayin', 'saying', 'says', 'sb', 'sc', 'scale', 'scam', 'scan', 'scanned', 'scared', 'scavenger', 'scene', 'sched', 'schedule', 'scheduled', 'scheduling', 'school', 'scott', 'screaming', 'screen', 'screens', 'screw', 'screwed', 'screwing', 'sdf', 'sea', 'sean', 'search', 'searching', 'seat', 'seatac', 'seated', 'seating', 'seats', 'seattle', 'sec', 'second', 'seconds', 'section', 'secure', 'secured', 'security', 'see', 'seeing', 'seeks', 'seem', 'seemed', 'seems', 'seen', 'sees', 'seg', 'segment', 'segments', 'select', 'selected', 'selection', 'self', 'selfie', 'sell', 'selling', 'send', 'sending', 'sense', 'senseless', 'sensitive', 'sent', 'sentiment', 'separate', 'separated', 'separately', 'sept', 'september', 'series', 'serious', 'seriously', 'serv', 'serve', 'served', 'service', 'servicefail', 'services', 'servicing', 'serving', 'set', 'settled', 'seven', 'several', 'severe', 'severely', 'sexual', 'sf', 'sfo', 'shades', 'shaking', 'shall', 'shame', 'shameful', 'shameonyou', 'shampoo', 'shanghai', 'shannon', 'shannonwoodward', 'share', 'shared', 'shares', 'sharing', 'shawn', 'she', 'sheesh', 'shenanigans', 'shift', 'shifts', 'ship', 'shipped', 'shirt', 'shit', 'shits', 'shitty', 'shld', 'shock', 'shocked', 'shocking', 'shoddy', 'shoe', 'shoes', 'shopping', 'short', 'shortage', 'shortcomings', 'shortly', 'shot', 'shots', 'shoulder', 'shoulders', 'shouldhaveflowndelta', 'shout', 'shoutout', 'show', 'showed', 'showing', 'shown', 'shows', 'shrug', 'shuffle', 'shut', 'shuttle', 'shv', 'sick', 'side', 'sigh', 'sight', 'sign', 'signal', 'signed', 'significant', 'significantly', 'signs', 'silence', 'silicon', 'silly', 'silver', 'silverairways', 'similar', 'simple', 'simply', 'since', 'sincere', 'sincerely', 'sing', 'singapore', 'singer', 'singing', 'single', 'sir', 'sister', 'sisters', 'sit', 'site', 'sites', 'siting', 'sits', 'sittin', 'sitting', 'situation', 'situations', 'six', 'size', 'sizer', 'sj', 'sjc', 'sjo', 'sju', 'sked', 'ski', 'skies', 'skiing', 'skilled', 'skills', 'skin', 'skip', 'skis', 'sky', 'skytrax', 'skywest', 'slapintheface', 'slc', 'slcairport', 'sld', 'sleekmoney', 'sleep', 'sleeping', 'sleet', 'slept', 'slide', 'slight', 'slightly', 'slip', 'slots', 'slow', 'slower', 'slowest', 'slowing', 'slowly', 'sm', 'sma', 'small', 'smallest', 'smart', 'smashed', 'smells', 'smf', 'smh', 'smile', 'smiles', 'smiling', 'smisek', 'smoking', 'smooth', 'smoothest', 'smoothly', 'sna', 'snack', 'snacks', 'snags', 'snapchat', 'sneaky', 'snow', 'snowboard', 'snowing', 'snowstorm', 'snowy', 'so', 'soaked', 'soaking', 'sobewff', 'social', 'soft', 'software', 'sold', 'solid', 'solo', 'solution', 'solutions', 'solve', 'solved', 'solving', 'some', 'somebody', 'somehow', 'someone', 'something', 'sometime', 'sometimes', 'somewhat', 'somewhere', 'son', 'song', 'sons', 'soon', 'sooner', 'sooo', 'soooo', 'sooooo', 'sop', 'sorry', 'sorrynotsorry', 'sort', 'sorted', 'soul', 'souljacoy', 'sound', 'sounded', 'sounds', 'south', 'southern', 'southwest', 'southwestair', 'southwestairlines', 'southwestairs', 'southwestrally', 'southwestverity', 'space', 'spaced', 'spaces', 'spagnuolo', 'spam', 'spanish', 'spare', 'speak', 'speaking', 'speaks', 'special', 'specials', 'specific', 'specifically', 'specifics', 'specified', 'speed', 'speeds', 'speedy', 'spelled', 'spelling', 'spend', 'spending', 'spent', 'spf', 'spilled', 'spirit', 'spiritairlines', 'spite', 'split', 'spoiled', 'spoke', 'spoken', 'spot', 'spotify', 'spots', 'spotty', 'spread', 'spring', 'springs', 'sprinkled', 'squared', 'srq', 'srsly', 'srvc', 'st', 'staff', 'staffed', 'staffer', 'staffing', 'stairs', 'stall', 'stand', 'standard', 'standards', 'standby', 'standbye', 'standbylots', 'standbys', 'standing', 'star', 'staralliance', 'starbucks', 'staring', 'stars', 'start', 'started', 'starting', 'starts', 'starving', 'stat', 'state', 'stated', 'statement', 'states', 'station', 'stations', 'status', 'stay', 'stayed', 'staying', 'stays', 'steal', 'stealing', 'steel', 'stellar', 'step', 'stephenrodrick', 'stepped', 'stepping', 'steps', 'steve', 'stewardess', 'stewardesses', 'stick', 'sticker', 'sticking', 'still', 'stilling', 'stillnobags', 'stillwaiting', 'stinks', 'stl', 'stndby', 'stock', 'stocker', 'stoked', 'stole', 'stolen', 'stone', 'stood', 'stop', 'stopped', 'stopping', 'stops', 'storage', 'store', 'stories', 'storm', 'storms', 'story', 'stow', 'straight', 'strand', 'stranded', 'stranding', 'strange', 'stranger', 'strangers', 'strategy', 'stream', 'streaming', 'street', 'stress', 'stressed', 'stressful', 'strike', 'strikes', 'strip', 'stroller', 'strollers', 'strong', 'strongly', 'stt', 'stuck', 'stuckinmemphis', 'student', 'students', 'stuff', 'stunned', 'stunning', 'stupid', 'style', 'submit', 'submitted', 'submitting', 'subpar', 'subscribe', 'subsequent', 'success', 'such', 'suck', 'sucked', 'sucks', 'sudden', 'sue', 'suffering', 'suggest', 'suggested', 'suggestion', 'suggestions', 'suicide', 'suit', 'suitcase', 'suitcases', 'suites', 'summer', 'sun', 'sunday', 'sundays', 'sunglasses', 'sunny', 'sunrise', 'sunset', 'sunshine', 'super', 'superior', 'supervisor', 'supervisors', 'superyan', 'supplies', 'support', 'supporting', 'suppose', 'supposed', 'supposedly', 'sure', 'surely', 'surf', 'surgeries', 'surgery', 'surly', 'surprise', 'surprised', 'surrounding', 'survey', 'survive', 'susan', 'suspect', 'svc', 'sw', 'swa', 'swaculture', 'swadiversity', 'swag', 'swamped', 'swapping', 'swear', 'sweet', 'sweetheart', 'sweetingr', 'swell', 'swiss', 'switch', 'switched', 'switching', 'swivel', 'swu', 'sxm', 'sydney', 'sylvie', 'sympathetic', 'sympathy', 'sync', 'syr', 'syracuse', 'sys', 'system', 'systems', 'systemwide', 'são', 'ta', 'tab', 'table', 'tables', 'tablet', 'tag', 'tagged', 'tags', 'tail', 'tailwind', 'taiwan', 'take', 'taken', 'takeoff', 'takes', 'taking', 'talk', 'talked', 'talking', 'talks', 'tamara', 'tammy', 'tampa', 'targeting', 'tarmac', 'tarmack', 'taste', 'tatianaking', 'taxi', 'taxiing', 'taxing', 'taxis', 'taylor', 'tb', 'tcf', 'tea', 'teach', 'teaching', 'team', 'teams', 'tear', 'tears', 'tech', 'technical', 'technically', 'technology', 'teco', 'teens', 'tel', 'telephone', 'telephones', 'television', 'tell', 'telling', 'tells', 'temp', 'temperature', 'ten', 'term', 'terminal', 'terminals', 'terms', 'terrible', 'terribleservice', 'terribly', 'terrific', 'terry', 'test', 'testing', 'texas', 'texasisclosed', 'text', 'texted', 'texting', 'texts', 'tfw', 'th', 'thank', 'thanked', 'thankful', 'thankfully', 'thanks', 'thanku', 'thankyou', 'thanx', 'that', 'thaw', 'the', 'theacademy', 'theellenshow', 'theft', 'them', 'themselves', 'then', 'thenationaluae', 'thenewamerican', 'there', 'therefore', 'these', 'thevdt', 'thewayoftheid', 'theworst', 'they', 'thick', 'thin', 'thing', 'things', 'think', 'thinking', 'thinks', 'third', 'thirty', 'thirty_lives', 'this', 'thks', 'thnx', 'thomas', 'those', 'though', 'thought', 'thoughts', 'thousand', 'thousands', 'thparty', 'thread', 'threatened', 'threatens', 'three', 'thrilled', 'through', 'throughout', 'throw', 'throwing', 'thrown', 'thru', 'thurs', 'thursday', 'thus', 'thy', 'tick', 'ticked', 'ticket', 'ticketed', 'ticketing', 'tickets', 'ticks', 'tide', 'tides', 'tight', 'til', 'till', 'tim', 'timco', 'time', 'timed', 'timeliness', 'timely', 'times', 'timing', 'tiny', 'tip', 'tips', 'tire', 'tired', 'tisk', 'tix', 'tks', 'tkt', 'tkts', 'tld', 'tmadcle', 'tmw', 'tn', 'tnx', 'to', 'tock', 'today', 'todays', 'toddler', 'toddlers', 'together', 'toilet', 'toiletries', 'toilets', 'tokyo', 'told', 'toledo', 'tom', 'tomorrow', 'tomorrows', 'ton', 'tone', 'tonight', 'tonights', 'tonite', 'too', 'took', 'tool', 'top', 'toronto', 'torture', 'total', 'totally', 'touch', 'touchdown', 'touched', 'tough', 'tour', 'tourist', 'tourists', 'toward', 'towards', 'town', 'tpa', 'tpadfwlax', 'trace', 'track', 'tracking', 'trading', 'traffic', 'train', 'trained', 'training', 'transaction', 'transfer', 'transferred', 'transfers', 'transit', 'transport', 'transportation', 'transported', 'trapped', 'trash', 'travel', 'traveled', 'traveler', 'travelers', 'traveling', 'travellers', 'travelling', 'travels', 'tray', 'treat', 'treated', 'treating', 'treatment', 'treats', 'tremendous', 'tried', 'triflight', 'trip', 'trips', 'trouble', 'troubles', 'troubleshoot', 'truck', 'true', 'trueblue', 'truly', 'trust', 'trusted', 'truth', 'try', 'tryin', 'trying', 'tsa', 'tucson', 'tue', 'tues', 'tuesday', 'tuned', 'turbulence', 'turn', 'turnaround', 'turned', 'turning', 'turns', 'tv', 'tvs', 'tweet', 'tweeted', 'tweeting', 'tweets', 'twelve', 'twice', 'twitter', 'two', 'tx', 'txt', 'ty', 'type', 'typical', 'typo', 'ua', 'ual', 'ugh', 'uh', 'uk', 'um', 'umm', 'unable', 'unacceptable', 'unavailable', 'unaware', 'unbelievable', 'uncaring', 'uncomfortable', 'under', 'understaffed', 'understaffing', 'understand', 'understandable', 'understanding', 'understands', 'understatement', 'understood', 'unexpected', 'unfortunate', 'unfortunately', 'unfriendly', 'unfriendlyskies', 'unhappy', 'unhappycustomer', 'unhelpful', 'uniform', 'united', 'unitedairlines', 'unitedfail', 'uniteds', 'unitedsucks', 'unknown', 'unless', 'unlike', 'unload', 'unnecessary', 'unpleasant', 'unprofessional', 'unreal', 'unrelate', 'unreliable', 'unscheduled', 'unusable', 'unused', 'unusual', 'unveils', 'unwilling', 'up', 'upcoming', 'update', 'updated', 'updates', 'updating', 'upgrade', 'upgraded', 'upgrades', 'upgrading', 'upon', 'ups', 'upset', 'urgent', 'us', 'usa', 'usaa', 'usair', 'usairsucks', 'usairways', 'usairwaysfail', 'usairwayssucks', 'usatoday', 'use', 'used', 'useful', 'useless', 'user', 'username', 'using', 'usual', 'usually', 'utah', 'utterly', 'uvf', 'va', 'vaca', 'vacation', 'vacations', 'valid', 'vallarta', 'valuable', 'value', 'van', 'various', 'veers', 'vegan', 'vegas', 'velourlive', 'verify', 'version', 'via', 'vice', 'video', 'videos', 'vieques', 'view', 'views', 'vile', 'vincenzolandino', 'virgin', 'virginamerica', 'virginatlantic', 'visa', 'visible', 'visit', 'vital', 'vm', 'voice', 'voicemail', 'voided', 'volume', 'volumes', 'volunteer', 'vomit', 'voucher', 'vouchers', 'vs', 'vx', 'waa', 'wait', 'waited', 'waiting', 'waits', 'waive', 'waived', 'waiver', 'wake', 'walk', 'walked', 'walking', 'wall', 'wallet', 'want', 'wanted', 'wanting', 'wants', 'warm', 'warmth', 'warning', 'warnings', 'was', 'washington', 'waste', 'wasted', 'wasting', 'watch', 'watched', 'watching', 'water', 'waterbury', 'way', 'ways', 'wc', 'wd', 'we', 'weak', 'wearing', 'weather', 'weatherrelate', 'web', 'website', 'wed', 'wedding', 'wednesday', 'week', 'weekend', 'weekends', 'weeks', 'weight', 'weird', 'welcome', 'well', 'went', 'were', 'west', 'westchester', 'westjet', 'wet', 'what', 'whatever', 'wheel', 'wheelchair', 'wheels', 'wheelsup', 'whenever', 'where', 'whether', 'while', 'white', 'who', 'whoa', 'whoever', 'whole', 'whose', 'why', 'wichita', 'wife', 'wifes', 'wifi', 'will', 'willing', 'win', 'wind', 'window', 'windows', 'winds', 'wine', 'wing', 'wings', 'winners', 'winning', 'winter', 'winterstorm', 'winterweather', 'wish', 'with', 'within', 'without', 'wknd', 'wks', 'wld', 'wmcactionnews', 'wmy', 'wno', 'wo', 'woaw', 'woke', 'woman', 'women', 'wonder', 'wonderful', 'wondering', 'woo', 'woof', 'woohoo', 'word', 'words', 'work', 'worked', 'worker', 'workers', 'working', 'works', 'world', 'worlds', 'worried', 'worries', 'worry', 'worse', 'worst', 'worstairline', 'worstairlineever', 'worstcustomerservice', 'worstcustomerserviceever', 'worstflightever', 'worstunitedflightsever', 'worth', 'worthless', 'would', 'wour', 'wout', 'woven', 'wow', 'wrap', 'wreck', 'write', 'writing', 'written', 'wrong', 'wrote', 'wsj', 'wtf', 'wth', 'wyou', 'xdaily', 'xday', 'xna', 'xoxo', 'xt', 'xweekly', 'xx', 'ya', 'yall', 'yards', 'yay', 'yea', 'yeah', 'year', 'yearly', 'years', 'yell', 'yelled', 'yelling', 'yep', 'yes', 'yesso', 'yest', 'yesterday', 'yesterdays', 'yet', 'yikes', 'yo', 'york', 'you', 'youk', 'young', 'younger', 'your', 'yours', 'yous', 'yousuck', 'youth', 'yow', 'yr', 'yrs', 'yuck', 'yuma', 'yummy', 'yup', 'yvonne', 'yvr', 'yyz', 'zero', 'zkatcher', 'zone', 'zoom', 'zurich']\n",
          "output_type": "stream"
        }
      ],
      "execution_count": null
    },
    {
      "cell_type": "code",
      "source": [
        "from sklearn.preprocessing import LabelEncoder\n",
        "label_encoder = LabelEncoder()\n",
        "X = data_features.toarray()\n",
        "y = label_encoder.fit_transform(data['airline_sentiment'])"
      ],
      "metadata": {
        "id": "OKnaLu2kvlYR",
        "trusted": true,
        "execution": {
          "iopub.status.busy": "2025-02-08T15:19:01.669243Z",
          "iopub.execute_input": "2025-02-08T15:19:01.66945Z",
          "iopub.status.idle": "2025-02-08T15:19:01.924432Z",
          "shell.execute_reply.started": "2025-02-08T15:19:01.669431Z",
          "shell.execute_reply": "2025-02-08T15:19:01.923777Z"
        }
      },
      "outputs": [],
      "execution_count": null
    },
    {
      "cell_type": "code",
      "source": [
        "# train test split\n",
        "from sklearn.model_selection import train_test_split\n",
        "X_train, X_test, y_train, y_test = train_test_split(X, y, test_size = 0.3, random_state = 42)\n"
      ],
      "metadata": {
        "id": "DAFhAQK_vsV-",
        "trusted": true,
        "execution": {
          "iopub.status.busy": "2025-02-08T15:19:01.925181Z",
          "iopub.execute_input": "2025-02-08T15:19:01.925453Z",
          "iopub.status.idle": "2025-02-08T15:19:02.178135Z",
          "shell.execute_reply.started": "2025-02-08T15:19:01.925425Z",
          "shell.execute_reply": "2025-02-08T15:19:02.177183Z"
        }
      },
      "outputs": [],
      "execution_count": null
    },
    {
      "cell_type": "code",
      "source": [],
      "metadata": {
        "id": "T1hAuDaTv3hi",
        "trusted": true
      },
      "outputs": [],
      "execution_count": null
    },
    {
      "cell_type": "code",
      "source": [
        "data['text'][55], y[55]"
      ],
      "metadata": {
        "colab": {
          "base_uri": "https://localhost:8080/"
        },
        "id": "NxJEdX8ku-4k",
        "outputId": "0198561a-219d-43b7-a2ed-9df09d43d666",
        "trusted": true,
        "execution": {
          "iopub.status.busy": "2025-02-08T15:19:02.179069Z",
          "iopub.execute_input": "2025-02-08T15:19:02.17932Z",
          "iopub.status.idle": "2025-02-08T15:19:02.184348Z",
          "shell.execute_reply.started": "2025-02-08T15:19:02.179298Z",
          "shell.execute_reply": "2025-02-08T15:19:02.183567Z"
        }
      },
      "outputs": [
        {
          "execution_count": 68,
          "output_type": "execute_result",
          "data": {
            "text/plain": "('virginamerica hi excited  lgadal deal trying book since last week  page never loads thanks',\n 0)"
          },
          "metadata": {}
        }
      ],
      "execution_count": null
    },
    {
      "cell_type": "code",
      "source": [
        "print(dict(enumerate(label_encoder.classes_)))"
      ],
      "metadata": {
        "colab": {
          "base_uri": "https://localhost:8080/"
        },
        "id": "1uD0YLsq6BCj",
        "outputId": "b8aeead8-38ba-4d33-dfd0-3f73aa4df296",
        "trusted": true,
        "execution": {
          "iopub.status.busy": "2025-02-08T15:19:02.185154Z",
          "iopub.execute_input": "2025-02-08T15:19:02.185419Z",
          "iopub.status.idle": "2025-02-08T15:19:02.198677Z",
          "shell.execute_reply.started": "2025-02-08T15:19:02.185399Z",
          "shell.execute_reply": "2025-02-08T15:19:02.197855Z"
        }
      },
      "outputs": [
        {
          "name": "stdout",
          "text": "{0: 'negative', 1: 'neutral', 2: 'positive'}\n",
          "output_type": "stream"
        }
      ],
      "execution_count": null
    },
    {
      "cell_type": "code",
      "source": [
        "# Using Random Forest Model to build the model for classification of tweets (sentiments classification)\n",
        "from sklearn.ensemble import RandomForestClassifier\n",
        "from sklearn.model_selection import cross_val_score"
      ],
      "metadata": {
        "id": "HW-nO9StvBvQ",
        "trusted": true,
        "execution": {
          "iopub.status.busy": "2025-02-08T15:19:02.199445Z",
          "iopub.execute_input": "2025-02-08T15:19:02.199743Z",
          "iopub.status.idle": "2025-02-08T15:19:02.429505Z",
          "shell.execute_reply.started": "2025-02-08T15:19:02.19972Z",
          "shell.execute_reply": "2025-02-08T15:19:02.428834Z"
        }
      },
      "outputs": [],
      "execution_count": null
    },
    {
      "cell_type": "code",
      "source": [
        "rf = RandomForestClassifier(n_estimators = 10, n_jobs = 4)\n",
        "\n",
        "# Training the model\n",
        "rf_trained = rf.fit(X_train,y_train)"
      ],
      "metadata": {
        "id": "p8rAI_b6wem1",
        "trusted": true,
        "execution": {
          "iopub.status.busy": "2025-02-08T15:19:02.430132Z",
          "iopub.execute_input": "2025-02-08T15:19:02.430335Z",
          "iopub.status.idle": "2025-02-08T15:19:04.146353Z",
          "shell.execute_reply.started": "2025-02-08T15:19:02.430317Z",
          "shell.execute_reply": "2025-02-08T15:19:04.1455Z"
        }
      },
      "outputs": [],
      "execution_count": null
    },
    {
      "cell_type": "code",
      "source": [
        "rf_trained"
      ],
      "metadata": {
        "colab": {
          "base_uri": "https://localhost:8080/",
          "height": 80
        },
        "id": "7MRF3bEMwsl3",
        "outputId": "413c79f6-d1b0-4713-9d18-f039d83b0279",
        "trusted": true,
        "execution": {
          "iopub.status.busy": "2025-02-08T15:19:04.147444Z",
          "iopub.execute_input": "2025-02-08T15:19:04.147782Z",
          "iopub.status.idle": "2025-02-08T15:19:04.159924Z",
          "shell.execute_reply.started": "2025-02-08T15:19:04.147753Z",
          "shell.execute_reply": "2025-02-08T15:19:04.15908Z"
        }
      },
      "outputs": [
        {
          "execution_count": 72,
          "output_type": "execute_result",
          "data": {
            "text/plain": "RandomForestClassifier(n_estimators=10, n_jobs=4)",
            "text/html": "<style>#sk-container-id-1 {color: black;background-color: white;}#sk-container-id-1 pre{padding: 0;}#sk-container-id-1 div.sk-toggleable {background-color: white;}#sk-container-id-1 label.sk-toggleable__label {cursor: pointer;display: block;width: 100%;margin-bottom: 0;padding: 0.3em;box-sizing: border-box;text-align: center;}#sk-container-id-1 label.sk-toggleable__label-arrow:before {content: \"▸\";float: left;margin-right: 0.25em;color: #696969;}#sk-container-id-1 label.sk-toggleable__label-arrow:hover:before {color: black;}#sk-container-id-1 div.sk-estimator:hover label.sk-toggleable__label-arrow:before {color: black;}#sk-container-id-1 div.sk-toggleable__content {max-height: 0;max-width: 0;overflow: hidden;text-align: left;background-color: #f0f8ff;}#sk-container-id-1 div.sk-toggleable__content pre {margin: 0.2em;color: black;border-radius: 0.25em;background-color: #f0f8ff;}#sk-container-id-1 input.sk-toggleable__control:checked~div.sk-toggleable__content {max-height: 200px;max-width: 100%;overflow: auto;}#sk-container-id-1 input.sk-toggleable__control:checked~label.sk-toggleable__label-arrow:before {content: \"▾\";}#sk-container-id-1 div.sk-estimator input.sk-toggleable__control:checked~label.sk-toggleable__label {background-color: #d4ebff;}#sk-container-id-1 div.sk-label input.sk-toggleable__control:checked~label.sk-toggleable__label {background-color: #d4ebff;}#sk-container-id-1 input.sk-hidden--visually {border: 0;clip: rect(1px 1px 1px 1px);clip: rect(1px, 1px, 1px, 1px);height: 1px;margin: -1px;overflow: hidden;padding: 0;position: absolute;width: 1px;}#sk-container-id-1 div.sk-estimator {font-family: monospace;background-color: #f0f8ff;border: 1px dotted black;border-radius: 0.25em;box-sizing: border-box;margin-bottom: 0.5em;}#sk-container-id-1 div.sk-estimator:hover {background-color: #d4ebff;}#sk-container-id-1 div.sk-parallel-item::after {content: \"\";width: 100%;border-bottom: 1px solid gray;flex-grow: 1;}#sk-container-id-1 div.sk-label:hover label.sk-toggleable__label {background-color: #d4ebff;}#sk-container-id-1 div.sk-serial::before {content: \"\";position: absolute;border-left: 1px solid gray;box-sizing: border-box;top: 0;bottom: 0;left: 50%;z-index: 0;}#sk-container-id-1 div.sk-serial {display: flex;flex-direction: column;align-items: center;background-color: white;padding-right: 0.2em;padding-left: 0.2em;position: relative;}#sk-container-id-1 div.sk-item {position: relative;z-index: 1;}#sk-container-id-1 div.sk-parallel {display: flex;align-items: stretch;justify-content: center;background-color: white;position: relative;}#sk-container-id-1 div.sk-item::before, #sk-container-id-1 div.sk-parallel-item::before {content: \"\";position: absolute;border-left: 1px solid gray;box-sizing: border-box;top: 0;bottom: 0;left: 50%;z-index: -1;}#sk-container-id-1 div.sk-parallel-item {display: flex;flex-direction: column;z-index: 1;position: relative;background-color: white;}#sk-container-id-1 div.sk-parallel-item:first-child::after {align-self: flex-end;width: 50%;}#sk-container-id-1 div.sk-parallel-item:last-child::after {align-self: flex-start;width: 50%;}#sk-container-id-1 div.sk-parallel-item:only-child::after {width: 0;}#sk-container-id-1 div.sk-dashed-wrapped {border: 1px dashed gray;margin: 0 0.4em 0.5em 0.4em;box-sizing: border-box;padding-bottom: 0.4em;background-color: white;}#sk-container-id-1 div.sk-label label {font-family: monospace;font-weight: bold;display: inline-block;line-height: 1.2em;}#sk-container-id-1 div.sk-label-container {text-align: center;}#sk-container-id-1 div.sk-container {/* jupyter's `normalize.less` sets `[hidden] { display: none; }` but bootstrap.min.css set `[hidden] { display: none !important; }` so we also need the `!important` here to be able to override the default hidden behavior on the sphinx rendered scikit-learn.org. See: https://github.com/scikit-learn/scikit-learn/issues/21755 */display: inline-block !important;position: relative;}#sk-container-id-1 div.sk-text-repr-fallback {display: none;}</style><div id=\"sk-container-id-1\" class=\"sk-top-container\"><div class=\"sk-text-repr-fallback\"><pre>RandomForestClassifier(n_estimators=10, n_jobs=4)</pre><b>In a Jupyter environment, please rerun this cell to show the HTML representation or trust the notebook. <br />On GitHub, the HTML representation is unable to render, please try loading this page with nbviewer.org.</b></div><div class=\"sk-container\" hidden><div class=\"sk-item\"><div class=\"sk-estimator sk-toggleable\"><input class=\"sk-toggleable__control sk-hidden--visually\" id=\"sk-estimator-id-1\" type=\"checkbox\" checked><label for=\"sk-estimator-id-1\" class=\"sk-toggleable__label sk-toggleable__label-arrow\">RandomForestClassifier</label><div class=\"sk-toggleable__content\"><pre>RandomForestClassifier(n_estimators=10, n_jobs=4)</pre></div></div></div></div></div>"
          },
          "metadata": {}
        }
      ],
      "execution_count": null
    },
    {
      "cell_type": "code",
      "source": [
        "print(np.mean(cross_val_score(rf,X,y,cv=5)))"
      ],
      "metadata": {
        "colab": {
          "base_uri": "https://localhost:8080/"
        },
        "id": "y-zlVSsfwvz-",
        "outputId": "74a6fe54-a494-4732-eb5b-0357eeae3e24",
        "trusted": true,
        "execution": {
          "iopub.status.busy": "2025-02-08T15:19:04.160984Z",
          "iopub.execute_input": "2025-02-08T15:19:04.161296Z",
          "iopub.status.idle": "2025-02-08T15:19:14.514567Z",
          "shell.execute_reply.started": "2025-02-08T15:19:04.161267Z",
          "shell.execute_reply": "2025-02-08T15:19:14.513689Z"
        }
      },
      "outputs": [
        {
          "name": "stdout",
          "text": "0.6872950819672131\n",
          "output_type": "stream"
        }
      ],
      "execution_count": null
    },
    {
      "cell_type": "code",
      "source": [
        "## generating accuracy on test set\n",
        "print(rf_trained.score(X_test,y_test))"
      ],
      "metadata": {
        "colab": {
          "base_uri": "https://localhost:8080/"
        },
        "id": "XEbaKFJHw4cS",
        "outputId": "0a7b2eca-e958-4cd1-95aa-34bfeb97aa68",
        "trusted": true,
        "execution": {
          "iopub.status.busy": "2025-02-08T15:19:14.515314Z",
          "iopub.execute_input": "2025-02-08T15:19:14.515582Z",
          "iopub.status.idle": "2025-02-08T15:19:14.594056Z",
          "shell.execute_reply.started": "2025-02-08T15:19:14.51556Z",
          "shell.execute_reply": "2025-02-08T15:19:14.593096Z"
        }
      },
      "outputs": [
        {
          "name": "stdout",
          "text": "0.7481785063752276\n",
          "output_type": "stream"
        }
      ],
      "execution_count": null
    },
    {
      "cell_type": "markdown",
      "source": [
        "## Using LSTM"
      ],
      "metadata": {
        "id": "zOky15Qa7CM4"
      }
    },
    {
      "cell_type": "code",
      "source": [
        "import tensorflow as tf\n",
        "from tensorflow.keras.models import Sequential\n",
        "from tensorflow.keras.layers import LSTM, Dense, Dropout , BatchNormalization\n",
        "from tensorflow.keras.optimizers import Adam\n"
      ],
      "metadata": {
        "id": "2lM4d2kjxCjT",
        "trusted": true,
        "execution": {
          "iopub.status.busy": "2025-02-08T15:19:14.594829Z",
          "iopub.execute_input": "2025-02-08T15:19:14.595046Z",
          "iopub.status.idle": "2025-02-08T15:19:26.475432Z",
          "shell.execute_reply.started": "2025-02-08T15:19:14.595029Z",
          "shell.execute_reply": "2025-02-08T15:19:26.474744Z"
        }
      },
      "outputs": [],
      "execution_count": null
    },
    {
      "cell_type": "code",
      "source": [
        "# ohe\n",
        "from tensorflow.keras.utils import to_categorical\n",
        "import numpy as np\n",
        "\n",
        "\n",
        "X_train = X_train.reshape(X_train.shape[0], X_train.shape[1], 1)\n",
        "X_test = X_test.reshape(X_test.shape[0], X_test.shape[1], 1)\n",
        "print(X_train.shape)\n",
        "\n",
        "y_train = to_categorical(y_train)\n",
        "y_test = to_categorical(y_test)\n",
        "\n",
        "print(y_train.shape)"
      ],
      "metadata": {
        "colab": {
          "base_uri": "https://localhost:8080/"
        },
        "id": "2J7rM4R58kDO",
        "outputId": "988db33d-f57c-478c-bc4c-9ae202dd13f9",
        "trusted": true,
        "execution": {
          "iopub.status.busy": "2025-02-08T15:19:26.47629Z",
          "iopub.execute_input": "2025-02-08T15:19:26.476806Z",
          "iopub.status.idle": "2025-02-08T15:19:26.495793Z",
          "shell.execute_reply.started": "2025-02-08T15:19:26.476783Z",
          "shell.execute_reply": "2025-02-08T15:19:26.494986Z"
        }
      },
      "outputs": [
        {
          "name": "stdout",
          "text": "(10248, 5000, 1)\n(10248, 3)\n",
          "output_type": "stream"
        }
      ],
      "execution_count": null
    },
    {
      "cell_type": "code",
      "source": [],
      "metadata": {
        "id": "c8FsCvXAF_Qf",
        "trusted": true
      },
      "outputs": [],
      "execution_count": null
    },
    {
      "cell_type": "code",
      "source": [
        "#model building\n",
        "model = Sequential()\n",
        "\n",
        "# LSTM layer\n",
        "model.add(LSTM(64, activation='tanh', return_sequences=True, input_shape=(X_train.shape[1], 1)))\n",
        "model.add(Dropout(0.3))\n",
        "\n",
        "# second LSTM layer\n",
        "model.add(LSTM(64, activation='tanh', return_sequences=False))\n",
        "model.add(Dropout(0.3))\n",
        "\n",
        "# fully connected layer\n",
        "model.add(Dense(64, activation='relu'))\n",
        "\n",
        "# output layer (3 classes -> Softmax)\n",
        "model.add(Dense(3, activation='softmax'))\n",
        "\n",
        "# compile the model\n",
        "model.compile(loss='categorical_crossentropy', optimizer=Adam(learning_rate=1e-4), metrics=['accuracy'])\n",
        "\n",
        "# model summary\n",
        "model.summary()\n"
      ],
      "metadata": {
        "colab": {
          "base_uri": "https://localhost:8080/",
          "height": 395
        },
        "id": "v5KTV27k7IwX",
        "outputId": "d38f8bd6-e338-4402-e2d9-b096b2914cd1",
        "trusted": true,
        "execution": {
          "iopub.status.busy": "2025-02-08T15:19:26.496699Z",
          "iopub.execute_input": "2025-02-08T15:19:26.497039Z",
          "iopub.status.idle": "2025-02-08T15:19:28.839726Z",
          "shell.execute_reply.started": "2025-02-08T15:19:26.497004Z",
          "shell.execute_reply": "2025-02-08T15:19:28.839009Z"
        }
      },
      "outputs": [
        {
          "name": "stderr",
          "text": "/usr/local/lib/python3.10/dist-packages/keras/src/layers/rnn/rnn.py:204: UserWarning: Do not pass an `input_shape`/`input_dim` argument to a layer. When using Sequential models, prefer using an `Input(shape)` object as the first layer in the model instead.\n  super().__init__(**kwargs)\n",
          "output_type": "stream"
        },
        {
          "output_type": "display_data",
          "data": {
            "text/plain": "\u001b[1mModel: \"sequential\"\u001b[0m\n",
            "text/html": "<pre style=\"white-space:pre;overflow-x:auto;line-height:normal;font-family:Menlo,'DejaVu Sans Mono',consolas,'Courier New',monospace\"><span style=\"font-weight: bold\">Model: \"sequential\"</span>\n</pre>\n"
          },
          "metadata": {}
        },
        {
          "output_type": "display_data",
          "data": {
            "text/plain": "┏━━━━━━━━━━━━━━━━━━━━━━━━━━━━━━━━━━━━━━┳━━━━━━━━━━━━━━━━━━━━━━━━━━━━━┳━━━━━━━━━━━━━━━━━┓\n┃\u001b[1m \u001b[0m\u001b[1mLayer (type)                        \u001b[0m\u001b[1m \u001b[0m┃\u001b[1m \u001b[0m\u001b[1mOutput Shape               \u001b[0m\u001b[1m \u001b[0m┃\u001b[1m \u001b[0m\u001b[1m        Param #\u001b[0m\u001b[1m \u001b[0m┃\n┡━━━━━━━━━━━━━━━━━━━━━━━━━━━━━━━━━━━━━━╇━━━━━━━━━━━━━━━━━━━━━━━━━━━━━╇━━━━━━━━━━━━━━━━━┩\n│ lstm (\u001b[38;5;33mLSTM\u001b[0m)                          │ (\u001b[38;5;45mNone\u001b[0m, \u001b[38;5;34m5000\u001b[0m, \u001b[38;5;34m64\u001b[0m)            │          \u001b[38;5;34m16,896\u001b[0m │\n├──────────────────────────────────────┼─────────────────────────────┼─────────────────┤\n│ dropout (\u001b[38;5;33mDropout\u001b[0m)                    │ (\u001b[38;5;45mNone\u001b[0m, \u001b[38;5;34m5000\u001b[0m, \u001b[38;5;34m64\u001b[0m)            │               \u001b[38;5;34m0\u001b[0m │\n├──────────────────────────────────────┼─────────────────────────────┼─────────────────┤\n│ lstm_1 (\u001b[38;5;33mLSTM\u001b[0m)                        │ (\u001b[38;5;45mNone\u001b[0m, \u001b[38;5;34m64\u001b[0m)                  │          \u001b[38;5;34m33,024\u001b[0m │\n├──────────────────────────────────────┼─────────────────────────────┼─────────────────┤\n│ dropout_1 (\u001b[38;5;33mDropout\u001b[0m)                  │ (\u001b[38;5;45mNone\u001b[0m, \u001b[38;5;34m64\u001b[0m)                  │               \u001b[38;5;34m0\u001b[0m │\n├──────────────────────────────────────┼─────────────────────────────┼─────────────────┤\n│ dense (\u001b[38;5;33mDense\u001b[0m)                        │ (\u001b[38;5;45mNone\u001b[0m, \u001b[38;5;34m64\u001b[0m)                  │           \u001b[38;5;34m4,160\u001b[0m │\n├──────────────────────────────────────┼─────────────────────────────┼─────────────────┤\n│ dense_1 (\u001b[38;5;33mDense\u001b[0m)                      │ (\u001b[38;5;45mNone\u001b[0m, \u001b[38;5;34m3\u001b[0m)                   │             \u001b[38;5;34m195\u001b[0m │\n└──────────────────────────────────────┴─────────────────────────────┴─────────────────┘\n",
            "text/html": "<pre style=\"white-space:pre;overflow-x:auto;line-height:normal;font-family:Menlo,'DejaVu Sans Mono',consolas,'Courier New',monospace\">┏━━━━━━━━━━━━━━━━━━━━━━━━━━━━━━━━━━━━━━┳━━━━━━━━━━━━━━━━━━━━━━━━━━━━━┳━━━━━━━━━━━━━━━━━┓\n┃<span style=\"font-weight: bold\"> Layer (type)                         </span>┃<span style=\"font-weight: bold\"> Output Shape                </span>┃<span style=\"font-weight: bold\">         Param # </span>┃\n┡━━━━━━━━━━━━━━━━━━━━━━━━━━━━━━━━━━━━━━╇━━━━━━━━━━━━━━━━━━━━━━━━━━━━━╇━━━━━━━━━━━━━━━━━┩\n│ lstm (<span style=\"color: #0087ff; text-decoration-color: #0087ff\">LSTM</span>)                          │ (<span style=\"color: #00d7ff; text-decoration-color: #00d7ff\">None</span>, <span style=\"color: #00af00; text-decoration-color: #00af00\">5000</span>, <span style=\"color: #00af00; text-decoration-color: #00af00\">64</span>)            │          <span style=\"color: #00af00; text-decoration-color: #00af00\">16,896</span> │\n├──────────────────────────────────────┼─────────────────────────────┼─────────────────┤\n│ dropout (<span style=\"color: #0087ff; text-decoration-color: #0087ff\">Dropout</span>)                    │ (<span style=\"color: #00d7ff; text-decoration-color: #00d7ff\">None</span>, <span style=\"color: #00af00; text-decoration-color: #00af00\">5000</span>, <span style=\"color: #00af00; text-decoration-color: #00af00\">64</span>)            │               <span style=\"color: #00af00; text-decoration-color: #00af00\">0</span> │\n├──────────────────────────────────────┼─────────────────────────────┼─────────────────┤\n│ lstm_1 (<span style=\"color: #0087ff; text-decoration-color: #0087ff\">LSTM</span>)                        │ (<span style=\"color: #00d7ff; text-decoration-color: #00d7ff\">None</span>, <span style=\"color: #00af00; text-decoration-color: #00af00\">64</span>)                  │          <span style=\"color: #00af00; text-decoration-color: #00af00\">33,024</span> │\n├──────────────────────────────────────┼─────────────────────────────┼─────────────────┤\n│ dropout_1 (<span style=\"color: #0087ff; text-decoration-color: #0087ff\">Dropout</span>)                  │ (<span style=\"color: #00d7ff; text-decoration-color: #00d7ff\">None</span>, <span style=\"color: #00af00; text-decoration-color: #00af00\">64</span>)                  │               <span style=\"color: #00af00; text-decoration-color: #00af00\">0</span> │\n├──────────────────────────────────────┼─────────────────────────────┼─────────────────┤\n│ dense (<span style=\"color: #0087ff; text-decoration-color: #0087ff\">Dense</span>)                        │ (<span style=\"color: #00d7ff; text-decoration-color: #00d7ff\">None</span>, <span style=\"color: #00af00; text-decoration-color: #00af00\">64</span>)                  │           <span style=\"color: #00af00; text-decoration-color: #00af00\">4,160</span> │\n├──────────────────────────────────────┼─────────────────────────────┼─────────────────┤\n│ dense_1 (<span style=\"color: #0087ff; text-decoration-color: #0087ff\">Dense</span>)                      │ (<span style=\"color: #00d7ff; text-decoration-color: #00d7ff\">None</span>, <span style=\"color: #00af00; text-decoration-color: #00af00\">3</span>)                   │             <span style=\"color: #00af00; text-decoration-color: #00af00\">195</span> │\n└──────────────────────────────────────┴─────────────────────────────┴─────────────────┘\n</pre>\n"
          },
          "metadata": {}
        },
        {
          "output_type": "display_data",
          "data": {
            "text/plain": "\u001b[1m Total params: \u001b[0m\u001b[38;5;34m54,275\u001b[0m (212.01 KB)\n",
            "text/html": "<pre style=\"white-space:pre;overflow-x:auto;line-height:normal;font-family:Menlo,'DejaVu Sans Mono',consolas,'Courier New',monospace\"><span style=\"font-weight: bold\"> Total params: </span><span style=\"color: #00af00; text-decoration-color: #00af00\">54,275</span> (212.01 KB)\n</pre>\n"
          },
          "metadata": {}
        },
        {
          "output_type": "display_data",
          "data": {
            "text/plain": "\u001b[1m Trainable params: \u001b[0m\u001b[38;5;34m54,275\u001b[0m (212.01 KB)\n",
            "text/html": "<pre style=\"white-space:pre;overflow-x:auto;line-height:normal;font-family:Menlo,'DejaVu Sans Mono',consolas,'Courier New',monospace\"><span style=\"font-weight: bold\"> Trainable params: </span><span style=\"color: #00af00; text-decoration-color: #00af00\">54,275</span> (212.01 KB)\n</pre>\n"
          },
          "metadata": {}
        },
        {
          "output_type": "display_data",
          "data": {
            "text/plain": "\u001b[1m Non-trainable params: \u001b[0m\u001b[38;5;34m0\u001b[0m (0.00 B)\n",
            "text/html": "<pre style=\"white-space:pre;overflow-x:auto;line-height:normal;font-family:Menlo,'DejaVu Sans Mono',consolas,'Courier New',monospace\"><span style=\"font-weight: bold\"> Non-trainable params: </span><span style=\"color: #00af00; text-decoration-color: #00af00\">0</span> (0.00 B)\n</pre>\n"
          },
          "metadata": {}
        }
      ],
      "execution_count": null
    },
    {
      "cell_type": "code",
      "source": [
        "y_train[5]"
      ],
      "metadata": {
        "colab": {
          "base_uri": "https://localhost:8080/"
        },
        "id": "SyFfPucb8qbK",
        "outputId": "440a5de3-6577-45c1-aaa3-c3dec5acd174",
        "trusted": true,
        "execution": {
          "iopub.status.busy": "2025-02-08T15:19:28.840496Z",
          "iopub.execute_input": "2025-02-08T15:19:28.840814Z",
          "iopub.status.idle": "2025-02-08T15:19:28.845786Z",
          "shell.execute_reply.started": "2025-02-08T15:19:28.840785Z",
          "shell.execute_reply": "2025-02-08T15:19:28.844985Z"
        }
      },
      "outputs": [
        {
          "execution_count": 78,
          "output_type": "execute_result",
          "data": {
            "text/plain": "array([0., 0., 1.])"
          },
          "metadata": {}
        }
      ],
      "execution_count": null
    },
    {
      "cell_type": "code",
      "source": [
        "# training the model\n",
        "history = model.fit(X_train, y_train, epochs=5, batch_size=32, validation_data=(X_test, y_test))"
      ],
      "metadata": {
        "colab": {
          "base_uri": "https://localhost:8080/",
          "height": 339
        },
        "id": "nhucORwt7pri",
        "outputId": "3501c79f-1cc4-4d1f-d99d-3d235b2adac4",
        "trusted": true,
        "execution": {
          "iopub.status.busy": "2025-02-08T15:19:28.846682Z",
          "iopub.execute_input": "2025-02-08T15:19:28.84693Z",
          "iopub.status.idle": "2025-02-08T15:30:32.30511Z",
          "shell.execute_reply.started": "2025-02-08T15:19:28.84691Z",
          "shell.execute_reply": "2025-02-08T15:30:32.304326Z"
        }
      },
      "outputs": [
        {
          "name": "stdout",
          "text": "Epoch 1/5\n\u001b[1m321/321\u001b[0m \u001b[32m━━━━━━━━━━━━━━━━━━━━\u001b[0m\u001b[37m\u001b[0m \u001b[1m136s\u001b[0m 412ms/step - accuracy: 0.6178 - loss: 0.9943 - val_accuracy: 0.6407 - val_loss: 0.8996\nEpoch 2/5\n\u001b[1m321/321\u001b[0m \u001b[32m━━━━━━━━━━━━━━━━━━━━\u001b[0m\u001b[37m\u001b[0m \u001b[1m131s\u001b[0m 410ms/step - accuracy: 0.6205 - loss: 0.9261 - val_accuracy: 0.6407 - val_loss: 0.9014\nEpoch 3/5\n\u001b[1m321/321\u001b[0m \u001b[32m━━━━━━━━━━━━━━━━━━━━\u001b[0m\u001b[37m\u001b[0m \u001b[1m131s\u001b[0m 410ms/step - accuracy: 0.6299 - loss: 0.9145 - val_accuracy: 0.6407 - val_loss: 0.8991\nEpoch 4/5\n\u001b[1m321/321\u001b[0m \u001b[32m━━━━━━━━━━━━━━━━━━━━\u001b[0m\u001b[37m\u001b[0m \u001b[1m131s\u001b[0m 410ms/step - accuracy: 0.6195 - loss: 0.9294 - val_accuracy: 0.6407 - val_loss: 0.9000\nEpoch 5/5\n\u001b[1m321/321\u001b[0m \u001b[32m━━━━━━━━━━━━━━━━━━━━\u001b[0m\u001b[37m\u001b[0m \u001b[1m131s\u001b[0m 410ms/step - accuracy: 0.6265 - loss: 0.9192 - val_accuracy: 0.6407 - val_loss: 0.9004\n",
          "output_type": "stream"
        }
      ],
      "execution_count": null
    },
    {
      "cell_type": "code",
      "source": [
        "# evaluation\n",
        "loss, accuracy = model.evaluate(X_test, y_test)\n",
        "\n",
        "print(f\"Test Loss: {loss:.4f}\")\n",
        "print(f\"Test Accuracy: {accuracy * 100:.2f}%\")\n"
      ],
      "metadata": {
        "trusted": true,
        "execution": {
          "iopub.status.busy": "2025-02-08T15:34:05.686634Z",
          "iopub.execute_input": "2025-02-08T15:34:05.686953Z",
          "iopub.status.idle": "2025-02-08T15:34:29.48926Z",
          "shell.execute_reply.started": "2025-02-08T15:34:05.686929Z",
          "shell.execute_reply": "2025-02-08T15:34:29.488465Z"
        },
        "id": "8xj5lQAwNbXv",
        "outputId": "ee6833a5-aca5-4855-dbc4-87a31d3bdfff"
      },
      "outputs": [
        {
          "name": "stdout",
          "text": "\u001b[1m138/138\u001b[0m \u001b[32m━━━━━━━━━━━━━━━━━━━━\u001b[0m\u001b[37m\u001b[0m \u001b[1m23s\u001b[0m 169ms/step - accuracy: 0.6330 - loss: 0.9090\nTest Loss: 0.9004\nTest Accuracy: 64.07%\n",
          "output_type": "stream"
        }
      ],
      "execution_count": null
    }
  ]
}